{
 "cells": [
  {
   "cell_type": "markdown",
   "metadata": {
    "colab_type": "text",
    "id": "UIn1GsFNJkjH"
   },
   "source": [
    "# Amazon Fine Food Reviews Analysis\n",
    "\n",
    "\n",
    "Data Source: https://www.kaggle.com/snap/amazon-fine-food-reviews <br>\n",
    "\n",
    "EDA: https://nycdatascience.com/blog/student-works/amazon-fine-foods-visualization/\n",
    "\n",
    "\n",
    "The Amazon Fine Food Reviews dataset consists of reviews of fine foods from Amazon.<br>\n",
    "\n",
    "Number of reviews: 568,454<br>\n",
    "Number of users: 256,059<br>\n",
    "Number of products: 74,258<br>\n",
    "Timespan: Oct 1999 - Oct 2012<br>\n",
    "Number of Attributes/Columns in data: 10 \n",
    "\n",
    "Attribute Information:\n",
    "\n",
    "1. Id\n",
    "2. ProductId - unique identifier for the product\n",
    "3. UserId - unqiue identifier for the user\n",
    "4. ProfileName\n",
    "5. HelpfulnessNumerator - number of users who found the review helpful\n",
    "6. HelpfulnessDenominator - number of users who indicated whether they found the review helpful or not\n",
    "7. Score - rating between 1 and 5\n",
    "8. Time - timestamp for the review\n",
    "9. Summary - brief summary of the review\n",
    "10. Text - text of the review\n",
    "\n",
    "\n",
    "#### Objective:\n",
    "Given a review, determine whether the review is positive (rating of 4 or 5) or negative (rating of 1 or 2).\n",
    "\n",
    "<br>\n",
    "[Q] How to determine if a review is positive or negative?<br>\n",
    "<br> \n",
    "[Ans] We could use Score/Rating. A rating of 4 or 5 can be cosnidered as a positive review. A rating of 1 or 2 can be considered as negative one. A review of rating 3 is considered nuetral and such reviews are ignored from our analysis. This is an approximate and proxy way of determining the polarity (positivity/negativity) of a review.\n",
    "\n",
    "\n"
   ]
  },
  {
   "cell_type": "markdown",
   "metadata": {
    "colab_type": "text",
    "id": "5Uf26aoLJkjJ"
   },
   "source": [
    "# [1]. Reading Data"
   ]
  },
  {
   "cell_type": "markdown",
   "metadata": {
    "colab_type": "text",
    "id": "yo-LaJg3JkjK"
   },
   "source": [
    "## [1.1] Loading the data\n",
    "\n",
    "The dataset is available in two forms\n",
    "1. .csv file\n",
    "2. SQLite Database\n",
    "\n",
    "In order to load the data, We have used the SQLITE dataset as it is easier to query the data and visualise the data efficiently.\n",
    "<br> \n",
    "\n",
    "Here as we only want to get the global sentiment of the recommendations (positive or negative), we will purposefully ignore all Scores equal to 3. If the score is above 3, then the recommendation wil be set to \"positive\". Otherwise, it will be set to \"negative\"."
   ]
  },
  {
   "cell_type": "code",
   "execution_count": 1,
   "metadata": {
    "colab": {},
    "colab_type": "code",
    "id": "dLYq3BkfJkjL"
   },
   "outputs": [],
   "source": [
    "%matplotlib inline\n",
    "import warnings\n",
    "warnings.filterwarnings(\"ignore\")\n",
    "\n",
    "\n",
    "import sqlite3\n",
    "import pandas as pd\n",
    "import numpy as np\n",
    "import nltk\n",
    "import string\n",
    "import matplotlib.pyplot as plt\n",
    "import seaborn as sns\n",
    "from sklearn.feature_extraction.text import TfidfTransformer\n",
    "from sklearn.feature_extraction.text import TfidfVectorizer\n",
    "\n",
    "from sklearn.feature_extraction.text import CountVectorizer\n",
    "from sklearn.metrics import confusion_matrix\n",
    "from sklearn import metrics\n",
    "from sklearn.metrics import roc_curve, auc\n",
    "from nltk.stem.porter import PorterStemmer\n",
    "\n",
    "import re\n",
    "# Tutorial about Python regular expressions: https://pymotw.com/2/re/\n",
    "import string\n",
    "from nltk.corpus import stopwords\n",
    "from nltk.stem import PorterStemmer\n",
    "from nltk.stem.wordnet import WordNetLemmatizer\n",
    "from gensim.models import Word2Vec\n",
    "from gensim.models import KeyedVectors\n",
    "import pickle\n",
    "from tqdm import tqdm\n",
    "import os\n",
    "from bs4 import BeautifulSoup"
   ]
  },
  {
   "cell_type": "code",
   "execution_count": 2,
   "metadata": {
    "colab": {},
    "colab_type": "code",
    "id": "rXVxnx_NJkjO",
    "outputId": "98628980-4d6e-4c53-913f-2d207932d2d0"
   },
   "outputs": [
    {
     "name": "stdout",
     "output_type": "stream",
     "text": [
      "Number of data points in our data (10000, 10)\n"
     ]
    },
    {
     "data": {
      "text/html": [
       "<div>\n",
       "<style scoped>\n",
       "    .dataframe tbody tr th:only-of-type {\n",
       "        vertical-align: middle;\n",
       "    }\n",
       "\n",
       "    .dataframe tbody tr th {\n",
       "        vertical-align: top;\n",
       "    }\n",
       "\n",
       "    .dataframe thead th {\n",
       "        text-align: right;\n",
       "    }\n",
       "</style>\n",
       "<table border=\"1\" class=\"dataframe\">\n",
       "  <thead>\n",
       "    <tr style=\"text-align: right;\">\n",
       "      <th></th>\n",
       "      <th>Id</th>\n",
       "      <th>ProductId</th>\n",
       "      <th>UserId</th>\n",
       "      <th>ProfileName</th>\n",
       "      <th>HelpfulnessNumerator</th>\n",
       "      <th>HelpfulnessDenominator</th>\n",
       "      <th>Score</th>\n",
       "      <th>Time</th>\n",
       "      <th>Summary</th>\n",
       "      <th>Text</th>\n",
       "    </tr>\n",
       "  </thead>\n",
       "  <tbody>\n",
       "    <tr>\n",
       "      <th>0</th>\n",
       "      <td>1</td>\n",
       "      <td>B001E4KFG0</td>\n",
       "      <td>A3SGXH7AUHU8GW</td>\n",
       "      <td>delmartian</td>\n",
       "      <td>1</td>\n",
       "      <td>1</td>\n",
       "      <td>1</td>\n",
       "      <td>1303862400</td>\n",
       "      <td>Good Quality Dog Food</td>\n",
       "      <td>I have bought several of the Vitality canned d...</td>\n",
       "    </tr>\n",
       "    <tr>\n",
       "      <th>1</th>\n",
       "      <td>2</td>\n",
       "      <td>B00813GRG4</td>\n",
       "      <td>A1D87F6ZCVE5NK</td>\n",
       "      <td>dll pa</td>\n",
       "      <td>0</td>\n",
       "      <td>0</td>\n",
       "      <td>0</td>\n",
       "      <td>1346976000</td>\n",
       "      <td>Not as Advertised</td>\n",
       "      <td>Product arrived labeled as Jumbo Salted Peanut...</td>\n",
       "    </tr>\n",
       "    <tr>\n",
       "      <th>2</th>\n",
       "      <td>3</td>\n",
       "      <td>B000LQOCH0</td>\n",
       "      <td>ABXLMWJIXXAIN</td>\n",
       "      <td>Natalia Corres \"Natalia Corres\"</td>\n",
       "      <td>1</td>\n",
       "      <td>1</td>\n",
       "      <td>1</td>\n",
       "      <td>1219017600</td>\n",
       "      <td>\"Delight\" says it all</td>\n",
       "      <td>This is a confection that has been around a fe...</td>\n",
       "    </tr>\n",
       "  </tbody>\n",
       "</table>\n",
       "</div>"
      ],
      "text/plain": [
       "   Id   ProductId          UserId                      ProfileName  \\\n",
       "0   1  B001E4KFG0  A3SGXH7AUHU8GW                       delmartian   \n",
       "1   2  B00813GRG4  A1D87F6ZCVE5NK                           dll pa   \n",
       "2   3  B000LQOCH0   ABXLMWJIXXAIN  Natalia Corres \"Natalia Corres\"   \n",
       "\n",
       "   HelpfulnessNumerator  HelpfulnessDenominator  Score        Time  \\\n",
       "0                     1                       1      1  1303862400   \n",
       "1                     0                       0      0  1346976000   \n",
       "2                     1                       1      1  1219017600   \n",
       "\n",
       "                 Summary                                               Text  \n",
       "0  Good Quality Dog Food  I have bought several of the Vitality canned d...  \n",
       "1      Not as Advertised  Product arrived labeled as Jumbo Salted Peanut...  \n",
       "2  \"Delight\" says it all  This is a confection that has been around a fe...  "
      ]
     },
     "execution_count": 2,
     "metadata": {},
     "output_type": "execute_result"
    }
   ],
   "source": [
    "# using SQLite Table to read data.\n",
    "con = sqlite3.connect('database.sqlite') \n",
    "filtered_data = pd.read_sql_query(\"\"\" SELECT * FROM Reviews WHERE Score != 3 LIMIT 10000\"\"\", con) \n",
    "\n",
    "# Give reviews with Score>3 a positive rating(1), and reviews with a score<3 a negative rating(0).\n",
    "def partition(x):\n",
    "    if x < 3:\n",
    "        return 0\n",
    "    return 1\n",
    "\n",
    "#changing reviews with score less than 3 to be positive and vice-versa\n",
    "actualScore = filtered_data['Score']\n",
    "positiveNegative = actualScore.map(partition) \n",
    "filtered_data['Score'] = positiveNegative\n",
    "print(\"Number of data points in our data\", filtered_data.shape)\n",
    "filtered_data.head(3)"
   ]
  },
  {
   "cell_type": "code",
   "execution_count": 3,
   "metadata": {
    "colab": {},
    "colab_type": "code",
    "id": "ZLasp3QxJkjS"
   },
   "outputs": [],
   "source": [
    "display = pd.read_sql_query(\"\"\"\n",
    "SELECT UserId, ProductId, ProfileName, Time, Score, Text, COUNT(*)\n",
    "FROM Reviews\n",
    "GROUP BY UserId\n",
    "HAVING COUNT(*)>1\n",
    "\"\"\", con)"
   ]
  },
  {
   "cell_type": "code",
   "execution_count": 4,
   "metadata": {
    "colab": {},
    "colab_type": "code",
    "id": "pHzk_lUkJkjW",
    "outputId": "3461f626-dc72-4b0d-af37-c3625e7e81b2",
    "scrolled": true
   },
   "outputs": [
    {
     "name": "stdout",
     "output_type": "stream",
     "text": [
      "(80668, 7)\n"
     ]
    },
    {
     "data": {
      "text/html": [
       "<div>\n",
       "<style scoped>\n",
       "    .dataframe tbody tr th:only-of-type {\n",
       "        vertical-align: middle;\n",
       "    }\n",
       "\n",
       "    .dataframe tbody tr th {\n",
       "        vertical-align: top;\n",
       "    }\n",
       "\n",
       "    .dataframe thead th {\n",
       "        text-align: right;\n",
       "    }\n",
       "</style>\n",
       "<table border=\"1\" class=\"dataframe\">\n",
       "  <thead>\n",
       "    <tr style=\"text-align: right;\">\n",
       "      <th></th>\n",
       "      <th>UserId</th>\n",
       "      <th>ProductId</th>\n",
       "      <th>ProfileName</th>\n",
       "      <th>Time</th>\n",
       "      <th>Score</th>\n",
       "      <th>Text</th>\n",
       "      <th>COUNT(*)</th>\n",
       "    </tr>\n",
       "  </thead>\n",
       "  <tbody>\n",
       "    <tr>\n",
       "      <th>0</th>\n",
       "      <td>#oc-R115TNMSPFT9I7</td>\n",
       "      <td>B007Y59HVM</td>\n",
       "      <td>Breyton</td>\n",
       "      <td>1331510400</td>\n",
       "      <td>2</td>\n",
       "      <td>Overall its just OK when considering the price...</td>\n",
       "      <td>2</td>\n",
       "    </tr>\n",
       "    <tr>\n",
       "      <th>1</th>\n",
       "      <td>#oc-R11D9D7SHXIJB9</td>\n",
       "      <td>B005HG9ET0</td>\n",
       "      <td>Louis E. Emory \"hoppy\"</td>\n",
       "      <td>1342396800</td>\n",
       "      <td>5</td>\n",
       "      <td>My wife has recurring extreme muscle spasms, u...</td>\n",
       "      <td>3</td>\n",
       "    </tr>\n",
       "    <tr>\n",
       "      <th>2</th>\n",
       "      <td>#oc-R11DNU2NBKQ23Z</td>\n",
       "      <td>B007Y59HVM</td>\n",
       "      <td>Kim Cieszykowski</td>\n",
       "      <td>1348531200</td>\n",
       "      <td>1</td>\n",
       "      <td>This coffee is horrible and unfortunately not ...</td>\n",
       "      <td>2</td>\n",
       "    </tr>\n",
       "    <tr>\n",
       "      <th>3</th>\n",
       "      <td>#oc-R11O5J5ZVQE25C</td>\n",
       "      <td>B005HG9ET0</td>\n",
       "      <td>Penguin Chick</td>\n",
       "      <td>1346889600</td>\n",
       "      <td>5</td>\n",
       "      <td>This will be the bottle that you grab from the...</td>\n",
       "      <td>3</td>\n",
       "    </tr>\n",
       "    <tr>\n",
       "      <th>4</th>\n",
       "      <td>#oc-R12KPBODL2B5ZD</td>\n",
       "      <td>B007OSBE1U</td>\n",
       "      <td>Christopher P. Presta</td>\n",
       "      <td>1348617600</td>\n",
       "      <td>1</td>\n",
       "      <td>I didnt like this coffee. Instead of telling y...</td>\n",
       "      <td>2</td>\n",
       "    </tr>\n",
       "  </tbody>\n",
       "</table>\n",
       "</div>"
      ],
      "text/plain": [
       "               UserId   ProductId             ProfileName        Time  Score  \\\n",
       "0  #oc-R115TNMSPFT9I7  B007Y59HVM                 Breyton  1331510400      2   \n",
       "1  #oc-R11D9D7SHXIJB9  B005HG9ET0  Louis E. Emory \"hoppy\"  1342396800      5   \n",
       "2  #oc-R11DNU2NBKQ23Z  B007Y59HVM        Kim Cieszykowski  1348531200      1   \n",
       "3  #oc-R11O5J5ZVQE25C  B005HG9ET0           Penguin Chick  1346889600      5   \n",
       "4  #oc-R12KPBODL2B5ZD  B007OSBE1U   Christopher P. Presta  1348617600      1   \n",
       "\n",
       "                                                Text  COUNT(*)  \n",
       "0  Overall its just OK when considering the price...         2  \n",
       "1  My wife has recurring extreme muscle spasms, u...         3  \n",
       "2  This coffee is horrible and unfortunately not ...         2  \n",
       "3  This will be the bottle that you grab from the...         3  \n",
       "4  I didnt like this coffee. Instead of telling y...         2  "
      ]
     },
     "execution_count": 4,
     "metadata": {},
     "output_type": "execute_result"
    }
   ],
   "source": [
    "print(display.shape)\n",
    "display.head()"
   ]
  },
  {
   "cell_type": "code",
   "execution_count": 5,
   "metadata": {
    "colab": {},
    "colab_type": "code",
    "id": "HUsn2lg8Jkjb",
    "outputId": "76e2e98e-b728-46ba-d619-c2008134a3b7"
   },
   "outputs": [
    {
     "data": {
      "text/html": [
       "<div>\n",
       "<style scoped>\n",
       "    .dataframe tbody tr th:only-of-type {\n",
       "        vertical-align: middle;\n",
       "    }\n",
       "\n",
       "    .dataframe tbody tr th {\n",
       "        vertical-align: top;\n",
       "    }\n",
       "\n",
       "    .dataframe thead th {\n",
       "        text-align: right;\n",
       "    }\n",
       "</style>\n",
       "<table border=\"1\" class=\"dataframe\">\n",
       "  <thead>\n",
       "    <tr style=\"text-align: right;\">\n",
       "      <th></th>\n",
       "      <th>UserId</th>\n",
       "      <th>ProductId</th>\n",
       "      <th>ProfileName</th>\n",
       "      <th>Time</th>\n",
       "      <th>Score</th>\n",
       "      <th>Text</th>\n",
       "      <th>COUNT(*)</th>\n",
       "    </tr>\n",
       "  </thead>\n",
       "  <tbody>\n",
       "    <tr>\n",
       "      <th>80638</th>\n",
       "      <td>AZY10LLTJ71NX</td>\n",
       "      <td>B006P7E5ZI</td>\n",
       "      <td>undertheshrine \"undertheshrine\"</td>\n",
       "      <td>1334707200</td>\n",
       "      <td>5</td>\n",
       "      <td>I was recommended to try green tea extract to ...</td>\n",
       "      <td>5</td>\n",
       "    </tr>\n",
       "  </tbody>\n",
       "</table>\n",
       "</div>"
      ],
      "text/plain": [
       "              UserId   ProductId                      ProfileName        Time  \\\n",
       "80638  AZY10LLTJ71NX  B006P7E5ZI  undertheshrine \"undertheshrine\"  1334707200   \n",
       "\n",
       "       Score                                               Text  COUNT(*)  \n",
       "80638      5  I was recommended to try green tea extract to ...         5  "
      ]
     },
     "execution_count": 5,
     "metadata": {},
     "output_type": "execute_result"
    }
   ],
   "source": [
    "display[display['UserId']=='AZY10LLTJ71NX']"
   ]
  },
  {
   "cell_type": "code",
   "execution_count": 6,
   "metadata": {
    "colab": {},
    "colab_type": "code",
    "id": "CyPhzHZKJkjf",
    "outputId": "28b60f13-e2e6-4960-e5ba-3467e16dbd03"
   },
   "outputs": [
    {
     "data": {
      "text/plain": [
       "393063"
      ]
     },
     "execution_count": 6,
     "metadata": {},
     "output_type": "execute_result"
    }
   ],
   "source": [
    "display['COUNT(*)'].sum()"
   ]
  },
  {
   "cell_type": "markdown",
   "metadata": {
    "colab_type": "text",
    "id": "y22fy_WtJkji"
   },
   "source": [
    "#  [2] Exploratory Data Analysis"
   ]
  },
  {
   "cell_type": "markdown",
   "metadata": {
    "colab_type": "text",
    "id": "ZqpW3tWPJkjl"
   },
   "source": [
    "## [2.1] Data Cleaning: Deduplication\n",
    "\n",
    "It is observed (as shown in the table below) that the reviews data had many duplicate entries. Hence it was necessary to remove duplicates in order to get unbiased results for the analysis of the data.  Following is an example:"
   ]
  },
  {
   "cell_type": "code",
   "execution_count": 7,
   "metadata": {
    "colab": {},
    "colab_type": "code",
    "id": "fmlu_oooJkjl",
    "outputId": "9ae82f65-ed65-425a-ad4d-b96091e37940",
    "scrolled": false
   },
   "outputs": [
    {
     "data": {
      "text/html": [
       "<div>\n",
       "<style scoped>\n",
       "    .dataframe tbody tr th:only-of-type {\n",
       "        vertical-align: middle;\n",
       "    }\n",
       "\n",
       "    .dataframe tbody tr th {\n",
       "        vertical-align: top;\n",
       "    }\n",
       "\n",
       "    .dataframe thead th {\n",
       "        text-align: right;\n",
       "    }\n",
       "</style>\n",
       "<table border=\"1\" class=\"dataframe\">\n",
       "  <thead>\n",
       "    <tr style=\"text-align: right;\">\n",
       "      <th></th>\n",
       "      <th>Id</th>\n",
       "      <th>ProductId</th>\n",
       "      <th>UserId</th>\n",
       "      <th>ProfileName</th>\n",
       "      <th>HelpfulnessNumerator</th>\n",
       "      <th>HelpfulnessDenominator</th>\n",
       "      <th>Score</th>\n",
       "      <th>Time</th>\n",
       "      <th>Summary</th>\n",
       "      <th>Text</th>\n",
       "    </tr>\n",
       "  </thead>\n",
       "  <tbody>\n",
       "    <tr>\n",
       "      <th>0</th>\n",
       "      <td>78445</td>\n",
       "      <td>B000HDL1RQ</td>\n",
       "      <td>AR5J8UI46CURR</td>\n",
       "      <td>Geetha Krishnan</td>\n",
       "      <td>2</td>\n",
       "      <td>2</td>\n",
       "      <td>5</td>\n",
       "      <td>1199577600</td>\n",
       "      <td>LOACKER QUADRATINI VANILLA WAFERS</td>\n",
       "      <td>DELICIOUS WAFERS. I FIND THAT EUROPEAN WAFERS ...</td>\n",
       "    </tr>\n",
       "    <tr>\n",
       "      <th>1</th>\n",
       "      <td>138317</td>\n",
       "      <td>B000HDOPYC</td>\n",
       "      <td>AR5J8UI46CURR</td>\n",
       "      <td>Geetha Krishnan</td>\n",
       "      <td>2</td>\n",
       "      <td>2</td>\n",
       "      <td>5</td>\n",
       "      <td>1199577600</td>\n",
       "      <td>LOACKER QUADRATINI VANILLA WAFERS</td>\n",
       "      <td>DELICIOUS WAFERS. I FIND THAT EUROPEAN WAFERS ...</td>\n",
       "    </tr>\n",
       "    <tr>\n",
       "      <th>2</th>\n",
       "      <td>138277</td>\n",
       "      <td>B000HDOPYM</td>\n",
       "      <td>AR5J8UI46CURR</td>\n",
       "      <td>Geetha Krishnan</td>\n",
       "      <td>2</td>\n",
       "      <td>2</td>\n",
       "      <td>5</td>\n",
       "      <td>1199577600</td>\n",
       "      <td>LOACKER QUADRATINI VANILLA WAFERS</td>\n",
       "      <td>DELICIOUS WAFERS. I FIND THAT EUROPEAN WAFERS ...</td>\n",
       "    </tr>\n",
       "    <tr>\n",
       "      <th>3</th>\n",
       "      <td>73791</td>\n",
       "      <td>B000HDOPZG</td>\n",
       "      <td>AR5J8UI46CURR</td>\n",
       "      <td>Geetha Krishnan</td>\n",
       "      <td>2</td>\n",
       "      <td>2</td>\n",
       "      <td>5</td>\n",
       "      <td>1199577600</td>\n",
       "      <td>LOACKER QUADRATINI VANILLA WAFERS</td>\n",
       "      <td>DELICIOUS WAFERS. I FIND THAT EUROPEAN WAFERS ...</td>\n",
       "    </tr>\n",
       "    <tr>\n",
       "      <th>4</th>\n",
       "      <td>155049</td>\n",
       "      <td>B000PAQ75C</td>\n",
       "      <td>AR5J8UI46CURR</td>\n",
       "      <td>Geetha Krishnan</td>\n",
       "      <td>2</td>\n",
       "      <td>2</td>\n",
       "      <td>5</td>\n",
       "      <td>1199577600</td>\n",
       "      <td>LOACKER QUADRATINI VANILLA WAFERS</td>\n",
       "      <td>DELICIOUS WAFERS. I FIND THAT EUROPEAN WAFERS ...</td>\n",
       "    </tr>\n",
       "  </tbody>\n",
       "</table>\n",
       "</div>"
      ],
      "text/plain": [
       "       Id   ProductId         UserId      ProfileName  HelpfulnessNumerator  \\\n",
       "0   78445  B000HDL1RQ  AR5J8UI46CURR  Geetha Krishnan                     2   \n",
       "1  138317  B000HDOPYC  AR5J8UI46CURR  Geetha Krishnan                     2   \n",
       "2  138277  B000HDOPYM  AR5J8UI46CURR  Geetha Krishnan                     2   \n",
       "3   73791  B000HDOPZG  AR5J8UI46CURR  Geetha Krishnan                     2   \n",
       "4  155049  B000PAQ75C  AR5J8UI46CURR  Geetha Krishnan                     2   \n",
       "\n",
       "   HelpfulnessDenominator  Score        Time  \\\n",
       "0                       2      5  1199577600   \n",
       "1                       2      5  1199577600   \n",
       "2                       2      5  1199577600   \n",
       "3                       2      5  1199577600   \n",
       "4                       2      5  1199577600   \n",
       "\n",
       "                             Summary  \\\n",
       "0  LOACKER QUADRATINI VANILLA WAFERS   \n",
       "1  LOACKER QUADRATINI VANILLA WAFERS   \n",
       "2  LOACKER QUADRATINI VANILLA WAFERS   \n",
       "3  LOACKER QUADRATINI VANILLA WAFERS   \n",
       "4  LOACKER QUADRATINI VANILLA WAFERS   \n",
       "\n",
       "                                                Text  \n",
       "0  DELICIOUS WAFERS. I FIND THAT EUROPEAN WAFERS ...  \n",
       "1  DELICIOUS WAFERS. I FIND THAT EUROPEAN WAFERS ...  \n",
       "2  DELICIOUS WAFERS. I FIND THAT EUROPEAN WAFERS ...  \n",
       "3  DELICIOUS WAFERS. I FIND THAT EUROPEAN WAFERS ...  \n",
       "4  DELICIOUS WAFERS. I FIND THAT EUROPEAN WAFERS ...  "
      ]
     },
     "execution_count": 7,
     "metadata": {},
     "output_type": "execute_result"
    }
   ],
   "source": [
    "display= pd.read_sql_query(\"\"\"\n",
    "SELECT *\n",
    "FROM Reviews\n",
    "WHERE Score != 3 AND UserId=\"AR5J8UI46CURR\"\n",
    "ORDER BY ProductID\n",
    "\"\"\", con)\n",
    "display.head()"
   ]
  },
  {
   "cell_type": "markdown",
   "metadata": {
    "colab_type": "text",
    "id": "pvogJHEyJkjq"
   },
   "source": [
    "As it can be seen above that same user has multiple reviews with same values for HelpfulnessNumerator, HelpfulnessDenominator, Score, Time, Summary and Text and on doing analysis it was found that <br>\n",
    "<br> \n",
    "ProductId=B000HDOPZG was Loacker Quadratini Vanilla Wafer Cookies, 8.82-Ounce Packages (Pack of 8)<br>\n",
    "<br> \n",
    "ProductId=B000HDL1RQ was Loacker Quadratini Lemon Wafer Cookies, 8.82-Ounce Packages (Pack of 8) and so on<br>\n",
    "\n",
    "It was inferred after analysis that reviews with same parameters other than ProductId belonged to the same product just having different flavour or quantity. Hence in order to reduce redundancy it was decided to eliminate the rows having same parameters.<br>\n",
    "\n",
    "The method used for the same was that we first sort the data according to ProductId and then just keep the first similar product review and delelte the others. for eg. in the above just the review for ProductId=B000HDL1RQ remains. This method ensures that there is only one representative for each product and deduplication without sorting would lead to possibility of different representatives still existing for the same product."
   ]
  },
  {
   "cell_type": "code",
   "execution_count": 8,
   "metadata": {
    "colab": {},
    "colab_type": "code",
    "id": "LAWOrfBaJkjr"
   },
   "outputs": [],
   "source": [
    "#Sorting data according to ProductId in ascending order\n",
    "sorted_data=filtered_data.sort_values('ProductId', axis=0, ascending=True, inplace=False, kind='quicksort', na_position='last')"
   ]
  },
  {
   "cell_type": "code",
   "execution_count": 9,
   "metadata": {
    "colab": {},
    "colab_type": "code",
    "id": "dfaQob28Jkju",
    "outputId": "21104e4f-cd18-4353-a54a-5b4638fc552b"
   },
   "outputs": [
    {
     "data": {
      "text/plain": [
       "(9564, 10)"
      ]
     },
     "execution_count": 9,
     "metadata": {},
     "output_type": "execute_result"
    }
   ],
   "source": [
    "#Deduplication of entries\n",
    "final=sorted_data.drop_duplicates(subset={\"UserId\",\"ProfileName\",\"Time\",\"Text\"}, keep='first', inplace=False)\n",
    "final.shape"
   ]
  },
  {
   "cell_type": "code",
   "execution_count": 10,
   "metadata": {
    "colab": {},
    "colab_type": "code",
    "id": "9QVxT6oxJkjx",
    "outputId": "f292b9fe-6065-4979-830d-c79bc6785a3d"
   },
   "outputs": [
    {
     "data": {
      "text/plain": [
       "95.64"
      ]
     },
     "execution_count": 10,
     "metadata": {},
     "output_type": "execute_result"
    }
   ],
   "source": [
    "#Checking to see how much % of data still remains\n",
    "(final['Id'].size*1.0)/(filtered_data['Id'].size*1.0)*100"
   ]
  },
  {
   "cell_type": "markdown",
   "metadata": {
    "colab_type": "text",
    "id": "qVaxONHLJkj1"
   },
   "source": [
    "<b>Observation:-</b> It was also seen that in two rows given below the value of HelpfulnessNumerator is greater than HelpfulnessDenominator which is not practically possible hence these two rows too are removed from calcualtions"
   ]
  },
  {
   "cell_type": "code",
   "execution_count": 11,
   "metadata": {
    "colab": {},
    "colab_type": "code",
    "id": "vLoqfOjcJkj1",
    "outputId": "db3448f8-fbda-4205-a7cc-5048e0f1fd19"
   },
   "outputs": [
    {
     "data": {
      "text/html": [
       "<div>\n",
       "<style scoped>\n",
       "    .dataframe tbody tr th:only-of-type {\n",
       "        vertical-align: middle;\n",
       "    }\n",
       "\n",
       "    .dataframe tbody tr th {\n",
       "        vertical-align: top;\n",
       "    }\n",
       "\n",
       "    .dataframe thead th {\n",
       "        text-align: right;\n",
       "    }\n",
       "</style>\n",
       "<table border=\"1\" class=\"dataframe\">\n",
       "  <thead>\n",
       "    <tr style=\"text-align: right;\">\n",
       "      <th></th>\n",
       "      <th>Id</th>\n",
       "      <th>ProductId</th>\n",
       "      <th>UserId</th>\n",
       "      <th>ProfileName</th>\n",
       "      <th>HelpfulnessNumerator</th>\n",
       "      <th>HelpfulnessDenominator</th>\n",
       "      <th>Score</th>\n",
       "      <th>Time</th>\n",
       "      <th>Summary</th>\n",
       "      <th>Text</th>\n",
       "    </tr>\n",
       "  </thead>\n",
       "  <tbody>\n",
       "    <tr>\n",
       "      <th>0</th>\n",
       "      <td>64422</td>\n",
       "      <td>B000MIDROQ</td>\n",
       "      <td>A161DK06JJMCYF</td>\n",
       "      <td>J. E. Stephens \"Jeanne\"</td>\n",
       "      <td>3</td>\n",
       "      <td>1</td>\n",
       "      <td>5</td>\n",
       "      <td>1224892800</td>\n",
       "      <td>Bought This for My Son at College</td>\n",
       "      <td>My son loves spaghetti so I didn't hesitate or...</td>\n",
       "    </tr>\n",
       "    <tr>\n",
       "      <th>1</th>\n",
       "      <td>44737</td>\n",
       "      <td>B001EQ55RW</td>\n",
       "      <td>A2V0I904FH7ABY</td>\n",
       "      <td>Ram</td>\n",
       "      <td>3</td>\n",
       "      <td>2</td>\n",
       "      <td>4</td>\n",
       "      <td>1212883200</td>\n",
       "      <td>Pure cocoa taste with crunchy almonds inside</td>\n",
       "      <td>It was almost a 'love at first bite' - the per...</td>\n",
       "    </tr>\n",
       "  </tbody>\n",
       "</table>\n",
       "</div>"
      ],
      "text/plain": [
       "      Id   ProductId          UserId              ProfileName  \\\n",
       "0  64422  B000MIDROQ  A161DK06JJMCYF  J. E. Stephens \"Jeanne\"   \n",
       "1  44737  B001EQ55RW  A2V0I904FH7ABY                      Ram   \n",
       "\n",
       "   HelpfulnessNumerator  HelpfulnessDenominator  Score        Time  \\\n",
       "0                     3                       1      5  1224892800   \n",
       "1                     3                       2      4  1212883200   \n",
       "\n",
       "                                        Summary  \\\n",
       "0             Bought This for My Son at College   \n",
       "1  Pure cocoa taste with crunchy almonds inside   \n",
       "\n",
       "                                                Text  \n",
       "0  My son loves spaghetti so I didn't hesitate or...  \n",
       "1  It was almost a 'love at first bite' - the per...  "
      ]
     },
     "execution_count": 11,
     "metadata": {},
     "output_type": "execute_result"
    }
   ],
   "source": [
    "display= pd.read_sql_query(\"\"\"\n",
    "SELECT *\n",
    "FROM Reviews\n",
    "WHERE Score != 3 AND Id=44737 OR Id=64422\n",
    "ORDER BY ProductID\n",
    "\"\"\", con)\n",
    "\n",
    "display.head()"
   ]
  },
  {
   "cell_type": "code",
   "execution_count": 12,
   "metadata": {
    "colab": {},
    "colab_type": "code",
    "id": "f_185ozFJkj9"
   },
   "outputs": [],
   "source": [
    "final=final[final.HelpfulnessNumerator<=final.HelpfulnessDenominator]"
   ]
  },
  {
   "cell_type": "code",
   "execution_count": 13,
   "metadata": {
    "colab": {},
    "colab_type": "code",
    "id": "CofRySJyJkkC",
    "outputId": "a06c52f6-66a9-429b-8a5e-e20259f0bb21"
   },
   "outputs": [
    {
     "name": "stdout",
     "output_type": "stream",
     "text": [
      "(9564, 10)\n"
     ]
    },
    {
     "data": {
      "text/plain": [
       "1    7976\n",
       "0    1588\n",
       "Name: Score, dtype: int64"
      ]
     },
     "execution_count": 13,
     "metadata": {},
     "output_type": "execute_result"
    }
   ],
   "source": [
    "#Before starting the next phase of preprocessing lets see the number of entries left\n",
    "print(final.shape)\n",
    "\n",
    "#How many positive and negative reviews are present in our dataset?\n",
    "final['Score'].value_counts()"
   ]
  },
  {
   "cell_type": "markdown",
   "metadata": {
    "colab_type": "text",
    "id": "tzpbt9aOJkkJ"
   },
   "source": [
    "## [3.1].  Preprocessing Review Text\n",
    "\n",
    "Now that we have finished deduplication our data requires some preprocessing before we go on further with analysis and making the prediction model.\n",
    "\n",
    "Hence in the Preprocessing phase we do the following in the order below:-\n",
    "\n",
    "1. Begin by removing the html tags\n",
    "2. Remove any punctuations or limited set of special characters like , or . or # etc.\n",
    "3. Check if the word is made up of english letters and is not alpha-numeric\n",
    "4. Check to see if the length of the word is greater than 2 (as it was researched that there is no adjective in 2-letters)\n",
    "5. Convert the word to lowercase\n",
    "6. Remove Stopwords\n",
    "7. Finally Snowball Stemming the word (it was obsereved to be better than Porter Stemming)<br>\n",
    "\n",
    "After which we collect the words used to describe positive and negative reviews"
   ]
  },
  {
   "cell_type": "code",
   "execution_count": 17,
   "metadata": {
    "colab": {},
    "colab_type": "code",
    "id": "HYBbtiCMJkkW"
   },
   "outputs": [],
   "source": [
    "# https://stackoverflow.com/a/47091490/4084039\n",
    "import re\n",
    "def decontracted(phrase):\n",
    "    # specific\n",
    "    phrase = re.sub(r\"won't\", \"will not\", phrase)\n",
    "    phrase = re.sub(r\"can\\'t\", \"can not\", phrase)\n",
    "\n",
    "    # general\n",
    "    phrase = re.sub(r\"n\\'t\", \" not\", phrase)\n",
    "    phrase = re.sub(r\"\\'re\", \" are\", phrase)\n",
    "    phrase = re.sub(r\"\\'s\", \" is\", phrase)\n",
    "    phrase = re.sub(r\"\\'d\", \" would\", phrase)\n",
    "    phrase = re.sub(r\"\\'ll\", \" will\", phrase)\n",
    "    phrase = re.sub(r\"\\'t\", \" not\", phrase)\n",
    "    phrase = re.sub(r\"\\'ve\", \" have\", phrase)\n",
    "    phrase = re.sub(r\"\\'m\", \" am\", phrase)\n",
    "    return phrase"
   ]
  },
  {
   "cell_type": "code",
   "execution_count": 21,
   "metadata": {
    "colab": {},
    "colab_type": "code",
    "id": "bvEoXB5NJkkk"
   },
   "outputs": [],
   "source": [
    "stopwords= set(['br', 'the', 'i', 'me', 'my', 'myself', 'we', 'our', 'ours', 'ourselves', 'you', \"you're\", \"you've\",\\\n",
    "            \"you'll\", \"you'd\", 'your', 'yours', 'yourself', 'yourselves', 'he', 'him', 'his', 'himself', \\\n",
    "            'she', \"she's\", 'her', 'hers', 'herself', 'it', \"it's\", 'its', 'itself', 'they', 'them', 'their',\\\n",
    "            'theirs', 'themselves', 'what', 'which', 'who', 'whom', 'this', 'that', \"that'll\", 'these', 'those', \\\n",
    "            'am', 'is', 'are', 'was', 'were', 'be', 'been', 'being', 'have', 'has', 'had', 'having', 'do', 'does', \\\n",
    "            'did', 'doing', 'a', 'an', 'the', 'and', 'but', 'if', 'or', 'because', 'as', 'until', 'while', 'of', \\\n",
    "            'at', 'by', 'for', 'with', 'about', 'against', 'between', 'into', 'through', 'during', 'before', 'after',\\\n",
    "            'above', 'below', 'to', 'from', 'up', 'down', 'in', 'out', 'on', 'off', 'over', 'under', 'again', 'further',\\\n",
    "            'then', 'once', 'here', 'there', 'when', 'where', 'why', 'how', 'all', 'any', 'both', 'each', 'few', 'more',\\\n",
    "            'most', 'other', 'some', 'such', 'only', 'own', 'same', 'so', 'than', 'too', 'very', \\\n",
    "            's', 't', 'can', 'will', 'just', 'don', \"don't\", 'should', \"should've\", 'now', 'd', 'll', 'm', 'o', 're', \\\n",
    "            've', 'y', 'ain', 'aren', \"aren't\", 'couldn', \"couldn't\", 'didn', \"didn't\", 'doesn', \"doesn't\", 'hadn',\\\n",
    "            \"hadn't\", 'hasn', \"hasn't\", 'haven', \"haven't\", 'isn', \"isn't\", 'ma', 'mightn', \"mightn't\", 'mustn',\\\n",
    "            \"mustn't\", 'needn', \"needn't\", 'shan', \"shan't\", 'shouldn', \"shouldn't\", 'wasn', \"wasn't\", 'weren', \"weren't\", \\\n",
    "            'won', \"won't\", 'wouldn', \"wouldn't\"])"
   ]
  },
  {
   "cell_type": "code",
   "execution_count": 22,
   "metadata": {
    "colab": {},
    "colab_type": "code",
    "id": "0j3jfqWCJkko",
    "outputId": "c83c59c5-fe17-4ad2-d43f-0b0947a6e6ba"
   },
   "outputs": [
    {
     "name": "stderr",
     "output_type": "stream",
     "text": [
      "100%|████████████████████████████████████████████████████████████████████████████| 9564/9564 [00:07<00:00, 1342.71it/s]\n"
     ]
    }
   ],
   "source": [
    "# Combining all the above stundents \n",
    "from tqdm import tqdm\n",
    "preprocessed_reviews = []\n",
    "# tqdm is for printing the status bar\n",
    "for sentance in tqdm(final['Text'].values):\n",
    "    sentance = re.sub(r\"http\\S+\", \"\", sentance)\n",
    "    sentance = BeautifulSoup(sentance, 'lxml').get_text()\n",
    "    sentance = decontracted(sentance)\n",
    "    sentance = re.sub(\"\\S*\\d\\S*\", \"\", sentance).strip()\n",
    "    sentance = re.sub('[^A-Za-z]+', ' ', sentance)\n",
    "    # https://gist.github.com/sebleier/554280\n",
    "    sentance = ' '.join(e.lower() for e in sentance.split() if e.lower() not in stopwords)\n",
    "    preprocessed_reviews.append(sentance.strip())"
   ]
  },
  {
   "cell_type": "code",
   "execution_count": 23,
   "metadata": {
    "colab": {},
    "colab_type": "code",
    "id": "nS_7EeV7Jkkr",
    "outputId": "4d4cd05e-0730-4e52-dc30-eb97014871dd"
   },
   "outputs": [
    {
     "data": {
      "text/plain": [
       "'chips truly amazing light crisp great tasting nice texture natural low fat sodium need say recently bought bag regular grocery store could not belive taste buds excited saw amazon decided buy case'"
      ]
     },
     "execution_count": 23,
     "metadata": {},
     "output_type": "execute_result"
    }
   ],
   "source": [
    "preprocessed_reviews[1500]"
   ]
  },
  {
   "cell_type": "code",
   "execution_count": null,
   "metadata": {},
   "outputs": [],
   "source": [
    "data = preprocessed_reviews"
   ]
  },
  {
   "cell_type": "markdown",
   "metadata": {},
   "source": [
    "# Creating the vocabolary:"
   ]
  },
  {
   "cell_type": "code",
   "execution_count": 32,
   "metadata": {},
   "outputs": [],
   "source": [
    "#data = [\"this dog is really fast\",\"dog barks on the strangers\",\"I like dog who barks on strangers\"]\n",
    "words = []\n",
    "all_words = []\n",
    "for k in data:\n",
    "    for word in k.split(' '):\n",
    "        if word not in words:\n",
    "            words.append(word)    #it will contain all the unique word in the dataset\n",
    "        all_words.append(word)  #it will containing all the words in the dataset"
   ]
  },
  {
   "cell_type": "code",
   "execution_count": 30,
   "metadata": {},
   "outputs": [
    {
     "name": "stdout",
     "output_type": "stream",
     "text": [
      "Total number of unique words in thhe dataset:  12\n",
      "Total words in the dataset:  17\n"
     ]
    }
   ],
   "source": [
    "print(\"Total number of unique words in thhe dataset: \",len(words))\n",
    "print(\"Total words in the dataset: \",len(all_reviews))"
   ]
  },
  {
   "cell_type": "code",
   "execution_count": 37,
   "metadata": {},
   "outputs": [],
   "source": [
    "# initializing the dictionary with all unique values\n",
    "dictionary = {}\n",
    "for k in all_reviews:\n",
    "        dictionary[k] = 0 "
   ]
  },
  {
   "cell_type": "code",
   "execution_count": 38,
   "metadata": {},
   "outputs": [],
   "source": [
    "# initializing the dictionary with all unique values\n",
    "import operator\n",
    "dictionary = {}\n",
    "for k in all_words:\n",
    "        dictionary[k] = 0 #initializing the dictionary with 0\n",
    "for k in all_words:\n",
    "    dictionary[k] = dictionary[k]+1   # creating the dictionary from the dataset\n",
    "sorted_dict = sorted(dictionary.items(), key=operator.itemgetter(1))  # sorting the dictionary according to the number of times a word has occured"
   ]
  },
  {
   "cell_type": "code",
   "execution_count": 39,
   "metadata": {},
   "outputs": [],
   "source": [
    "import operator\n",
    "sorted_dict = sorted(dictionary.items(), key=operator.itemgetter(1))  # sorting the dictionary"
   ]
  },
  {
   "cell_type": "code",
   "execution_count": 41,
   "metadata": {},
   "outputs": [
    {
     "data": {
      "text/plain": [
       "[('dog', 3),\n",
       " ('strangers', 2),\n",
       " ('on', 2),\n",
       " ('barks', 2),\n",
       " ('who', 1),\n",
       " ('like', 1),\n",
       " ('I', 1),\n",
       " ('the', 1),\n",
       " ('fast', 1),\n",
       " ('really', 1),\n",
       " ('is', 1),\n",
       " ('this', 1)]"
      ]
     },
     "execution_count": 41,
     "metadata": {},
     "output_type": "execute_result"
    }
   ],
   "source": [
    "sd = sorted_dict[::-1]   # containing all the words count in dec order\n",
    "sd"
   ]
  },
  {
   "cell_type": "code",
   "execution_count": 17,
   "metadata": {},
   "outputs": [
    {
     "name": "stdout",
     "output_type": "stream",
     "text": [
      "TOP WORDS\t\t\tFREQUENCY\n",
      "dog \t\t\t\t 3\n",
      "strangers \t\t\t\t 2\n",
      "on \t\t\t\t 2\n",
      "barks \t\t\t\t 2\n",
      "who \t\t\t\t 1\n",
      "like \t\t\t\t 1\n",
      "I \t\t\t\t 1\n",
      "the \t\t\t\t 1\n",
      "fast \t\t\t\t 1\n",
      "really \t\t\t\t 1\n"
     ]
    }
   ],
   "source": [
    "#sd = sorted_dict[: :-1]\n",
    "print(\"TOP WORDS\\t\\t\\t\"+\"FREQUENCY\")\n",
    "count = 0\n",
    "for d in sd:\n",
    "    if count ==10:\n",
    "        break\n",
    "    print(d[0],\"\\t\\t\\t\\t\",d[1])\n",
    "    count = count+1  "
   ]
  },
  {
   "cell_type": "code",
   "execution_count": 18,
   "metadata": {},
   "outputs": [],
   "source": [
    "final_words = []\n",
    "for word in sd:\n",
    "    final_words.append(word[0])"
   ]
  },
  {
   "cell_type": "code",
   "execution_count": 44,
   "metadata": {},
   "outputs": [],
   "source": [
    "new_data = []   # it will contain the numerical representation of the text data\n",
    "final_words = []  #it will contain the word in the decresing order of occurance\n",
    "for word in sd:\n",
    "    final_words.append(word[0])\n",
    "for f in data:\n",
    "    l = []\n",
    "    for k in f.split(' '):\n",
    "        if k in final_words:\n",
    "            #finding the index of the word\n",
    "            ind = final_words.index(k)\n",
    "            l.append(ind+1)\n",
    "    #updating the text sentence\n",
    "    new_data.append(l)"
   ]
  },
  {
   "cell_type": "code",
   "execution_count": 45,
   "metadata": {},
   "outputs": [
    {
     "data": {
      "text/plain": [
       "[[12, 1, 11, 10, 9], [1, 4, 3, 8, 2], [7, 6, 1, 5, 4, 3, 2]]"
      ]
     },
     "execution_count": 45,
     "metadata": {},
     "output_type": "execute_result"
    }
   ],
   "source": [
    "new_data"
   ]
  },
  {
   "cell_type": "code",
   "execution_count": 40,
   "metadata": {},
   "outputs": [],
   "source": [
    "# deviding the data into train and test\n",
    "y = final['Score'].values\n",
    "y_train=y[0:6000]\n",
    "x_train=new_reviews[0:6000]\n",
    "y_test=y[6000:]\n",
    "x_test=new_reviews[6000:]"
   ]
  },
  {
   "cell_type": "code",
   "execution_count": 42,
   "metadata": {},
   "outputs": [
    {
     "name": "stderr",
     "output_type": "stream",
     "text": [
      "Using TensorFlow backend.\n"
     ]
    },
    {
     "name": "stdout",
     "output_type": "stream",
     "text": [
      "Training data Shape (6000, 600)\n"
     ]
    }
   ],
   "source": [
    "# padding the dataset\n",
    "from keras.preprocessing import sequence\n",
    "#you can change max length according to your dataset size\n",
    "max_review_length = 600\n",
    "x_train=sequence.pad_sequences(x_train,maxlen=max_review_length)\n",
    "x_test=sequence.pad_sequences(x_test,maxlen=max_review_length)\n",
    "print(\"Training data Shape\",x_train.shape)"
   ]
  },
  {
   "cell_type": "markdown",
   "metadata": {},
   "source": [
    "# 1st architecture"
   ]
  },
  {
   "cell_type": "code",
   "execution_count": 43,
   "metadata": {},
   "outputs": [],
   "source": [
    "# fix random seed for reproducibility\n",
    "numpy.random.seed(7)\n",
    "import numpy\n",
    "from keras.models import Sequential\n",
    "from keras.layers import Dense\n",
    "from keras.layers import LSTM\n",
    "from keras.layers.embeddings import Embedding"
   ]
  },
  {
   "cell_type": "code",
   "execution_count": 44,
   "metadata": {},
   "outputs": [
    {
     "name": "stdout",
     "output_type": "stream",
     "text": [
      "WARNING:tensorflow:From C:\\Users\\karan\\AppData\\Local\\Programs\\Python\\Python37\\lib\\site-packages\\tensorflow\\python\\framework\\op_def_library.py:263: colocate_with (from tensorflow.python.framework.ops) is deprecated and will be removed in a future version.\n",
      "Instructions for updating:\n",
      "Colocations handled automatically by placer.\n",
      "_________________________________________________________________\n",
      "Layer (type)                 Output Shape              Param #   \n",
      "=================================================================\n",
      "embedding_1 (Embedding)      (None, 600, 32)           584448    \n",
      "_________________________________________________________________\n",
      "lstm_1 (LSTM)                (None, 100)               53200     \n",
      "_________________________________________________________________\n",
      "dense_1 (Dense)              (None, 1)                 101       \n",
      "=================================================================\n",
      "Total params: 637,749\n",
      "Trainable params: 637,749\n",
      "Non-trainable params: 0\n",
      "_________________________________________________________________\n",
      "None\n"
     ]
    }
   ],
   "source": [
    "# create the model\n",
    "embedding_vecor_length = 32\n",
    "top_words = 18264\n",
    "model = Sequential()\n",
    "model.add(Embedding(top_words, embedding_vecor_length, input_length=len(x_train[0])))\n",
    "model.add(LSTM(100))\n",
    "model.add(Dense(1, activation='sigmoid'))\n",
    "model.compile(loss='binary_crossentropy', optimizer='adam', metrics=['accuracy'])\n",
    "print(model.summary())\n",
    "#Refer: https://datascience.stackexchange.com/questions/10615/number-of-parameters-in-an-lstm-model"
   ]
  },
  {
   "cell_type": "code",
   "execution_count": 45,
   "metadata": {},
   "outputs": [
    {
     "name": "stdout",
     "output_type": "stream",
     "text": [
      "WARNING:tensorflow:From C:\\Users\\karan\\AppData\\Local\\Programs\\Python\\Python37\\lib\\site-packages\\tensorflow\\python\\ops\\math_ops.py:3066: to_int32 (from tensorflow.python.ops.math_ops) is deprecated and will be removed in a future version.\n",
      "Instructions for updating:\n",
      "Use tf.cast instead.\n",
      "Train on 6000 samples, validate on 3564 samples\n",
      "Epoch 1/10\n",
      "6000/6000 [==============================] - ETA: 3:01 - loss: 0.6936 - acc: 0.390 - ETA: 2:07 - loss: 0.6907 - acc: 0.648 - ETA: 1:45 - loss: 0.6882 - acc: 0.729 - ETA: 1:35 - loss: 0.6857 - acc: 0.757 - ETA: 1:29 - loss: 0.6827 - acc: 0.778 - ETA: 1:26 - loss: 0.6794 - acc: 0.789 - ETA: 1:22 - loss: 0.6776 - acc: 0.781 - ETA: 1:19 - loss: 0.6748 - acc: 0.777 - ETA: 1:16 - loss: 0.6697 - acc: 0.783 - ETA: 1:14 - loss: 0.6627 - acc: 0.790 - ETA: 1:11 - loss: 0.6550 - acc: 0.794 - ETA: 1:10 - loss: 0.6424 - acc: 0.800 - ETA: 1:08 - loss: 0.6337 - acc: 0.799 - ETA: 1:08 - loss: 0.6275 - acc: 0.800 - ETA: 1:07 - loss: 0.6220 - acc: 0.800 - ETA: 1:06 - loss: 0.6070 - acc: 0.804 - ETA: 1:05 - loss: 0.6063 - acc: 0.799 - ETA: 1:03 - loss: 0.5980 - acc: 0.802 - ETA: 1:02 - loss: 0.5927 - acc: 0.802 - ETA: 1:01 - loss: 0.5848 - acc: 0.806 - ETA: 1:00 - loss: 0.5817 - acc: 0.805 - ETA: 1:00 - loss: 0.5841 - acc: 0.799 - ETA: 59s - loss: 0.5781 - acc: 0.801 - ETA: 58s - loss: 0.5733 - acc: 0.80 - ETA: 57s - loss: 0.5646 - acc: 0.80 - ETA: 56s - loss: 0.5601 - acc: 0.80 - ETA: 55s - loss: 0.5551 - acc: 0.80 - ETA: 54s - loss: 0.5523 - acc: 0.80 - ETA: 53s - loss: 0.5500 - acc: 0.80 - ETA: 52s - loss: 0.5483 - acc: 0.80 - ETA: 52s - loss: 0.5452 - acc: 0.80 - ETA: 51s - loss: 0.5397 - acc: 0.81 - ETA: 50s - loss: 0.5345 - acc: 0.81 - ETA: 49s - loss: 0.5327 - acc: 0.81 - ETA: 48s - loss: 0.5317 - acc: 0.81 - ETA: 47s - loss: 0.5322 - acc: 0.81 - ETA: 47s - loss: 0.5316 - acc: 0.81 - ETA: 46s - loss: 0.5276 - acc: 0.81 - ETA: 45s - loss: 0.5227 - acc: 0.81 - ETA: 44s - loss: 0.5198 - acc: 0.81 - ETA: 43s - loss: 0.5212 - acc: 0.81 - ETA: 42s - loss: 0.5210 - acc: 0.81 - ETA: 41s - loss: 0.5173 - acc: 0.81 - ETA: 40s - loss: 0.5156 - acc: 0.81 - ETA: 39s - loss: 0.5141 - acc: 0.81 - ETA: 39s - loss: 0.5118 - acc: 0.81 - ETA: 38s - loss: 0.5096 - acc: 0.81 - ETA: 37s - loss: 0.5087 - acc: 0.81 - ETA: 36s - loss: 0.5056 - acc: 0.81 - ETA: 35s - loss: 0.5049 - acc: 0.81 - ETA: 34s - loss: 0.5020 - acc: 0.81 - ETA: 33s - loss: 0.5003 - acc: 0.81 - ETA: 33s - loss: 0.4976 - acc: 0.81 - ETA: 32s - loss: 0.4949 - acc: 0.82 - ETA: 31s - loss: 0.4945 - acc: 0.82 - ETA: 30s - loss: 0.4929 - acc: 0.82 - ETA: 29s - loss: 0.4920 - acc: 0.82 - ETA: 29s - loss: 0.4920 - acc: 0.81 - ETA: 28s - loss: 0.4896 - acc: 0.82 - ETA: 27s - loss: 0.4880 - acc: 0.82 - ETA: 26s - loss: 0.4863 - acc: 0.82 - ETA: 25s - loss: 0.4835 - acc: 0.82 - ETA: 24s - loss: 0.4822 - acc: 0.82 - ETA: 24s - loss: 0.4813 - acc: 0.82 - ETA: 23s - loss: 0.4800 - acc: 0.82 - ETA: 22s - loss: 0.4791 - acc: 0.82 - ETA: 21s - loss: 0.4766 - acc: 0.82 - ETA: 20s - loss: 0.4746 - acc: 0.82 - ETA: 20s - loss: 0.4720 - acc: 0.82 - ETA: 19s - loss: 0.4704 - acc: 0.82 - ETA: 18s - loss: 0.4685 - acc: 0.82 - ETA: 17s - loss: 0.4659 - acc: 0.82 - ETA: 16s - loss: 0.4627 - acc: 0.82 - ETA: 15s - loss: 0.4623 - acc: 0.82 - ETA: 15s - loss: 0.4591 - acc: 0.82 - ETA: 14s - loss: 0.4583 - acc: 0.82 - ETA: 13s - loss: 0.4567 - acc: 0.82 - ETA: 12s - loss: 0.4542 - acc: 0.83 - ETA: 11s - loss: 0.4521 - acc: 0.83 - ETA: 11s - loss: 0.4498 - acc: 0.83 - ETA: 10s - loss: 0.4477 - acc: 0.83 - ETA: 9s - loss: 0.4463 - acc: 0.8325 - ETA: 8s - loss: 0.4456 - acc: 0.832 - ETA: 7s - loss: 0.4455 - acc: 0.831 - ETA: 7s - loss: 0.4446 - acc: 0.831 - ETA: 6s - loss: 0.4433 - acc: 0.831 - ETA: 5s - loss: 0.4418 - acc: 0.832 - ETA: 4s - loss: 0.4408 - acc: 0.832 - ETA: 3s - loss: 0.4395 - acc: 0.833 - ETA: 3s - loss: 0.4389 - acc: 0.833 - ETA: 2s - loss: 0.4380 - acc: 0.833 - ETA: 1s - loss: 0.4358 - acc: 0.833 - ETA: 0s - loss: 0.4350 - acc: 0.834 - 85s 14ms/step - loss: 0.4341 - acc: 0.8340 - val_loss: 0.3189 - val_acc: 0.8488\n",
      "Epoch 2/10\n",
      "6000/6000 [==============================] - ETA: 1:16 - loss: 0.2646 - acc: 0.875 - ETA: 1:12 - loss: 0.2679 - acc: 0.867 - ETA: 1:08 - loss: 0.2792 - acc: 0.859 - ETA: 1:08 - loss: 0.2839 - acc: 0.867 - ETA: 1:08 - loss: 0.2696 - acc: 0.881 - ETA: 1:07 - loss: 0.2621 - acc: 0.888 - ETA: 1:05 - loss: 0.2576 - acc: 0.886 - ETA: 1:05 - loss: 0.2539 - acc: 0.884 - ETA: 1:05 - loss: 0.2635 - acc: 0.880 - ETA: 1:04 - loss: 0.2595 - acc: 0.876 - ETA: 1:04 - loss: 0.2548 - acc: 0.880 - ETA: 1:03 - loss: 0.2460 - acc: 0.885 - ETA: 1:02 - loss: 0.2422 - acc: 0.888 - ETA: 1:01 - loss: 0.2350 - acc: 0.890 - ETA: 1:01 - loss: 0.2349 - acc: 0.890 - ETA: 59s - loss: 0.2286 - acc: 0.892 - ETA: 58s - loss: 0.2287 - acc: 0.89 - ETA: 58s - loss: 0.2233 - acc: 0.89 - ETA: 57s - loss: 0.2245 - acc: 0.89 - ETA: 56s - loss: 0.2199 - acc: 0.90 - ETA: 56s - loss: 0.2212 - acc: 0.89 - ETA: 55s - loss: 0.2251 - acc: 0.89 - ETA: 54s - loss: 0.2293 - acc: 0.89 - ETA: 54s - loss: 0.2273 - acc: 0.90 - ETA: 53s - loss: 0.2240 - acc: 0.90 - ETA: 52s - loss: 0.2222 - acc: 0.90 - ETA: 51s - loss: 0.2488 - acc: 0.90 - ETA: 51s - loss: 0.2478 - acc: 0.90 - ETA: 50s - loss: 0.2499 - acc: 0.90 - ETA: 49s - loss: 0.2506 - acc: 0.90 - ETA: 49s - loss: 0.2518 - acc: 0.90 - ETA: 48s - loss: 0.2546 - acc: 0.90 - ETA: 47s - loss: 0.2564 - acc: 0.90 - ETA: 46s - loss: 0.2576 - acc: 0.90 - ETA: 45s - loss: 0.2575 - acc: 0.90 - ETA: 45s - loss: 0.2597 - acc: 0.90 - ETA: 44s - loss: 0.2608 - acc: 0.90 - ETA: 43s - loss: 0.2619 - acc: 0.90 - ETA: 42s - loss: 0.2610 - acc: 0.90 - ETA: 41s - loss: 0.2617 - acc: 0.90 - ETA: 41s - loss: 0.2603 - acc: 0.90 - ETA: 40s - loss: 0.2587 - acc: 0.90 - ETA: 39s - loss: 0.2559 - acc: 0.90 - ETA: 38s - loss: 0.2542 - acc: 0.90 - ETA: 38s - loss: 0.2532 - acc: 0.90 - ETA: 37s - loss: 0.2544 - acc: 0.90 - ETA: 36s - loss: 0.2572 - acc: 0.90 - ETA: 35s - loss: 0.2568 - acc: 0.90 - ETA: 35s - loss: 0.2560 - acc: 0.90 - ETA: 34s - loss: 0.2556 - acc: 0.90 - ETA: 33s - loss: 0.2546 - acc: 0.90 - ETA: 32s - loss: 0.2548 - acc: 0.90 - ETA: 31s - loss: 0.2547 - acc: 0.90 - ETA: 31s - loss: 0.2556 - acc: 0.90 - ETA: 30s - loss: 0.2545 - acc: 0.90 - ETA: 29s - loss: 0.2544 - acc: 0.90 - ETA: 28s - loss: 0.2530 - acc: 0.90 - ETA: 27s - loss: 0.2527 - acc: 0.90 - ETA: 27s - loss: 0.2512 - acc: 0.90 - ETA: 26s - loss: 0.2526 - acc: 0.90 - ETA: 25s - loss: 0.2519 - acc: 0.90 - ETA: 24s - loss: 0.2516 - acc: 0.90 - ETA: 24s - loss: 0.2500 - acc: 0.90 - ETA: 23s - loss: 0.2499 - acc: 0.90 - ETA: 22s - loss: 0.2482 - acc: 0.90 - ETA: 21s - loss: 0.2503 - acc: 0.90 - ETA: 20s - loss: 0.2486 - acc: 0.90 - ETA: 20s - loss: 0.2462 - acc: 0.90 - ETA: 19s - loss: 0.2455 - acc: 0.90 - ETA: 18s - loss: 0.2439 - acc: 0.90 - ETA: 17s - loss: 0.2444 - acc: 0.90 - ETA: 16s - loss: 0.2432 - acc: 0.90 - ETA: 16s - loss: 0.2422 - acc: 0.90 - ETA: 15s - loss: 0.2413 - acc: 0.90 - ETA: 14s - loss: 0.2427 - acc: 0.90 - ETA: 13s - loss: 0.2423 - acc: 0.90 - ETA: 13s - loss: 0.2421 - acc: 0.90 - ETA: 12s - loss: 0.2414 - acc: 0.90 - ETA: 11s - loss: 0.2405 - acc: 0.90 - ETA: 10s - loss: 0.2403 - acc: 0.90 - ETA: 9s - loss: 0.2395 - acc: 0.9072 - ETA: 9s - loss: 0.2409 - acc: 0.906 - ETA: 8s - loss: 0.2403 - acc: 0.906 - ETA: 7s - loss: 0.2405 - acc: 0.906 - ETA: 6s - loss: 0.2406 - acc: 0.906 - ETA: 6s - loss: 0.2405 - acc: 0.905 - ETA: 5s - loss: 0.2396 - acc: 0.906 - ETA: 4s - loss: 0.2382 - acc: 0.907 - ETA: 3s - loss: 0.2372 - acc: 0.907 - ETA: 2s - loss: 0.2361 - acc: 0.907 - ETA: 2s - loss: 0.2353 - acc: 0.908 - ETA: 1s - loss: 0.2343 - acc: 0.908 - ETA: 0s - loss: 0.2339 - acc: 0.908 - 82s 14ms/step - loss: 0.2342 - acc: 0.9083 - val_loss: 0.3045 - val_acc: 0.8852\n",
      "Epoch 3/10\n",
      "6000/6000 [==============================] - ETA: 1:10 - loss: 0.1438 - acc: 0.921 - ETA: 1:11 - loss: 0.1044 - acc: 0.960 - ETA: 1:09 - loss: 0.1055 - acc: 0.958 - ETA: 1:07 - loss: 0.1387 - acc: 0.949 - ETA: 1:07 - loss: 0.1329 - acc: 0.953 - ETA: 1:04 - loss: 0.1182 - acc: 0.958 - ETA: 1:03 - loss: 0.1207 - acc: 0.957 - ETA: 1:02 - loss: 0.1206 - acc: 0.955 - ETA: 1:02 - loss: 0.1181 - acc: 0.954 - ETA: 1:01 - loss: 0.1240 - acc: 0.953 - ETA: 1:00 - loss: 0.1221 - acc: 0.954 - ETA: 59s - loss: 0.1161 - acc: 0.957 - ETA: 59s - loss: 0.1119 - acc: 0.95 - ETA: 58s - loss: 0.1098 - acc: 0.96 - ETA: 58s - loss: 0.1090 - acc: 0.96 - ETA: 57s - loss: 0.1103 - acc: 0.96 - ETA: 57s - loss: 0.1070 - acc: 0.96 - ETA: 56s - loss: 0.1061 - acc: 0.96 - ETA: 55s - loss: 0.1103 - acc: 0.96 - ETA: 55s - loss: 0.1085 - acc: 0.96 - ETA: 54s - loss: 0.1074 - acc: 0.96 - ETA: 54s - loss: 0.1047 - acc: 0.96 - ETA: 53s - loss: 0.1061 - acc: 0.96 - ETA: 53s - loss: 0.1042 - acc: 0.96 - ETA: 52s - loss: 0.1017 - acc: 0.96 - ETA: 51s - loss: 0.1024 - acc: 0.96 - ETA: 50s - loss: 0.1037 - acc: 0.96 - ETA: 50s - loss: 0.1034 - acc: 0.96 - ETA: 49s - loss: 0.1048 - acc: 0.96 - ETA: 48s - loss: 0.1046 - acc: 0.96 - ETA: 47s - loss: 0.1071 - acc: 0.96 - ETA: 47s - loss: 0.1065 - acc: 0.96 - ETA: 46s - loss: 0.1051 - acc: 0.96 - ETA: 45s - loss: 0.1043 - acc: 0.96 - ETA: 45s - loss: 0.1056 - acc: 0.96 - ETA: 44s - loss: 0.1053 - acc: 0.96 - ETA: 43s - loss: 0.1068 - acc: 0.96 - ETA: 43s - loss: 0.1056 - acc: 0.96 - ETA: 42s - loss: 0.1044 - acc: 0.96 - ETA: 41s - loss: 0.1061 - acc: 0.96 - ETA: 41s - loss: 0.1051 - acc: 0.96 - ETA: 40s - loss: 0.1058 - acc: 0.96 - ETA: 39s - loss: 0.1044 - acc: 0.96 - ETA: 39s - loss: 0.1054 - acc: 0.96 - ETA: 38s - loss: 0.1075 - acc: 0.96 - ETA: 37s - loss: 0.1076 - acc: 0.96 - ETA: 36s - loss: 0.1075 - acc: 0.96 - ETA: 36s - loss: 0.1074 - acc: 0.96 - ETA: 35s - loss: 0.1078 - acc: 0.96 - ETA: 34s - loss: 0.1069 - acc: 0.96 - ETA: 33s - loss: 0.1071 - acc: 0.96 - ETA: 33s - loss: 0.1073 - acc: 0.96 - ETA: 32s - loss: 0.1064 - acc: 0.96 - ETA: 31s - loss: 0.1062 - acc: 0.96 - ETA: 30s - loss: 0.1053 - acc: 0.96 - ETA: 30s - loss: 0.1060 - acc: 0.96 - ETA: 29s - loss: 0.1063 - acc: 0.96 - ETA: 28s - loss: 0.1081 - acc: 0.96 - ETA: 27s - loss: 0.1075 - acc: 0.96 - ETA: 26s - loss: 0.1070 - acc: 0.96 - ETA: 26s - loss: 0.1069 - acc: 0.96 - ETA: 25s - loss: 0.1064 - acc: 0.96 - ETA: 24s - loss: 0.1054 - acc: 0.96 - ETA: 23s - loss: 0.1054 - acc: 0.96 - ETA: 22s - loss: 0.1057 - acc: 0.96 - ETA: 21s - loss: 0.1055 - acc: 0.96 - ETA: 21s - loss: 0.1052 - acc: 0.96 - ETA: 20s - loss: 0.1060 - acc: 0.96 - ETA: 19s - loss: 0.1062 - acc: 0.96 - ETA: 18s - loss: 0.1054 - acc: 0.96 - ETA: 17s - loss: 0.1045 - acc: 0.96 - ETA: 17s - loss: 0.1043 - acc: 0.96 - ETA: 16s - loss: 0.1035 - acc: 0.96 - ETA: 15s - loss: 0.1036 - acc: 0.96 - ETA: 14s - loss: 0.1042 - acc: 0.96 - ETA: 13s - loss: 0.1048 - acc: 0.96 - ETA: 13s - loss: 0.1039 - acc: 0.96 - ETA: 12s - loss: 0.1033 - acc: 0.96 - ETA: 11s - loss: 0.1029 - acc: 0.96 - ETA: 10s - loss: 0.1034 - acc: 0.96 - ETA: 9s - loss: 0.1033 - acc: 0.9639 - ETA: 9s - loss: 0.1045 - acc: 0.963 - ETA: 8s - loss: 0.1049 - acc: 0.963 - ETA: 7s - loss: 0.1057 - acc: 0.962 - ETA: 6s - loss: 0.1062 - acc: 0.962 - ETA: 6s - loss: 0.1062 - acc: 0.962 - ETA: 5s - loss: 0.1059 - acc: 0.962 - ETA: 4s - loss: 0.1063 - acc: 0.962 - ETA: 3s - loss: 0.1063 - acc: 0.962 - ETA: 2s - loss: 0.1057 - acc: 0.962 - ETA: 2s - loss: 0.1064 - acc: 0.962 - ETA: 1s - loss: 0.1060 - acc: 0.962 - ETA: 0s - loss: 0.1060 - acc: 0.962 - 82s 14ms/step - loss: 0.1054 - acc: 0.9625 - val_loss: 0.3212 - val_acc: 0.8844\n",
      "Epoch 4/10\n",
      "6000/6000 [==============================] - ETA: 1:11 - loss: 0.0258 - acc: 1.000 - ETA: 1:08 - loss: 0.0390 - acc: 0.992 - ETA: 1:06 - loss: 0.0401 - acc: 0.994 - ETA: 1:06 - loss: 0.0466 - acc: 0.988 - ETA: 1:07 - loss: 0.0448 - acc: 0.990 - ETA: 1:06 - loss: 0.0423 - acc: 0.992 - ETA: 1:05 - loss: 0.0529 - acc: 0.984 - ETA: 1:04 - loss: 0.0581 - acc: 0.980 - ETA: 1:03 - loss: 0.0587 - acc: 0.979 - ETA: 1:02 - loss: 0.0577 - acc: 0.978 - ETA: 1:02 - loss: 0.0559 - acc: 0.978 - ETA: 1:01 - loss: 0.0548 - acc: 0.979 - ETA: 1:01 - loss: 0.0537 - acc: 0.979 - ETA: 1:00 - loss: 0.0513 - acc: 0.981 - ETA: 59s - loss: 0.0491 - acc: 0.982 - ETA: 59s - loss: 0.0505 - acc: 0.98 - ETA: 58s - loss: 0.0508 - acc: 0.98 - ETA: 57s - loss: 0.0501 - acc: 0.98 - ETA: 57s - loss: 0.0483 - acc: 0.98 - ETA: 56s - loss: 0.0493 - acc: 0.98 - ETA: 55s - loss: 0.0509 - acc: 0.98 - ETA: 54s - loss: 0.0505 - acc: 0.98 - ETA: 53s - loss: 0.0505 - acc: 0.98 - ETA: 52s - loss: 0.0487 - acc: 0.98 - ETA: 52s - loss: 0.0477 - acc: 0.98 - ETA: 51s - loss: 0.0471 - acc: 0.98 - ETA: 50s - loss: 0.0457 - acc: 0.98 - ETA: 49s - loss: 0.0449 - acc: 0.98 - ETA: 49s - loss: 0.0442 - acc: 0.98 - ETA: 48s - loss: 0.0448 - acc: 0.98 - ETA: 47s - loss: 0.0447 - acc: 0.98 - ETA: 46s - loss: 0.0462 - acc: 0.98 - ETA: 45s - loss: 0.0460 - acc: 0.98 - ETA: 45s - loss: 0.0451 - acc: 0.98 - ETA: 44s - loss: 0.0449 - acc: 0.98 - ETA: 43s - loss: 0.0441 - acc: 0.98 - ETA: 42s - loss: 0.0434 - acc: 0.98 - ETA: 42s - loss: 0.0427 - acc: 0.98 - ETA: 41s - loss: 0.0424 - acc: 0.98 - ETA: 40s - loss: 0.0425 - acc: 0.98 - ETA: 39s - loss: 0.0416 - acc: 0.98 - ETA: 38s - loss: 0.0415 - acc: 0.98 - ETA: 38s - loss: 0.0407 - acc: 0.98 - ETA: 37s - loss: 0.0400 - acc: 0.98 - ETA: 36s - loss: 0.0413 - acc: 0.98 - ETA: 35s - loss: 0.0408 - acc: 0.98 - ETA: 35s - loss: 0.0410 - acc: 0.98 - ETA: 34s - loss: 0.0406 - acc: 0.98 - ETA: 33s - loss: 0.0415 - acc: 0.98 - ETA: 33s - loss: 0.0410 - acc: 0.98 - ETA: 32s - loss: 0.0406 - acc: 0.98 - ETA: 31s - loss: 0.0411 - acc: 0.98 - ETA: 30s - loss: 0.0413 - acc: 0.98 - ETA: 30s - loss: 0.0419 - acc: 0.98 - ETA: 29s - loss: 0.0422 - acc: 0.98 - ETA: 28s - loss: 0.0424 - acc: 0.98 - ETA: 28s - loss: 0.0430 - acc: 0.98 - ETA: 27s - loss: 0.0425 - acc: 0.98 - ETA: 26s - loss: 0.0421 - acc: 0.98 - ETA: 25s - loss: 0.0427 - acc: 0.98 - ETA: 25s - loss: 0.0433 - acc: 0.98 - ETA: 24s - loss: 0.0433 - acc: 0.98 - ETA: 23s - loss: 0.0432 - acc: 0.98 - ETA: 22s - loss: 0.0427 - acc: 0.98 - ETA: 22s - loss: 0.0425 - acc: 0.98 - ETA: 21s - loss: 0.0440 - acc: 0.98 - ETA: 20s - loss: 0.0437 - acc: 0.98 - ETA: 19s - loss: 0.0433 - acc: 0.98 - ETA: 18s - loss: 0.0436 - acc: 0.98 - ETA: 18s - loss: 0.0432 - acc: 0.98 - ETA: 17s - loss: 0.0428 - acc: 0.98 - ETA: 16s - loss: 0.0438 - acc: 0.98 - ETA: 15s - loss: 0.0435 - acc: 0.98 - ETA: 15s - loss: 0.0435 - acc: 0.98 - ETA: 14s - loss: 0.0432 - acc: 0.98 - ETA: 13s - loss: 0.0439 - acc: 0.98 - ETA: 12s - loss: 0.0442 - acc: 0.98 - ETA: 12s - loss: 0.0439 - acc: 0.98 - ETA: 11s - loss: 0.0442 - acc: 0.98 - ETA: 10s - loss: 0.0444 - acc: 0.98 - ETA: 9s - loss: 0.0450 - acc: 0.9871 - ETA: 9s - loss: 0.0452 - acc: 0.987 - ETA: 8s - loss: 0.0462 - acc: 0.986 - ETA: 7s - loss: 0.0462 - acc: 0.986 - ETA: 6s - loss: 0.0459 - acc: 0.986 - ETA: 5s - loss: 0.0465 - acc: 0.986 - ETA: 5s - loss: 0.0464 - acc: 0.986 - ETA: 4s - loss: 0.0474 - acc: 0.986 - ETA: 3s - loss: 0.0476 - acc: 0.986 - ETA: 2s - loss: 0.0481 - acc: 0.985 - ETA: 2s - loss: 0.0480 - acc: 0.985 - ETA: 1s - loss: 0.0481 - acc: 0.985 - ETA: 0s - loss: 0.0488 - acc: 0.985 - 80s 13ms/step - loss: 0.0487 - acc: 0.9855 - val_loss: 0.3845 - val_acc: 0.8765\n",
      "Epoch 5/10\n"
     ]
    },
    {
     "name": "stdout",
     "output_type": "stream",
     "text": [
      "6000/6000 [==============================] - ETA: 1:16 - loss: 0.0360 - acc: 0.984 - ETA: 1:11 - loss: 0.0271 - acc: 0.992 - ETA: 1:08 - loss: 0.0290 - acc: 0.994 - ETA: 1:08 - loss: 0.0363 - acc: 0.992 - ETA: 1:07 - loss: 0.0320 - acc: 0.993 - ETA: 1:06 - loss: 0.0313 - acc: 0.992 - ETA: 1:06 - loss: 0.0293 - acc: 0.993 - ETA: 1:05 - loss: 0.0277 - acc: 0.994 - ETA: 1:05 - loss: 0.0302 - acc: 0.989 - ETA: 1:04 - loss: 0.0299 - acc: 0.990 - ETA: 1:04 - loss: 0.0301 - acc: 0.990 - ETA: 1:03 - loss: 0.0295 - acc: 0.990 - ETA: 1:03 - loss: 0.0322 - acc: 0.988 - ETA: 1:02 - loss: 0.0311 - acc: 0.988 - ETA: 1:02 - loss: 0.0302 - acc: 0.989 - ETA: 1:01 - loss: 0.0307 - acc: 0.989 - ETA: 1:00 - loss: 0.0324 - acc: 0.987 - ETA: 1:00 - loss: 0.0316 - acc: 0.987 - ETA: 59s - loss: 0.0310 - acc: 0.988 - ETA: 58s - loss: 0.0307 - acc: 0.98 - ETA: 58s - loss: 0.0305 - acc: 0.98 - ETA: 57s - loss: 0.0296 - acc: 0.99 - ETA: 56s - loss: 0.0291 - acc: 0.99 - ETA: 56s - loss: 0.0288 - acc: 0.99 - ETA: 55s - loss: 0.0281 - acc: 0.99 - ETA: 54s - loss: 0.0279 - acc: 0.99 - ETA: 53s - loss: 0.0274 - acc: 0.99 - ETA: 53s - loss: 0.0271 - acc: 0.99 - ETA: 52s - loss: 0.0284 - acc: 0.99 - ETA: 51s - loss: 0.0283 - acc: 0.99 - ETA: 50s - loss: 0.0287 - acc: 0.99 - ETA: 49s - loss: 0.0284 - acc: 0.99 - ETA: 49s - loss: 0.0280 - acc: 0.99 - ETA: 48s - loss: 0.0273 - acc: 0.99 - ETA: 47s - loss: 0.0266 - acc: 0.99 - ETA: 46s - loss: 0.0261 - acc: 0.99 - ETA: 45s - loss: 0.0256 - acc: 0.99 - ETA: 44s - loss: 0.0252 - acc: 0.99 - ETA: 43s - loss: 0.0247 - acc: 0.99 - ETA: 43s - loss: 0.0244 - acc: 0.99 - ETA: 42s - loss: 0.0239 - acc: 0.99 - ETA: 41s - loss: 0.0243 - acc: 0.99 - ETA: 40s - loss: 0.0239 - acc: 0.99 - ETA: 40s - loss: 0.0234 - acc: 0.99 - ETA: 39s - loss: 0.0240 - acc: 0.99 - ETA: 38s - loss: 0.0240 - acc: 0.99 - ETA: 37s - loss: 0.0240 - acc: 0.99 - ETA: 36s - loss: 0.0239 - acc: 0.99 - ETA: 36s - loss: 0.0246 - acc: 0.99 - ETA: 35s - loss: 0.0244 - acc: 0.99 - ETA: 34s - loss: 0.0242 - acc: 0.99 - ETA: 33s - loss: 0.0241 - acc: 0.99 - ETA: 32s - loss: 0.0239 - acc: 0.99 - ETA: 32s - loss: 0.0236 - acc: 0.99 - ETA: 31s - loss: 0.0234 - acc: 0.99 - ETA: 30s - loss: 0.0230 - acc: 0.99 - ETA: 29s - loss: 0.0232 - acc: 0.99 - ETA: 28s - loss: 0.0245 - acc: 0.99 - ETA: 28s - loss: 0.0246 - acc: 0.99 - ETA: 27s - loss: 0.0246 - acc: 0.99 - ETA: 26s - loss: 0.0242 - acc: 0.99 - ETA: 25s - loss: 0.0246 - acc: 0.99 - ETA: 24s - loss: 0.0243 - acc: 0.99 - ETA: 24s - loss: 0.0240 - acc: 0.99 - ETA: 23s - loss: 0.0238 - acc: 0.99 - ETA: 22s - loss: 0.0236 - acc: 0.99 - ETA: 21s - loss: 0.0234 - acc: 0.99 - ETA: 20s - loss: 0.0232 - acc: 0.99 - ETA: 20s - loss: 0.0231 - acc: 0.99 - ETA: 19s - loss: 0.0232 - acc: 0.99 - ETA: 18s - loss: 0.0236 - acc: 0.99 - ETA: 17s - loss: 0.0234 - acc: 0.99 - ETA: 16s - loss: 0.0231 - acc: 0.99 - ETA: 16s - loss: 0.0229 - acc: 0.99 - ETA: 15s - loss: 0.0228 - acc: 0.99 - ETA: 14s - loss: 0.0231 - acc: 0.99 - ETA: 13s - loss: 0.0229 - acc: 0.99 - ETA: 12s - loss: 0.0226 - acc: 0.99 - ETA: 11s - loss: 0.0228 - acc: 0.99 - ETA: 11s - loss: 0.0233 - acc: 0.99 - ETA: 10s - loss: 0.0235 - acc: 0.99 - ETA: 9s - loss: 0.0234 - acc: 0.9935 - ETA: 8s - loss: 0.0234 - acc: 0.993 - ETA: 7s - loss: 0.0239 - acc: 0.993 - ETA: 7s - loss: 0.0240 - acc: 0.993 - ETA: 6s - loss: 0.0240 - acc: 0.993 - ETA: 5s - loss: 0.0245 - acc: 0.993 - ETA: 4s - loss: 0.0243 - acc: 0.993 - ETA: 3s - loss: 0.0241 - acc: 0.993 - ETA: 3s - loss: 0.0242 - acc: 0.992 - ETA: 2s - loss: 0.0240 - acc: 0.993 - ETA: 1s - loss: 0.0239 - acc: 0.992 - ETA: 0s - loss: 0.0237 - acc: 0.992 - 85s 14ms/step - loss: 0.0241 - acc: 0.9928 - val_loss: 0.5008 - val_acc: 0.8841\n",
      "Epoch 6/10\n",
      "6000/6000 [==============================] - ETA: 1:06 - loss: 0.0088 - acc: 1.000 - ETA: 1:08 - loss: 0.0179 - acc: 0.992 - ETA: 1:10 - loss: 0.0135 - acc: 0.994 - ETA: 1:10 - loss: 0.0125 - acc: 0.996 - ETA: 1:09 - loss: 0.0128 - acc: 0.996 - ETA: 1:07 - loss: 0.0120 - acc: 0.997 - ETA: 1:07 - loss: 0.0144 - acc: 0.995 - ETA: 1:06 - loss: 0.0136 - acc: 0.996 - ETA: 1:05 - loss: 0.0138 - acc: 0.996 - ETA: 1:05 - loss: 0.0136 - acc: 0.996 - ETA: 1:04 - loss: 0.0134 - acc: 0.997 - ETA: 1:04 - loss: 0.0126 - acc: 0.997 - ETA: 1:03 - loss: 0.0120 - acc: 0.997 - ETA: 1:03 - loss: 0.0114 - acc: 0.997 - ETA: 1:02 - loss: 0.0111 - acc: 0.997 - ETA: 1:02 - loss: 0.0106 - acc: 0.998 - ETA: 1:01 - loss: 0.0107 - acc: 0.998 - ETA: 1:00 - loss: 0.0103 - acc: 0.998 - ETA: 59s - loss: 0.0101 - acc: 0.998 - ETA: 59s - loss: 0.0097 - acc: 0.99 - ETA: 58s - loss: 0.0095 - acc: 0.99 - ETA: 57s - loss: 0.0092 - acc: 0.99 - ETA: 57s - loss: 0.0090 - acc: 0.99 - ETA: 56s - loss: 0.0094 - acc: 0.99 - ETA: 55s - loss: 0.0097 - acc: 0.99 - ETA: 54s - loss: 0.0104 - acc: 0.99 - ETA: 54s - loss: 0.0102 - acc: 0.99 - ETA: 53s - loss: 0.0103 - acc: 0.99 - ETA: 52s - loss: 0.0115 - acc: 0.99 - ETA: 51s - loss: 0.0114 - acc: 0.99 - ETA: 51s - loss: 0.0112 - acc: 0.99 - ETA: 50s - loss: 0.0111 - acc: 0.99 - ETA: 49s - loss: 0.0109 - acc: 0.99 - ETA: 48s - loss: 0.0107 - acc: 0.99 - ETA: 47s - loss: 0.0105 - acc: 0.99 - ETA: 47s - loss: 0.0104 - acc: 0.99 - ETA: 46s - loss: 0.0103 - acc: 0.99 - ETA: 45s - loss: 0.0109 - acc: 0.99 - ETA: 44s - loss: 0.0109 - acc: 0.99 - ETA: 44s - loss: 0.0108 - acc: 0.99 - ETA: 43s - loss: 0.0118 - acc: 0.99 - ETA: 42s - loss: 0.0116 - acc: 0.99 - ETA: 41s - loss: 0.0115 - acc: 0.99 - ETA: 40s - loss: 0.0113 - acc: 0.99 - ETA: 40s - loss: 0.0112 - acc: 0.99 - ETA: 39s - loss: 0.0111 - acc: 0.99 - ETA: 38s - loss: 0.0113 - acc: 0.99 - ETA: 37s - loss: 0.0121 - acc: 0.99 - ETA: 36s - loss: 0.0121 - acc: 0.99 - ETA: 35s - loss: 0.0125 - acc: 0.99 - ETA: 35s - loss: 0.0124 - acc: 0.99 - ETA: 34s - loss: 0.0123 - acc: 0.99 - ETA: 33s - loss: 0.0121 - acc: 0.99 - ETA: 32s - loss: 0.0120 - acc: 0.99 - ETA: 31s - loss: 0.0122 - acc: 0.99 - ETA: 31s - loss: 0.0121 - acc: 0.99 - ETA: 30s - loss: 0.0120 - acc: 0.99 - ETA: 29s - loss: 0.0119 - acc: 0.99 - ETA: 28s - loss: 0.0117 - acc: 0.99 - ETA: 27s - loss: 0.0116 - acc: 0.99 - ETA: 27s - loss: 0.0117 - acc: 0.99 - ETA: 26s - loss: 0.0116 - acc: 0.99 - ETA: 25s - loss: 0.0115 - acc: 0.99 - ETA: 24s - loss: 0.0113 - acc: 0.99 - ETA: 23s - loss: 0.0112 - acc: 0.99 - ETA: 22s - loss: 0.0111 - acc: 0.99 - ETA: 22s - loss: 0.0115 - acc: 0.99 - ETA: 21s - loss: 0.0114 - acc: 0.99 - ETA: 20s - loss: 0.0123 - acc: 0.99 - ETA: 19s - loss: 0.0123 - acc: 0.99 - ETA: 18s - loss: 0.0137 - acc: 0.99 - ETA: 17s - loss: 0.0139 - acc: 0.99 - ETA: 17s - loss: 0.0139 - acc: 0.99 - ETA: 16s - loss: 0.0139 - acc: 0.99 - ETA: 15s - loss: 0.0143 - acc: 0.99 - ETA: 14s - loss: 0.0144 - acc: 0.99 - ETA: 13s - loss: 0.0153 - acc: 0.99 - ETA: 13s - loss: 0.0164 - acc: 0.99 - ETA: 12s - loss: 0.0176 - acc: 0.99 - ETA: 11s - loss: 0.0177 - acc: 0.99 - ETA: 10s - loss: 0.0176 - acc: 0.99 - ETA: 9s - loss: 0.0175 - acc: 0.9950 - ETA: 8s - loss: 0.0176 - acc: 0.994 - ETA: 8s - loss: 0.0175 - acc: 0.995 - ETA: 7s - loss: 0.0180 - acc: 0.994 - ETA: 6s - loss: 0.0185 - acc: 0.994 - ETA: 5s - loss: 0.0186 - acc: 0.994 - ETA: 4s - loss: 0.0193 - acc: 0.994 - ETA: 3s - loss: 0.0197 - acc: 0.993 - ETA: 3s - loss: 0.0198 - acc: 0.993 - ETA: 2s - loss: 0.0199 - acc: 0.993 - ETA: 1s - loss: 0.0202 - acc: 0.993 - ETA: 0s - loss: 0.0201 - acc: 0.993 - 87s 15ms/step - loss: 0.0200 - acc: 0.9937 - val_loss: 0.4488 - val_acc: 0.8743\n",
      "Epoch 7/10\n",
      "6000/6000 [==============================] - ETA: 1:15 - loss: 0.0122 - acc: 1.000 - ETA: 1:16 - loss: 0.0140 - acc: 0.992 - ETA: 1:14 - loss: 0.0128 - acc: 0.994 - ETA: 1:13 - loss: 0.0111 - acc: 0.996 - ETA: 1:11 - loss: 0.0113 - acc: 0.996 - ETA: 1:11 - loss: 0.0125 - acc: 0.997 - ETA: 1:11 - loss: 0.0117 - acc: 0.997 - ETA: 1:09 - loss: 0.0107 - acc: 0.998 - ETA: 1:09 - loss: 0.0106 - acc: 0.998 - ETA: 1:08 - loss: 0.0098 - acc: 0.998 - ETA: 1:07 - loss: 0.0094 - acc: 0.998 - ETA: 1:06 - loss: 0.0091 - acc: 0.998 - ETA: 1:06 - loss: 0.0131 - acc: 0.997 - ETA: 1:05 - loss: 0.0146 - acc: 0.996 - ETA: 1:04 - loss: 0.0140 - acc: 0.996 - ETA: 1:03 - loss: 0.0135 - acc: 0.997 - ETA: 1:02 - loss: 0.0142 - acc: 0.997 - ETA: 1:02 - loss: 0.0141 - acc: 0.997 - ETA: 1:01 - loss: 0.0148 - acc: 0.997 - ETA: 1:00 - loss: 0.0150 - acc: 0.997 - ETA: 59s - loss: 0.0153 - acc: 0.997 - ETA: 58s - loss: 0.0149 - acc: 0.99 - ETA: 58s - loss: 0.0148 - acc: 0.99 - ETA: 57s - loss: 0.0157 - acc: 0.99 - ETA: 56s - loss: 0.0159 - acc: 0.99 - ETA: 55s - loss: 0.0159 - acc: 0.99 - ETA: 54s - loss: 0.0168 - acc: 0.99 - ETA: 54s - loss: 0.0167 - acc: 0.99 - ETA: 53s - loss: 0.0171 - acc: 0.99 - ETA: 52s - loss: 0.0171 - acc: 0.99 - ETA: 51s - loss: 0.0174 - acc: 0.99 - ETA: 50s - loss: 0.0173 - acc: 0.99 - ETA: 49s - loss: 0.0180 - acc: 0.99 - ETA: 49s - loss: 0.0176 - acc: 0.99 - ETA: 48s - loss: 0.0178 - acc: 0.99 - ETA: 47s - loss: 0.0176 - acc: 0.99 - ETA: 46s - loss: 0.0173 - acc: 0.99 - ETA: 45s - loss: 0.0171 - acc: 0.99 - ETA: 45s - loss: 0.0173 - acc: 0.99 - ETA: 44s - loss: 0.0178 - acc: 0.99 - ETA: 43s - loss: 0.0181 - acc: 0.99 - ETA: 42s - loss: 0.0179 - acc: 0.99 - ETA: 41s - loss: 0.0177 - acc: 0.99 - ETA: 41s - loss: 0.0177 - acc: 0.99 - ETA: 40s - loss: 0.0175 - acc: 0.99 - ETA: 39s - loss: 0.0175 - acc: 0.99 - ETA: 38s - loss: 0.0172 - acc: 0.99 - ETA: 37s - loss: 0.0172 - acc: 0.99 - ETA: 37s - loss: 0.0175 - acc: 0.99 - ETA: 36s - loss: 0.0180 - acc: 0.99 - ETA: 35s - loss: 0.0177 - acc: 0.99 - ETA: 34s - loss: 0.0175 - acc: 0.99 - ETA: 33s - loss: 0.0173 - acc: 0.99 - ETA: 32s - loss: 0.0171 - acc: 0.99 - ETA: 32s - loss: 0.0170 - acc: 0.99 - ETA: 31s - loss: 0.0167 - acc: 0.99 - ETA: 30s - loss: 0.0165 - acc: 0.99 - ETA: 29s - loss: 0.0172 - acc: 0.99 - ETA: 28s - loss: 0.0170 - acc: 0.99 - ETA: 28s - loss: 0.0169 - acc: 0.99 - ETA: 27s - loss: 0.0169 - acc: 0.99 - ETA: 26s - loss: 0.0169 - acc: 0.99 - ETA: 25s - loss: 0.0169 - acc: 0.99 - ETA: 24s - loss: 0.0173 - acc: 0.99 - ETA: 23s - loss: 0.0173 - acc: 0.99 - ETA: 23s - loss: 0.0176 - acc: 0.99 - ETA: 22s - loss: 0.0175 - acc: 0.99 - ETA: 21s - loss: 0.0175 - acc: 0.99 - ETA: 20s - loss: 0.0174 - acc: 0.99 - ETA: 19s - loss: 0.0172 - acc: 0.99 - ETA: 18s - loss: 0.0175 - acc: 0.99 - ETA: 18s - loss: 0.0179 - acc: 0.99 - ETA: 17s - loss: 0.0177 - acc: 0.99 - ETA: 16s - loss: 0.0177 - acc: 0.99 - ETA: 15s - loss: 0.0175 - acc: 0.99 - ETA: 14s - loss: 0.0174 - acc: 0.99 - ETA: 13s - loss: 0.0172 - acc: 0.99 - ETA: 13s - loss: 0.0170 - acc: 0.99 - ETA: 12s - loss: 0.0168 - acc: 0.99 - ETA: 11s - loss: 0.0166 - acc: 0.99 - ETA: 10s - loss: 0.0170 - acc: 0.99 - ETA: 9s - loss: 0.0171 - acc: 0.9952 - ETA: 8s - loss: 0.0169 - acc: 0.995 - ETA: 8s - loss: 0.0168 - acc: 0.995 - ETA: 7s - loss: 0.0167 - acc: 0.995 - ETA: 6s - loss: 0.0172 - acc: 0.995 - ETA: 5s - loss: 0.0172 - acc: 0.995 - ETA: 4s - loss: 0.0172 - acc: 0.995 - ETA: 3s - loss: 0.0170 - acc: 0.995 - ETA: 3s - loss: 0.0169 - acc: 0.995 - ETA: 2s - loss: 0.0169 - acc: 0.995 - ETA: 1s - loss: 0.0173 - acc: 0.995 - ETA: 0s - loss: 0.0172 - acc: 0.995 - 88s 15ms/step - loss: 0.0170 - acc: 0.9955 - val_loss: 0.5516 - val_acc: 0.8793\n",
      "Epoch 8/10\n",
      "6000/6000 [==============================] - ETA: 1:14 - loss: 0.0049 - acc: 1.000 - ETA: 1:13 - loss: 0.0058 - acc: 1.000 - ETA: 1:14 - loss: 0.0042 - acc: 1.000 - ETA: 1:13 - loss: 0.0048 - acc: 1.000 - ETA: 1:13 - loss: 0.0043 - acc: 1.000 - ETA: 1:12 - loss: 0.0038 - acc: 1.000 - ETA: 1:12 - loss: 0.0038 - acc: 1.000 - ETA: 1:11 - loss: 0.0048 - acc: 0.998 - ETA: 1:10 - loss: 0.0049 - acc: 0.998 - ETA: 1:09 - loss: 0.0045 - acc: 0.998 - ETA: 1:09 - loss: 0.0051 - acc: 0.998 - ETA: 1:08 - loss: 0.0050 - acc: 0.998 - ETA: 1:07 - loss: 0.0052 - acc: 0.998 - ETA: 1:06 - loss: 0.0050 - acc: 0.998 - ETA: 1:05 - loss: 0.0053 - acc: 0.999 - ETA: 1:04 - loss: 0.0050 - acc: 0.999 - ETA: 1:04 - loss: 0.0049 - acc: 0.999 - ETA: 1:03 - loss: 0.0048 - acc: 0.999 - ETA: 1:02 - loss: 0.0046 - acc: 0.999 - ETA: 1:01 - loss: 0.0047 - acc: 0.999 - ETA: 1:00 - loss: 0.0046 - acc: 0.999 - ETA: 1:00 - loss: 0.0052 - acc: 0.998 - ETA: 59s - loss: 0.0063 - acc: 0.998 - ETA: 58s - loss: 0.0061 - acc: 0.99 - ETA: 57s - loss: 0.0062 - acc: 0.99 - ETA: 56s - loss: 0.0061 - acc: 0.99 - ETA: 55s - loss: 0.0061 - acc: 0.99 - ETA: 54s - loss: 0.0064 - acc: 0.99 - ETA: 53s - loss: 0.0064 - acc: 0.99 - ETA: 53s - loss: 0.0064 - acc: 0.99 - ETA: 52s - loss: 0.0063 - acc: 0.99 - ETA: 51s - loss: 0.0063 - acc: 0.99 - ETA: 50s - loss: 0.0062 - acc: 0.99 - ETA: 49s - loss: 0.0061 - acc: 0.99 - ETA: 48s - loss: 0.0059 - acc: 0.99 - ETA: 48s - loss: 0.0058 - acc: 0.99 - ETA: 47s - loss: 0.0057 - acc: 0.99 - ETA: 46s - loss: 0.0057 - acc: 0.99 - ETA: 45s - loss: 0.0056 - acc: 0.99 - ETA: 44s - loss: 0.0057 - acc: 0.99 - ETA: 43s - loss: 0.0056 - acc: 0.99 - ETA: 43s - loss: 0.0055 - acc: 0.99 - ETA: 42s - loss: 0.0058 - acc: 0.99 - ETA: 41s - loss: 0.0057 - acc: 0.99 - ETA: 40s - loss: 0.0057 - acc: 0.99 - ETA: 39s - loss: 0.0056 - acc: 0.99 - ETA: 38s - loss: 0.0055 - acc: 0.99 - ETA: 38s - loss: 0.0055 - acc: 0.99 - ETA: 37s - loss: 0.0054 - acc: 0.99 - ETA: 36s - loss: 0.0055 - acc: 0.99 - ETA: 35s - loss: 0.0055 - acc: 0.99 - ETA: 34s - loss: 0.0054 - acc: 0.99 - ETA: 33s - loss: 0.0054 - acc: 0.99 - ETA: 33s - loss: 0.0055 - acc: 0.99 - ETA: 32s - loss: 0.0054 - acc: 0.99 - ETA: 31s - loss: 0.0056 - acc: 0.99 - ETA: 30s - loss: 0.0055 - acc: 0.99 - ETA: 29s - loss: 0.0055 - acc: 0.99 - ETA: 28s - loss: 0.0054 - acc: 0.99 - ETA: 28s - loss: 0.0054 - acc: 0.99 - ETA: 27s - loss: 0.0054 - acc: 0.99 - ETA: 26s - loss: 0.0053 - acc: 0.99 - ETA: 25s - loss: 0.0052 - acc: 0.99 - ETA: 24s - loss: 0.0052 - acc: 0.99 - ETA: 23s - loss: 0.0053 - acc: 0.99 - ETA: 23s - loss: 0.0053 - acc: 0.99 - ETA: 22s - loss: 0.0052 - acc: 0.99 - ETA: 21s - loss: 0.0052 - acc: 0.99 - ETA: 20s - loss: 0.0054 - acc: 0.99 - ETA: 19s - loss: 0.0053 - acc: 0.99 - ETA: 18s - loss: 0.0053 - acc: 0.99 - ETA: 18s - loss: 0.0054 - acc: 0.99 - ETA: 17s - loss: 0.0055 - acc: 0.99 - ETA: 16s - loss: 0.0055 - acc: 0.99 - ETA: 15s - loss: 0.0054 - acc: 0.99 - ETA: 14s - loss: 0.0054 - acc: 0.99 - ETA: 13s - loss: 0.0054 - acc: 0.99 - ETA: 13s - loss: 0.0054 - acc: 0.99 - ETA: 12s - loss: 0.0061 - acc: 0.99 - ETA: 11s - loss: 0.0060 - acc: 0.99 - ETA: 10s - loss: 0.0060 - acc: 0.99 - ETA: 9s - loss: 0.0060 - acc: 0.9987 - ETA: 8s - loss: 0.0063 - acc: 0.998 - ETA: 8s - loss: 0.0063 - acc: 0.998 - ETA: 7s - loss: 0.0063 - acc: 0.998 - ETA: 6s - loss: 0.0063 - acc: 0.998 - ETA: 5s - loss: 0.0062 - acc: 0.998 - ETA: 4s - loss: 0.0062 - acc: 0.998 - ETA: 3s - loss: 0.0062 - acc: 0.998 - ETA: 3s - loss: 0.0061 - acc: 0.998 - ETA: 2s - loss: 0.0061 - acc: 0.998 - ETA: 1s - loss: 0.0062 - acc: 0.998 - ETA: 0s - loss: 0.0061 - acc: 0.998 - 87s 14ms/step - loss: 0.0061 - acc: 0.9985 - val_loss: 0.5986 - val_acc: 0.8737\n",
      "Epoch 9/10\n"
     ]
    },
    {
     "name": "stdout",
     "output_type": "stream",
     "text": [
      "6000/6000 [==============================] - ETA: 1:16 - loss: 0.0029 - acc: 1.000 - ETA: 1:17 - loss: 0.0026 - acc: 1.000 - ETA: 1:16 - loss: 0.0055 - acc: 1.000 - ETA: 1:13 - loss: 0.0046 - acc: 1.000 - ETA: 1:09 - loss: 0.0039 - acc: 1.000 - ETA: 1:05 - loss: 0.0035 - acc: 1.000 - ETA: 1:03 - loss: 0.0034 - acc: 1.000 - ETA: 1:02 - loss: 0.0031 - acc: 1.000 - ETA: 1:02 - loss: 0.0030 - acc: 1.000 - ETA: 1:02 - loss: 0.0028 - acc: 1.000 - ETA: 1:00 - loss: 0.0030 - acc: 1.000 - ETA: 59s - loss: 0.0029 - acc: 1.000 - ETA: 57s - loss: 0.0032 - acc: 1.00 - ETA: 56s - loss: 0.0030 - acc: 1.00 - ETA: 55s - loss: 0.0029 - acc: 1.00 - ETA: 55s - loss: 0.0028 - acc: 1.00 - ETA: 54s - loss: 0.0028 - acc: 1.00 - ETA: 53s - loss: 0.0029 - acc: 1.00 - ETA: 52s - loss: 0.0029 - acc: 1.00 - ETA: 51s - loss: 0.0028 - acc: 1.00 - ETA: 50s - loss: 0.0029 - acc: 1.00 - ETA: 49s - loss: 0.0028 - acc: 1.00 - ETA: 49s - loss: 0.0027 - acc: 1.00 - ETA: 48s - loss: 0.0026 - acc: 1.00 - ETA: 48s - loss: 0.0025 - acc: 1.00 - ETA: 47s - loss: 0.0025 - acc: 1.00 - ETA: 47s - loss: 0.0024 - acc: 1.00 - ETA: 46s - loss: 0.0023 - acc: 1.00 - ETA: 46s - loss: 0.0023 - acc: 1.00 - ETA: 45s - loss: 0.0023 - acc: 1.00 - ETA: 44s - loss: 0.0023 - acc: 1.00 - ETA: 44s - loss: 0.0022 - acc: 1.00 - ETA: 43s - loss: 0.0022 - acc: 1.00 - ETA: 42s - loss: 0.0022 - acc: 1.00 - ETA: 42s - loss: 0.0022 - acc: 1.00 - ETA: 41s - loss: 0.0021 - acc: 1.00 - ETA: 41s - loss: 0.0021 - acc: 1.00 - ETA: 40s - loss: 0.0025 - acc: 0.99 - ETA: 40s - loss: 0.0024 - acc: 0.99 - ETA: 39s - loss: 0.0024 - acc: 0.99 - ETA: 38s - loss: 0.0024 - acc: 0.99 - ETA: 38s - loss: 0.0023 - acc: 0.99 - ETA: 37s - loss: 0.0024 - acc: 0.99 - ETA: 36s - loss: 0.0024 - acc: 0.99 - ETA: 36s - loss: 0.0023 - acc: 0.99 - ETA: 35s - loss: 0.0023 - acc: 0.99 - ETA: 34s - loss: 0.0023 - acc: 0.99 - ETA: 34s - loss: 0.0023 - acc: 0.99 - ETA: 33s - loss: 0.0023 - acc: 0.99 - ETA: 32s - loss: 0.0023 - acc: 0.99 - ETA: 31s - loss: 0.0026 - acc: 0.99 - ETA: 31s - loss: 0.0026 - acc: 0.99 - ETA: 30s - loss: 0.0026 - acc: 0.99 - ETA: 29s - loss: 0.0026 - acc: 0.99 - ETA: 28s - loss: 0.0026 - acc: 0.99 - ETA: 28s - loss: 0.0025 - acc: 0.99 - ETA: 27s - loss: 0.0025 - acc: 0.99 - ETA: 26s - loss: 0.0025 - acc: 0.99 - ETA: 25s - loss: 0.0024 - acc: 0.99 - ETA: 25s - loss: 0.0024 - acc: 0.99 - ETA: 24s - loss: 0.0024 - acc: 0.99 - ETA: 23s - loss: 0.0024 - acc: 0.99 - ETA: 23s - loss: 0.0023 - acc: 0.99 - ETA: 22s - loss: 0.0023 - acc: 0.99 - ETA: 21s - loss: 0.0023 - acc: 0.99 - ETA: 20s - loss: 0.0023 - acc: 0.99 - ETA: 20s - loss: 0.0023 - acc: 0.99 - ETA: 19s - loss: 0.0023 - acc: 0.99 - ETA: 18s - loss: 0.0023 - acc: 0.99 - ETA: 17s - loss: 0.0023 - acc: 0.99 - ETA: 17s - loss: 0.0022 - acc: 0.99 - ETA: 16s - loss: 0.0022 - acc: 0.99 - ETA: 15s - loss: 0.0022 - acc: 0.99 - ETA: 14s - loss: 0.0022 - acc: 0.99 - ETA: 14s - loss: 0.0022 - acc: 0.99 - ETA: 13s - loss: 0.0022 - acc: 0.99 - ETA: 12s - loss: 0.0022 - acc: 0.99 - ETA: 11s - loss: 0.0022 - acc: 0.99 - ETA: 11s - loss: 0.0021 - acc: 0.99 - ETA: 10s - loss: 0.0021 - acc: 0.99 - ETA: 9s - loss: 0.0021 - acc: 0.9996 - ETA: 8s - loss: 0.0021 - acc: 0.999 - ETA: 8s - loss: 0.0021 - acc: 0.999 - ETA: 7s - loss: 0.0026 - acc: 0.999 - ETA: 6s - loss: 0.0026 - acc: 0.999 - ETA: 5s - loss: 0.0025 - acc: 0.999 - ETA: 5s - loss: 0.0025 - acc: 0.999 - ETA: 4s - loss: 0.0025 - acc: 0.999 - ETA: 3s - loss: 0.0025 - acc: 0.999 - ETA: 2s - loss: 0.0025 - acc: 0.999 - ETA: 2s - loss: 0.0026 - acc: 0.999 - ETA: 1s - loss: 0.0026 - acc: 0.999 - ETA: 0s - loss: 0.0026 - acc: 0.999 - 80s 13ms/step - loss: 0.0027 - acc: 0.9995 - val_loss: 0.5836 - val_acc: 0.8639\n",
      "Epoch 10/10\n",
      "6000/6000 [==============================] - ETA: 1:14 - loss: 0.0036 - acc: 1.000 - ETA: 1:14 - loss: 0.0031 - acc: 1.000 - ETA: 1:13 - loss: 0.0031 - acc: 1.000 - ETA: 1:14 - loss: 0.0032 - acc: 1.000 - ETA: 1:13 - loss: 0.0058 - acc: 0.996 - ETA: 1:12 - loss: 0.0051 - acc: 0.997 - ETA: 1:12 - loss: 0.0048 - acc: 0.997 - ETA: 1:11 - loss: 0.0043 - acc: 0.998 - ETA: 1:10 - loss: 0.0039 - acc: 0.998 - ETA: 1:09 - loss: 0.0037 - acc: 0.998 - ETA: 1:08 - loss: 0.0034 - acc: 0.998 - ETA: 1:07 - loss: 0.0032 - acc: 0.998 - ETA: 1:05 - loss: 0.0030 - acc: 0.998 - ETA: 1:03 - loss: 0.0029 - acc: 0.998 - ETA: 1:01 - loss: 0.0027 - acc: 0.999 - ETA: 59s - loss: 0.0026 - acc: 0.999 - ETA: 57s - loss: 0.0025 - acc: 0.99 - ETA: 56s - loss: 0.0024 - acc: 0.99 - ETA: 55s - loss: 0.0023 - acc: 0.99 - ETA: 54s - loss: 0.0022 - acc: 0.99 - ETA: 54s - loss: 0.0021 - acc: 0.99 - ETA: 53s - loss: 0.0021 - acc: 0.99 - ETA: 52s - loss: 0.0020 - acc: 0.99 - ETA: 50s - loss: 0.0020 - acc: 0.99 - ETA: 49s - loss: 0.0020 - acc: 0.99 - ETA: 48s - loss: 0.0020 - acc: 0.99 - ETA: 47s - loss: 0.0019 - acc: 0.99 - ETA: 47s - loss: 0.0019 - acc: 0.99 - ETA: 46s - loss: 0.0018 - acc: 0.99 - ETA: 45s - loss: 0.0018 - acc: 0.99 - ETA: 44s - loss: 0.0018 - acc: 0.99 - ETA: 44s - loss: 0.0017 - acc: 0.99 - ETA: 43s - loss: 0.0017 - acc: 0.99 - ETA: 43s - loss: 0.0017 - acc: 0.99 - ETA: 42s - loss: 0.0016 - acc: 0.99 - ETA: 41s - loss: 0.0016 - acc: 0.99 - ETA: 41s - loss: 0.0016 - acc: 0.99 - ETA: 40s - loss: 0.0016 - acc: 0.99 - ETA: 40s - loss: 0.0016 - acc: 0.99 - ETA: 39s - loss: 0.0015 - acc: 0.99 - ETA: 38s - loss: 0.0015 - acc: 0.99 - ETA: 38s - loss: 0.0015 - acc: 0.99 - ETA: 37s - loss: 0.0015 - acc: 0.99 - ETA: 36s - loss: 0.0015 - acc: 0.99 - ETA: 36s - loss: 0.0014 - acc: 0.99 - ETA: 35s - loss: 0.0014 - acc: 0.99 - ETA: 34s - loss: 0.0014 - acc: 0.99 - ETA: 34s - loss: 0.0014 - acc: 0.99 - ETA: 33s - loss: 0.0014 - acc: 0.99 - ETA: 32s - loss: 0.0014 - acc: 0.99 - ETA: 32s - loss: 0.0014 - acc: 0.99 - ETA: 31s - loss: 0.0013 - acc: 0.99 - ETA: 30s - loss: 0.0014 - acc: 0.99 - ETA: 29s - loss: 0.0014 - acc: 0.99 - ETA: 29s - loss: 0.0014 - acc: 0.99 - ETA: 28s - loss: 0.0014 - acc: 0.99 - ETA: 27s - loss: 0.0014 - acc: 0.99 - ETA: 27s - loss: 0.0014 - acc: 0.99 - ETA: 26s - loss: 0.0014 - acc: 0.99 - ETA: 25s - loss: 0.0014 - acc: 0.99 - ETA: 24s - loss: 0.0014 - acc: 0.99 - ETA: 24s - loss: 0.0015 - acc: 0.99 - ETA: 23s - loss: 0.0015 - acc: 0.99 - ETA: 22s - loss: 0.0015 - acc: 0.99 - ETA: 21s - loss: 0.0014 - acc: 0.99 - ETA: 21s - loss: 0.0014 - acc: 0.99 - ETA: 20s - loss: 0.0014 - acc: 0.99 - ETA: 19s - loss: 0.0014 - acc: 0.99 - ETA: 18s - loss: 0.0014 - acc: 0.99 - ETA: 18s - loss: 0.0014 - acc: 0.99 - ETA: 17s - loss: 0.0014 - acc: 0.99 - ETA: 16s - loss: 0.0014 - acc: 0.99 - ETA: 15s - loss: 0.0014 - acc: 0.99 - ETA: 15s - loss: 0.0014 - acc: 0.99 - ETA: 14s - loss: 0.0014 - acc: 0.99 - ETA: 13s - loss: 0.0014 - acc: 0.99 - ETA: 12s - loss: 0.0014 - acc: 0.99 - ETA: 12s - loss: 0.0014 - acc: 0.99 - ETA: 11s - loss: 0.0014 - acc: 0.99 - ETA: 10s - loss: 0.0014 - acc: 0.99 - ETA: 9s - loss: 0.0013 - acc: 0.9998 - ETA: 8s - loss: 0.0013 - acc: 0.999 - ETA: 8s - loss: 0.0013 - acc: 0.999 - ETA: 7s - loss: 0.0013 - acc: 0.999 - ETA: 6s - loss: 0.0013 - acc: 0.999 - ETA: 5s - loss: 0.0013 - acc: 0.999 - ETA: 5s - loss: 0.0013 - acc: 0.999 - ETA: 4s - loss: 0.0014 - acc: 0.999 - ETA: 3s - loss: 0.0015 - acc: 0.999 - ETA: 2s - loss: 0.0015 - acc: 0.999 - ETA: 2s - loss: 0.0015 - acc: 0.999 - ETA: 1s - loss: 0.0015 - acc: 0.999 - ETA: 0s - loss: 0.0037 - acc: 0.998 - 81s 13ms/step - loss: 0.0037 - acc: 0.9988 - val_loss: 0.6367 - val_acc: 0.8544\n"
     ]
    }
   ],
   "source": [
    "history = model.fit(x_train, y_train, nb_epoch=10, batch_size=64,validation_data=(x_test,y_test))"
   ]
  },
  {
   "cell_type": "code",
   "execution_count": 46,
   "metadata": {},
   "outputs": [
    {
     "name": "stdout",
     "output_type": "stream",
     "text": [
      "Accuracy: 85.44%\n"
     ]
    }
   ],
   "source": [
    "# Final evaluation of the model\n",
    "scores = model.evaluate(x_test, y_test, verbose=0)\n",
    "print(\"Accuracy: %.2f%%\" % (scores[1]*100))"
   ]
  },
  {
   "cell_type": "code",
   "execution_count": 49,
   "metadata": {},
   "outputs": [
    {
     "data": {
      "image/png": "[encoded data removed]",
      "text/plain": [
       "<Figure size 432x288 with 1 Axes>"
      ]
     },
     "metadata": {
      "needs_background": "light"
     },
     "output_type": "display_data"
    }
   ],
   "source": [
    "val_loss=history.history['val_loss']\n",
    "loss=history.history['loss']\n",
    "plt.plot(val_loss)\n",
    "plt.plot(loss)\n",
    "plt.legend([\"Validation loss\",\"Training loss\"])\n",
    "plt.xlabel(\"No of Epochs\")\n",
    "plt.ylabel(\"Loss\")\n",
    "plt.title(\"Loss Vs Epochs\")\n",
    "plt.show()"
   ]
  },
  {
   "cell_type": "markdown",
   "metadata": {},
   "source": [
    "# 2nd Architecture\n",
    "#### only taking top 5000 points"
   ]
  },
  {
   "cell_type": "code",
   "execution_count": 50,
   "metadata": {},
   "outputs": [],
   "source": [
    "# tsking top 5000 points\n",
    "top_5000 = []\n",
    "count = 0\n",
    "for d in sd:\n",
    "    if count ==5000:\n",
    "        break\n",
    "    top_5000.append(d)\n",
    "    count = count+1"
   ]
  },
  {
   "cell_type": "code",
   "execution_count": 51,
   "metadata": {},
   "outputs": [
    {
     "data": {
      "text/plain": [
       "[('not', 9474),\n",
       " ('like', 3897),\n",
       " ('good', 3298),\n",
       " ('great', 2878),\n",
       " ('taste', 2680),\n",
       " ('coffee', 2662),\n",
       " ('one', 2622),\n",
       " ('would', 2480),\n",
       " ('product', 2438),\n",
       " ('flavor', 2307),\n",
       " ('love', 2008)]"
      ]
     },
     "execution_count": 51,
     "metadata": {},
     "output_type": "execute_result"
    }
   ],
   "source": [
    "top_5000[0:11]"
   ]
  },
  {
   "cell_type": "code",
   "execution_count": 52,
   "metadata": {},
   "outputs": [],
   "source": [
    "final_words = []\n",
    "for word in top_5000:\n",
    "    final_words.append(word[0])"
   ]
  },
  {
   "cell_type": "code",
   "execution_count": 53,
   "metadata": {},
   "outputs": [],
   "source": [
    "new_reviews = []   # it will contain the numerical representation of the reviews\n",
    "for f in preprocessed_reviews:\n",
    "    l = []\n",
    "    for k in f.split(' '):\n",
    "        if k in final_words:\n",
    "            ind = final_words.index(k)\n",
    "            l.append(ind+1)\n",
    "    new_reviews.append(l)"
   ]
  },
  {
   "cell_type": "code",
   "execution_count": 54,
   "metadata": {},
   "outputs": [],
   "source": [
    "# deviding the data into train and test\n",
    "y = final['Score'].values\n",
    "y_train=y[0:6000]\n",
    "x_train=new_reviews[0:6000]\n",
    "y_test=y[6000:]\n",
    "x_test=new_reviews[6000:]"
   ]
  },
  {
   "cell_type": "code",
   "execution_count": 55,
   "metadata": {},
   "outputs": [
    {
     "name": "stdout",
     "output_type": "stream",
     "text": [
      "Training data Shape (6000, 600)\n"
     ]
    }
   ],
   "source": [
    "# padding the dataset\n",
    "max_review_length = 600\n",
    "x_train=sequence.pad_sequences(x_train,maxlen=max_review_length)\n",
    "x_test=sequence.pad_sequences(x_test,maxlen=max_review_length)\n",
    "print(\"Training data Shape\",x_train.shape)"
   ]
  },
  {
   "cell_type": "code",
   "execution_count": 56,
   "metadata": {
    "scrolled": true
   },
   "outputs": [
    {
     "name": "stdout",
     "output_type": "stream",
     "text": [
      "_________________________________________________________________\n",
      "Layer (type)                 Output Shape              Param #   \n",
      "=================================================================\n",
      "embedding_2 (Embedding)      (None, 600, 32)           584448    \n",
      "_________________________________________________________________\n",
      "lstm_2 (LSTM)                (None, 100)               53200     \n",
      "_________________________________________________________________\n",
      "dense_2 (Dense)              (None, 1)                 101       \n",
      "=================================================================\n",
      "Total params: 637,749\n",
      "Trainable params: 637,749\n",
      "Non-trainable params: 0\n",
      "_________________________________________________________________\n",
      "None\n"
     ]
    }
   ],
   "source": [
    "# create the model\n",
    "embedding_vecor_length = 32\n",
    "top_words = 18264\n",
    "model = Sequential()\n",
    "model.add(Embedding(top_words, embedding_vecor_length, input_length=len(x_train[0])))\n",
    "model.add(LSTM(100))\n",
    "model.add(Dense(1, activation='sigmoid'))\n",
    "model.compile(loss='binary_crossentropy', optimizer='adam', metrics=['accuracy'])\n",
    "print(model.summary())\n",
    "#Refer: https://datascience.stackexchange.com/questions/10615/number-of-parameters-in-an-lstm-model"
   ]
  },
  {
   "cell_type": "code",
   "execution_count": 57,
   "metadata": {},
   "outputs": [
    {
     "name": "stdout",
     "output_type": "stream",
     "text": [
      "Train on 6000 samples, validate on 3564 samples\n",
      "Epoch 1/10\n",
      "6000/6000 [==============================] - ETA: 3:22 - loss: 0.6926 - acc: 0.531 - ETA: 2:15 - loss: 0.6906 - acc: 0.671 - ETA: 1:50 - loss: 0.6878 - acc: 0.744 - ETA: 1:38 - loss: 0.6855 - acc: 0.765 - ETA: 1:31 - loss: 0.6834 - acc: 0.771 - ETA: 1:26 - loss: 0.6796 - acc: 0.786 - ETA: 1:22 - loss: 0.6759 - acc: 0.792 - ETA: 1:18 - loss: 0.6714 - acc: 0.798 - ETA: 1:16 - loss: 0.6679 - acc: 0.793 - ETA: 1:14 - loss: 0.6618 - acc: 0.792 - ETA: 1:13 - loss: 0.6510 - acc: 0.798 - ETA: 1:11 - loss: 0.6416 - acc: 0.795 - ETA: 1:09 - loss: 0.6235 - acc: 0.800 - ETA: 1:06 - loss: 0.6169 - acc: 0.802 - ETA: 1:03 - loss: 0.5936 - acc: 0.810 - ETA: 1:01 - loss: 0.5960 - acc: 0.807 - ETA: 59s - loss: 0.5845 - acc: 0.810 - ETA: 57s - loss: 0.5758 - acc: 0.81 - ETA: 55s - loss: 0.5660 - acc: 0.81 - ETA: 53s - loss: 0.5609 - acc: 0.81 - ETA: 51s - loss: 0.5525 - acc: 0.81 - ETA: 49s - loss: 0.5479 - acc: 0.82 - ETA: 48s - loss: 0.5424 - acc: 0.82 - ETA: 46s - loss: 0.5383 - acc: 0.82 - ETA: 45s - loss: 0.5296 - acc: 0.82 - ETA: 20:45:28 - loss: 0.5214 - acc: 0.828 - ETA: 19:41:39 - loss: 0.5202 - acc: 0.827 - ETA: 18:42:24 - loss: 0.5173 - acc: 0.828 - ETA: 17:47:14 - loss: 0.5135 - acc: 0.829 - ETA: 16:55:45 - loss: 0.5164 - acc: 0.827 - ETA: 16:07:35 - loss: 0.5188 - acc: 0.825 - ETA: 15:22:25 - loss: 0.5106 - acc: 0.828 - ETA: 14:40:00 - loss: 0.5063 - acc: 0.830 - ETA: 14:00:04 - loss: 0.5056 - acc: 0.829 - ETA: 13:22:26 - loss: 0.5031 - acc: 0.829 - ETA: 12:46:52 - loss: 0.5005 - acc: 0.830 - ETA: 12:13:15 - loss: 0.4983 - acc: 0.831 - ETA: 11:41:23 - loss: 0.4984 - acc: 0.830 - ETA: 11:11:09 - loss: 0.4954 - acc: 0.831 - ETA: 10:42:25 - loss: 0.4918 - acc: 0.832 - ETA: 10:15:06 - loss: 0.4923 - acc: 0.831 - ETA: 9:49:05 - loss: 0.4915 - acc: 0.831 - ETA: 9:24:16 - loss: 0.4907 - acc: 0.83 - ETA: 9:00:35 - loss: 0.4895 - acc: 0.83 - ETA: 8:37:58 - loss: 0.4876 - acc: 0.83 - ETA: 8:16:19 - loss: 0.4852 - acc: 0.83 - ETA: 7:55:35 - loss: 0.4858 - acc: 0.83 - ETA: 7:35:44 - loss: 0.4838 - acc: 0.83 - ETA: 7:16:40 - loss: 0.4843 - acc: 0.83 - ETA: 6:58:23 - loss: 0.4826 - acc: 0.83 - ETA: 6:40:49 - loss: 0.4803 - acc: 0.83 - ETA: 6:23:55 - loss: 0.4780 - acc: 0.83 - ETA: 6:07:39 - loss: 0.4765 - acc: 0.83 - ETA: 5:52:00 - loss: 0.4764 - acc: 0.83 - ETA: 5:36:54 - loss: 0.4759 - acc: 0.83 - ETA: 5:22:21 - loss: 0.4755 - acc: 0.83 - ETA: 5:08:19 - loss: 0.4743 - acc: 0.83 - ETA: 4:54:46 - loss: 0.4724 - acc: 0.83 - ETA: 4:41:40 - loss: 0.4713 - acc: 0.83 - ETA: 4:29:00 - loss: 0.4700 - acc: 0.83 - ETA: 4:16:45 - loss: 0.4673 - acc: 0.83 - ETA: 4:04:54 - loss: 0.4657 - acc: 0.83 - ETA: 3:53:26 - loss: 0.4650 - acc: 0.83 - ETA: 3:42:19 - loss: 0.4638 - acc: 0.83 - ETA: 3:31:32 - loss: 0.4628 - acc: 0.83 - ETA: 3:21:05 - loss: 0.4613 - acc: 0.83 - ETA: 3:10:57 - loss: 0.4590 - acc: 0.83 - ETA: 3:01:07 - loss: 0.4590 - acc: 0.83 - ETA: 2:51:33 - loss: 0.4579 - acc: 0.83 - ETA: 2:42:17 - loss: 0.4575 - acc: 0.83 - ETA: 2:33:15 - loss: 0.4550 - acc: 0.83 - ETA: 2:24:29 - loss: 0.4543 - acc: 0.83 - ETA: 2:15:57 - loss: 0.4514 - acc: 0.83 - ETA: 2:07:39 - loss: 0.4504 - acc: 0.83 - ETA: 1:59:35 - loss: 0.4487 - acc: 0.83 - ETA: 1:51:43 - loss: 0.4496 - acc: 0.83 - ETA: 1:44:03 - loss: 0.4471 - acc: 0.83 - ETA: 1:36:35 - loss: 0.4451 - acc: 0.83 - ETA: 1:29:18 - loss: 0.4436 - acc: 0.83 - ETA: 1:22:13 - loss: 0.4430 - acc: 0.83 - ETA: 1:15:18 - loss: 0.4432 - acc: 0.83 - ETA: 1:08:33 - loss: 0.4410 - acc: 0.83 - ETA: 1:01:57 - loss: 0.4415 - acc: 0.83 - ETA: 55:31 - loss: 0.4404 - acc: 0.8361 - ETA: 49:14 - loss: 0.4392 - acc: 0.83 - ETA: 43:06 - loss: 0.4385 - acc: 0.83 - ETA: 37:07 - loss: 0.4391 - acc: 0.83 - ETA: 31:15 - loss: 0.4375 - acc: 0.83 - ETA: 25:32 - loss: 0.4359 - acc: 0.83 - ETA: 19:56 - loss: 0.4350 - acc: 0.83 - ETA: 14:27 - loss: 0.4332 - acc: 0.83 - ETA: 9:06 - loss: 0.4314 - acc: 0.8364 - ETA: 3:51 - loss: 0.4308 - acc: 0.836 - 28715s 5s/step - loss: 0.4299 - acc: 0.8365 - val_loss: 0.3257 - val_acc: 0.8527\n",
      "Epoch 2/10\n",
      "6000/6000 [==============================] - ETA: 49s - loss: 0.2580 - acc: 0.87 - ETA: 46s - loss: 0.2665 - acc: 0.88 - ETA: 49s - loss: 0.2693 - acc: 0.86 - ETA: 47s - loss: 0.2756 - acc: 0.86 - ETA: 48s - loss: 0.2818 - acc: 0.85 - ETA: 45s - loss: 0.2634 - acc: 0.87 - ETA: 44s - loss: 0.2549 - acc: 0.87 - ETA: 42s - loss: 0.2405 - acc: 0.88 - ETA: 41s - loss: 0.2445 - acc: 0.88 - ETA: 41s - loss: 0.2391 - acc: 0.89 - ETA: 41s - loss: 0.2462 - acc: 0.88 - ETA: 41s - loss: 0.2417 - acc: 0.89 - ETA: 40s - loss: 0.2491 - acc: 0.88 - ETA: 39s - loss: 0.2437 - acc: 0.88 - ETA: 39s - loss: 0.2415 - acc: 0.89 - ETA: 39s - loss: 0.2447 - acc: 0.89 - ETA: 39s - loss: 0.2438 - acc: 0.89 - ETA: 39s - loss: 0.2376 - acc: 0.89 - ETA: 38s - loss: 0.2395 - acc: 0.89 - ETA: 38s - loss: 0.2346 - acc: 0.89 - ETA: 37s - loss: 0.2384 - acc: 0.90 - ETA: 36s - loss: 0.2369 - acc: 0.90 - ETA: 35s - loss: 0.2342 - acc: 0.90 - ETA: 35s - loss: 0.2290 - acc: 0.90 - ETA: 34s - loss: 0.2319 - acc: 0.90 - ETA: 34s - loss: 0.2323 - acc: 0.90 - ETA: 33s - loss: 0.2336 - acc: 0.90 - ETA: 33s - loss: 0.2332 - acc: 0.90 - ETA: 32s - loss: 0.2351 - acc: 0.90 - ETA: 32s - loss: 0.2359 - acc: 0.90 - ETA: 31s - loss: 0.2337 - acc: 0.90 - ETA: 31s - loss: 0.2302 - acc: 0.90 - ETA: 30s - loss: 0.2309 - acc: 0.90 - ETA: 29s - loss: 0.2297 - acc: 0.90 - ETA: 29s - loss: 0.2278 - acc: 0.90 - ETA: 29s - loss: 0.2284 - acc: 0.90 - ETA: 28s - loss: 0.2291 - acc: 0.90 - ETA: 27s - loss: 0.2275 - acc: 0.90 - ETA: 27s - loss: 0.2300 - acc: 0.90 - ETA: 26s - loss: 0.2303 - acc: 0.90 - ETA: 26s - loss: 0.2300 - acc: 0.90 - ETA: 25s - loss: 0.2312 - acc: 0.90 - ETA: 25s - loss: 0.2321 - acc: 0.90 - ETA: 24s - loss: 0.2306 - acc: 0.90 - ETA: 24s - loss: 0.2313 - acc: 0.90 - ETA: 23s - loss: 0.2307 - acc: 0.90 - ETA: 23s - loss: 0.2332 - acc: 0.90 - ETA: 22s - loss: 0.2338 - acc: 0.90 - ETA: 21s - loss: 0.2332 - acc: 0.90 - ETA: 21s - loss: 0.2350 - acc: 0.90 - ETA: 20s - loss: 0.2352 - acc: 0.90 - ETA: 20s - loss: 0.2358 - acc: 0.90 - ETA: 19s - loss: 0.2352 - acc: 0.90 - ETA: 19s - loss: 0.2336 - acc: 0.90 - ETA: 18s - loss: 0.2353 - acc: 0.90 - ETA: 18s - loss: 0.2349 - acc: 0.90 - ETA: 17s - loss: 0.2338 - acc: 0.90 - ETA: 17s - loss: 0.2327 - acc: 0.90 - ETA: 16s - loss: 0.2324 - acc: 0.90 - ETA: 16s - loss: 0.2313 - acc: 0.90 - ETA: 15s - loss: 0.2308 - acc: 0.90 - ETA: 15s - loss: 0.2319 - acc: 0.90 - ETA: 14s - loss: 0.2314 - acc: 0.90 - ETA: 14s - loss: 0.2302 - acc: 0.90 - ETA: 13s - loss: 0.2288 - acc: 0.90 - ETA: 13s - loss: 0.2286 - acc: 0.90 - ETA: 12s - loss: 0.2290 - acc: 0.90 - ETA: 12s - loss: 0.2279 - acc: 0.90 - ETA: 11s - loss: 0.2274 - acc: 0.90 - ETA: 11s - loss: 0.2280 - acc: 0.90 - ETA: 10s - loss: 0.2267 - acc: 0.90 - ETA: 10s - loss: 0.2258 - acc: 0.90 - ETA: 9s - loss: 0.2246 - acc: 0.9082 - ETA: 9s - loss: 0.2243 - acc: 0.908 - ETA: 8s - loss: 0.2238 - acc: 0.908 - ETA: 8s - loss: 0.2225 - acc: 0.909 - ETA: 7s - loss: 0.2216 - acc: 0.909 - ETA: 7s - loss: 0.2217 - acc: 0.909 - ETA: 6s - loss: 0.2215 - acc: 0.910 - ETA: 6s - loss: 0.2207 - acc: 0.910 - ETA: 5s - loss: 0.2200 - acc: 0.910 - ETA: 5s - loss: 0.2193 - acc: 0.910 - ETA: 4s - loss: 0.2186 - acc: 0.910 - ETA: 4s - loss: 0.2180 - acc: 0.910 - ETA: 4s - loss: 0.2188 - acc: 0.910 - ETA: 3s - loss: 0.2181 - acc: 0.910 - ETA: 3s - loss: 0.2183 - acc: 0.910 - ETA: 2s - loss: 0.2171 - acc: 0.910 - ETA: 2s - loss: 0.2167 - acc: 0.910 - ETA: 1s - loss: 0.2160 - acc: 0.911 - ETA: 1s - loss: 0.2159 - acc: 0.911 - ETA: 0s - loss: 0.2152 - acc: 0.912 - ETA: 0s - loss: 0.2150 - acc: 0.912 - 48s 8ms/step - loss: 0.2162 - acc: 0.9115 - val_loss: 0.2901 - val_acc: 0.8788\n",
      "Epoch 3/10\n",
      "6000/6000 [==============================] - ETA: 43s - loss: 0.1556 - acc: 0.93 - ETA: 39s - loss: 0.1381 - acc: 0.96 - ETA: 38s - loss: 0.1195 - acc: 0.96 - ETA: 38s - loss: 0.1319 - acc: 0.96 - ETA: 37s - loss: 0.1241 - acc: 0.96 - ETA: 37s - loss: 0.1353 - acc: 0.95 - ETA: 36s - loss: 0.1413 - acc: 0.95 - ETA: 36s - loss: 0.1299 - acc: 0.95 - ETA: 36s - loss: 0.1318 - acc: 0.95 - ETA: 35s - loss: 0.1282 - acc: 0.95 - ETA: 35s - loss: 0.1328 - acc: 0.95 - ETA: 35s - loss: 0.1318 - acc: 0.95 - ETA: 34s - loss: 0.1314 - acc: 0.95 - ETA: 34s - loss: 0.1343 - acc: 0.95 - ETA: 33s - loss: 0.1351 - acc: 0.95 - ETA: 33s - loss: 0.1361 - acc: 0.95 - ETA: 32s - loss: 0.1376 - acc: 0.95 - ETA: 32s - loss: 0.1363 - acc: 0.95 - ETA: 32s - loss: 0.1347 - acc: 0.95 - ETA: 33s - loss: 0.1335 - acc: 0.95 - ETA: 34s - loss: 0.1330 - acc: 0.95 - ETA: 35s - loss: 0.1344 - acc: 0.95 - ETA: 35s - loss: 0.1342 - acc: 0.95 - ETA: 35s - loss: 0.1304 - acc: 0.95 - ETA: 36s - loss: 0.1301 - acc: 0.95 - ETA: 36s - loss: 0.1273 - acc: 0.95 - ETA: 36s - loss: 0.1284 - acc: 0.95 - ETA: 36s - loss: 0.1276 - acc: 0.95 - ETA: 36s - loss: 0.1264 - acc: 0.95 - ETA: 36s - loss: 0.1244 - acc: 0.95 - ETA: 36s - loss: 0.1244 - acc: 0.95 - ETA: 36s - loss: 0.1239 - acc: 0.95 - ETA: 36s - loss: 0.1241 - acc: 0.95 - ETA: 36s - loss: 0.1228 - acc: 0.95 - ETA: 35s - loss: 0.1243 - acc: 0.95 - ETA: 35s - loss: 0.1243 - acc: 0.95 - ETA: 35s - loss: 0.1244 - acc: 0.95 - ETA: 34s - loss: 0.1233 - acc: 0.95 - ETA: 34s - loss: 0.1213 - acc: 0.95 - ETA: 33s - loss: 0.1207 - acc: 0.95 - ETA: 33s - loss: 0.1189 - acc: 0.95 - ETA: 32s - loss: 0.1199 - acc: 0.95 - ETA: 32s - loss: 0.1187 - acc: 0.95 - ETA: 32s - loss: 0.1197 - acc: 0.95 - ETA: 31s - loss: 0.1185 - acc: 0.95 - ETA: 31s - loss: 0.1178 - acc: 0.95 - ETA: 30s - loss: 0.1160 - acc: 0.95 - ETA: 30s - loss: 0.1154 - acc: 0.95 - ETA: 29s - loss: 0.1151 - acc: 0.95 - ETA: 29s - loss: 0.1158 - acc: 0.95 - ETA: 28s - loss: 0.1164 - acc: 0.95 - ETA: 28s - loss: 0.1164 - acc: 0.95 - ETA: 27s - loss: 0.1165 - acc: 0.95 - ETA: 26s - loss: 0.1160 - acc: 0.95 - ETA: 26s - loss: 0.1168 - acc: 0.95 - ETA: 25s - loss: 0.1176 - acc: 0.95 - ETA: 25s - loss: 0.1180 - acc: 0.95 - ETA: 24s - loss: 0.1186 - acc: 0.95 - ETA: 23s - loss: 0.1190 - acc: 0.95 - ETA: 23s - loss: 0.1195 - acc: 0.95 - ETA: 22s - loss: 0.1187 - acc: 0.95 - ETA: 22s - loss: 0.1211 - acc: 0.95 - ETA: 21s - loss: 0.1205 - acc: 0.95 - ETA: 20s - loss: 0.1204 - acc: 0.95 - ETA: 20s - loss: 0.1206 - acc: 0.95 - ETA: 19s - loss: 0.1208 - acc: 0.95 - ETA: 18s - loss: 0.1201 - acc: 0.95 - ETA: 18s - loss: 0.1205 - acc: 0.95 - ETA: 17s - loss: 0.1223 - acc: 0.95 - ETA: 16s - loss: 0.1229 - acc: 0.95 - ETA: 16s - loss: 0.1233 - acc: 0.95 - ETA: 15s - loss: 0.1229 - acc: 0.95 - ETA: 14s - loss: 0.1226 - acc: 0.95 - ETA: 14s - loss: 0.1231 - acc: 0.95 - ETA: 13s - loss: 0.1238 - acc: 0.95 - ETA: 12s - loss: 0.1244 - acc: 0.95 - ETA: 12s - loss: 0.1242 - acc: 0.95 - ETA: 11s - loss: 0.1236 - acc: 0.95 - ETA: 10s - loss: 0.1241 - acc: 0.95 - ETA: 9s - loss: 0.1238 - acc: 0.9537 - ETA: 9s - loss: 0.1240 - acc: 0.953 - ETA: 8s - loss: 0.1234 - acc: 0.954 - ETA: 7s - loss: 0.1235 - acc: 0.954 - ETA: 7s - loss: 0.1241 - acc: 0.953 - ETA: 6s - loss: 0.1237 - acc: 0.953 - ETA: 5s - loss: 0.1233 - acc: 0.954 - ETA: 4s - loss: 0.1227 - acc: 0.954 - ETA: 4s - loss: 0.1233 - acc: 0.954 - ETA: 3s - loss: 0.1237 - acc: 0.954 - ETA: 2s - loss: 0.1237 - acc: 0.954 - ETA: 2s - loss: 0.1235 - acc: 0.954 - ETA: 1s - loss: 0.1235 - acc: 0.953 - ETA: 0s - loss: 0.1227 - acc: 0.954 - 79s 13ms/step - loss: 0.1223 - acc: 0.9543 - val_loss: 0.3173 - val_acc: 0.8844\n",
      "Epoch 4/10\n",
      "6000/6000 [==============================] - ETA: 1:16 - loss: 0.0369 - acc: 1.000 - ETA: 1:14 - loss: 0.0414 - acc: 0.992 - ETA: 1:13 - loss: 0.0751 - acc: 0.974 - ETA: 1:12 - loss: 0.0708 - acc: 0.976 - ETA: 1:11 - loss: 0.0828 - acc: 0.971 - ETA: 1:10 - loss: 0.0731 - acc: 0.976 - ETA: 1:10 - loss: 0.0684 - acc: 0.977 - ETA: 1:09 - loss: 0.0747 - acc: 0.974 - ETA: 1:08 - loss: 0.0739 - acc: 0.974 - ETA: 1:07 - loss: 0.0692 - acc: 0.976 - ETA: 1:07 - loss: 0.0671 - acc: 0.977 - ETA: 1:06 - loss: 0.0656 - acc: 0.977 - ETA: 1:06 - loss: 0.0653 - acc: 0.978 - ETA: 1:05 - loss: 0.0647 - acc: 0.977 - ETA: 1:04 - loss: 0.0637 - acc: 0.978 - ETA: 1:03 - loss: 0.0643 - acc: 0.977 - ETA: 1:02 - loss: 0.0644 - acc: 0.977 - ETA: 1:02 - loss: 0.0655 - acc: 0.977 - ETA: 1:01 - loss: 0.0640 - acc: 0.977 - ETA: 1:00 - loss: 0.0631 - acc: 0.978 - ETA: 59s - loss: 0.0625 - acc: 0.978 - ETA: 58s - loss: 0.0608 - acc: 0.97 - ETA: 57s - loss: 0.0628 - acc: 0.97 - ETA: 56s - loss: 0.0637 - acc: 0.97 - ETA: 55s - loss: 0.0658 - acc: 0.97 - ETA: 54s - loss: 0.0647 - acc: 0.97 - ETA: 53s - loss: 0.0631 - acc: 0.97 - ETA: 52s - loss: 0.0624 - acc: 0.97 - ETA: 51s - loss: 0.0629 - acc: 0.97 - ETA: 50s - loss: 0.0630 - acc: 0.97 - ETA: 49s - loss: 0.0624 - acc: 0.97 - ETA: 48s - loss: 0.0612 - acc: 0.98 - ETA: 47s - loss: 0.0605 - acc: 0.98 - ETA: 47s - loss: 0.0596 - acc: 0.98 - ETA: 46s - loss: 0.0586 - acc: 0.98 - ETA: 45s - loss: 0.0598 - acc: 0.98 - ETA: 44s - loss: 0.0620 - acc: 0.98 - ETA: 44s - loss: 0.0611 - acc: 0.98 - ETA: 43s - loss: 0.0601 - acc: 0.98 - ETA: 42s - loss: 0.0603 - acc: 0.98 - ETA: 41s - loss: 0.0593 - acc: 0.98 - ETA: 41s - loss: 0.0595 - acc: 0.98 - ETA: 40s - loss: 0.0597 - acc: 0.98 - ETA: 39s - loss: 0.0589 - acc: 0.98 - ETA: 38s - loss: 0.0599 - acc: 0.98 - ETA: 38s - loss: 0.0597 - acc: 0.98 - ETA: 37s - loss: 0.0589 - acc: 0.98 - ETA: 36s - loss: 0.0580 - acc: 0.98 - ETA: 35s - loss: 0.0594 - acc: 0.98 - ETA: 34s - loss: 0.0588 - acc: 0.98 - ETA: 34s - loss: 0.0581 - acc: 0.98 - ETA: 33s - loss: 0.0579 - acc: 0.98 - ETA: 32s - loss: 0.0570 - acc: 0.98 - ETA: 31s - loss: 0.0566 - acc: 0.98 - ETA: 30s - loss: 0.0571 - acc: 0.98 - ETA: 30s - loss: 0.0564 - acc: 0.98 - ETA: 29s - loss: 0.0562 - acc: 0.98 - ETA: 28s - loss: 0.0560 - acc: 0.98 - ETA: 27s - loss: 0.0560 - acc: 0.98 - ETA: 27s - loss: 0.0569 - acc: 0.98 - ETA: 26s - loss: 0.0569 - acc: 0.98 - ETA: 25s - loss: 0.0575 - acc: 0.98 - ETA: 24s - loss: 0.0570 - acc: 0.98 - ETA: 23s - loss: 0.0582 - acc: 0.98 - ETA: 23s - loss: 0.0599 - acc: 0.98 - ETA: 22s - loss: 0.0598 - acc: 0.98 - ETA: 21s - loss: 0.0596 - acc: 0.98 - ETA: 20s - loss: 0.0600 - acc: 0.98 - ETA: 19s - loss: 0.0604 - acc: 0.98 - ETA: 19s - loss: 0.0608 - acc: 0.98 - ETA: 18s - loss: 0.0617 - acc: 0.98 - ETA: 17s - loss: 0.0623 - acc: 0.98 - ETA: 16s - loss: 0.0629 - acc: 0.98 - ETA: 15s - loss: 0.0629 - acc: 0.98 - ETA: 15s - loss: 0.0628 - acc: 0.98 - ETA: 14s - loss: 0.0631 - acc: 0.97 - ETA: 13s - loss: 0.0627 - acc: 0.97 - ETA: 12s - loss: 0.0623 - acc: 0.98 - ETA: 11s - loss: 0.0624 - acc: 0.98 - ETA: 11s - loss: 0.0630 - acc: 0.97 - ETA: 10s - loss: 0.0629 - acc: 0.97 - ETA: 9s - loss: 0.0627 - acc: 0.9796 - ETA: 8s - loss: 0.0643 - acc: 0.979 - ETA: 7s - loss: 0.0653 - acc: 0.979 - ETA: 7s - loss: 0.0648 - acc: 0.979 - ETA: 6s - loss: 0.0646 - acc: 0.979 - ETA: 5s - loss: 0.0640 - acc: 0.979 - ETA: 4s - loss: 0.0650 - acc: 0.979 - ETA: 3s - loss: 0.0655 - acc: 0.978 - ETA: 3s - loss: 0.0651 - acc: 0.979 - ETA: 2s - loss: 0.0663 - acc: 0.978 - ETA: 1s - loss: 0.0669 - acc: 0.977 - ETA: 0s - loss: 0.0666 - acc: 0.978 - 85s 14ms/step - loss: 0.0669 - acc: 0.9782 - val_loss: 0.3601 - val_acc: 0.8799\n",
      "Epoch 5/10\n"
     ]
    },
    {
     "name": "stdout",
     "output_type": "stream",
     "text": [
      "6000/6000 [==============================] - ETA: 42s - loss: 0.0587 - acc: 0.98 - ETA: 45s - loss: 0.0697 - acc: 0.97 - ETA: 42s - loss: 0.0564 - acc: 0.98 - ETA: 41s - loss: 0.0475 - acc: 0.98 - ETA: 40s - loss: 0.0449 - acc: 0.98 - ETA: 39s - loss: 0.0568 - acc: 0.98 - ETA: 38s - loss: 0.0529 - acc: 0.98 - ETA: 37s - loss: 0.0530 - acc: 0.98 - ETA: 37s - loss: 0.0486 - acc: 0.98 - ETA: 37s - loss: 0.0490 - acc: 0.98 - ETA: 37s - loss: 0.0486 - acc: 0.98 - ETA: 37s - loss: 0.0496 - acc: 0.98 - ETA: 37s - loss: 0.0473 - acc: 0.98 - ETA: 36s - loss: 0.0474 - acc: 0.98 - ETA: 36s - loss: 0.0456 - acc: 0.98 - ETA: 36s - loss: 0.0454 - acc: 0.98 - ETA: 36s - loss: 0.0446 - acc: 0.98 - ETA: 35s - loss: 0.0454 - acc: 0.98 - ETA: 35s - loss: 0.0459 - acc: 0.98 - ETA: 34s - loss: 0.0481 - acc: 0.98 - ETA: 34s - loss: 0.0493 - acc: 0.98 - ETA: 34s - loss: 0.0480 - acc: 0.98 - ETA: 33s - loss: 0.0515 - acc: 0.98 - ETA: 33s - loss: 0.0520 - acc: 0.98 - ETA: 33s - loss: 0.0502 - acc: 0.98 - ETA: 33s - loss: 0.0504 - acc: 0.98 - ETA: 33s - loss: 0.0500 - acc: 0.98 - ETA: 32s - loss: 0.0488 - acc: 0.98 - ETA: 32s - loss: 0.0478 - acc: 0.98 - ETA: 31s - loss: 0.0473 - acc: 0.98 - ETA: 31s - loss: 0.0469 - acc: 0.98 - ETA: 30s - loss: 0.0506 - acc: 0.98 - ETA: 30s - loss: 0.0505 - acc: 0.98 - ETA: 29s - loss: 0.0517 - acc: 0.98 - ETA: 29s - loss: 0.0514 - acc: 0.98 - ETA: 29s - loss: 0.0506 - acc: 0.98 - ETA: 28s - loss: 0.0518 - acc: 0.98 - ETA: 28s - loss: 0.0512 - acc: 0.98 - ETA: 27s - loss: 0.0511 - acc: 0.98 - ETA: 26s - loss: 0.0510 - acc: 0.98 - ETA: 26s - loss: 0.0501 - acc: 0.98 - ETA: 26s - loss: 0.0504 - acc: 0.98 - ETA: 25s - loss: 0.0501 - acc: 0.98 - ETA: 25s - loss: 0.0501 - acc: 0.98 - ETA: 24s - loss: 0.0498 - acc: 0.98 - ETA: 24s - loss: 0.0497 - acc: 0.98 - ETA: 23s - loss: 0.0488 - acc: 0.98 - ETA: 23s - loss: 0.0489 - acc: 0.98 - ETA: 22s - loss: 0.0482 - acc: 0.98 - ETA: 22s - loss: 0.0485 - acc: 0.98 - ETA: 21s - loss: 0.0484 - acc: 0.98 - ETA: 21s - loss: 0.0476 - acc: 0.98 - ETA: 20s - loss: 0.0476 - acc: 0.98 - ETA: 19s - loss: 0.0472 - acc: 0.98 - ETA: 19s - loss: 0.0465 - acc: 0.98 - ETA: 18s - loss: 0.0480 - acc: 0.98 - ETA: 18s - loss: 0.0475 - acc: 0.98 - ETA: 17s - loss: 0.0473 - acc: 0.98 - ETA: 17s - loss: 0.0470 - acc: 0.98 - ETA: 16s - loss: 0.0481 - acc: 0.98 - ETA: 16s - loss: 0.0481 - acc: 0.98 - ETA: 15s - loss: 0.0476 - acc: 0.98 - ETA: 15s - loss: 0.0476 - acc: 0.98 - ETA: 14s - loss: 0.0474 - acc: 0.98 - ETA: 14s - loss: 0.0469 - acc: 0.98 - ETA: 13s - loss: 0.0482 - acc: 0.98 - ETA: 13s - loss: 0.0478 - acc: 0.98 - ETA: 12s - loss: 0.0486 - acc: 0.98 - ETA: 12s - loss: 0.0493 - acc: 0.98 - ETA: 11s - loss: 0.0493 - acc: 0.98 - ETA: 11s - loss: 0.0488 - acc: 0.98 - ETA: 10s - loss: 0.0486 - acc: 0.98 - ETA: 10s - loss: 0.0484 - acc: 0.98 - ETA: 9s - loss: 0.0492 - acc: 0.9854 - ETA: 9s - loss: 0.0493 - acc: 0.985 - ETA: 8s - loss: 0.0497 - acc: 0.984 - ETA: 8s - loss: 0.0499 - acc: 0.984 - ETA: 7s - loss: 0.0495 - acc: 0.984 - ETA: 7s - loss: 0.0491 - acc: 0.985 - ETA: 6s - loss: 0.0488 - acc: 0.985 - ETA: 6s - loss: 0.0486 - acc: 0.985 - ETA: 5s - loss: 0.0484 - acc: 0.985 - ETA: 5s - loss: 0.0479 - acc: 0.985 - ETA: 4s - loss: 0.0481 - acc: 0.985 - ETA: 4s - loss: 0.0480 - acc: 0.985 - ETA: 3s - loss: 0.0478 - acc: 0.985 - ETA: 3s - loss: 0.0473 - acc: 0.985 - ETA: 2s - loss: 0.0472 - acc: 0.985 - ETA: 2s - loss: 0.0468 - acc: 0.985 - ETA: 1s - loss: 0.0467 - acc: 0.985 - ETA: 1s - loss: 0.0463 - acc: 0.985 - ETA: 0s - loss: 0.0462 - acc: 0.985 - ETA: 0s - loss: 0.0473 - acc: 0.985 - 51s 9ms/step - loss: 0.0472 - acc: 0.9855 - val_loss: 0.4532 - val_acc: 0.8718\n",
      "Epoch 6/10\n",
      "6000/6000 [==============================] - ETA: 45s - loss: 0.0581 - acc: 0.96 - ETA: 44s - loss: 0.0479 - acc: 0.97 - ETA: 43s - loss: 0.0382 - acc: 0.98 - ETA: 42s - loss: 0.0450 - acc: 0.98 - ETA: 42s - loss: 0.0387 - acc: 0.98 - ETA: 41s - loss: 0.0369 - acc: 0.98 - ETA: 41s - loss: 0.0361 - acc: 0.98 - ETA: 41s - loss: 0.0326 - acc: 0.98 - ETA: 40s - loss: 0.0402 - acc: 0.98 - ETA: 40s - loss: 0.0402 - acc: 0.98 - ETA: 39s - loss: 0.0381 - acc: 0.98 - ETA: 39s - loss: 0.0364 - acc: 0.98 - ETA: 38s - loss: 0.0344 - acc: 0.98 - ETA: 38s - loss: 0.0327 - acc: 0.98 - ETA: 37s - loss: 0.0320 - acc: 0.98 - ETA: 36s - loss: 0.0330 - acc: 0.98 - ETA: 36s - loss: 0.0317 - acc: 0.98 - ETA: 35s - loss: 0.0306 - acc: 0.98 - ETA: 35s - loss: 0.0294 - acc: 0.99 - ETA: 34s - loss: 0.0283 - acc: 0.99 - ETA: 33s - loss: 0.0315 - acc: 0.98 - ETA: 33s - loss: 0.0324 - acc: 0.98 - ETA: 32s - loss: 0.0315 - acc: 0.98 - ETA: 32s - loss: 0.0320 - acc: 0.98 - ETA: 31s - loss: 0.0312 - acc: 0.99 - ETA: 31s - loss: 0.0315 - acc: 0.99 - ETA: 30s - loss: 0.0312 - acc: 0.99 - ETA: 30s - loss: 0.0312 - acc: 0.99 - ETA: 29s - loss: 0.0314 - acc: 0.99 - ETA: 28s - loss: 0.0312 - acc: 0.99 - ETA: 28s - loss: 0.0305 - acc: 0.99 - ETA: 27s - loss: 0.0300 - acc: 0.99 - ETA: 27s - loss: 0.0293 - acc: 0.99 - ETA: 26s - loss: 0.0310 - acc: 0.99 - ETA: 26s - loss: 0.0305 - acc: 0.99 - ETA: 25s - loss: 0.0300 - acc: 0.99 - ETA: 25s - loss: 0.0298 - acc: 0.99 - ETA: 24s - loss: 0.0293 - acc: 0.99 - ETA: 24s - loss: 0.0287 - acc: 0.99 - ETA: 23s - loss: 0.0285 - acc: 0.99 - ETA: 23s - loss: 0.0279 - acc: 0.99 - ETA: 22s - loss: 0.0285 - acc: 0.99 - ETA: 22s - loss: 0.0281 - acc: 0.99 - ETA: 21s - loss: 0.0278 - acc: 0.99 - ETA: 21s - loss: 0.0275 - acc: 0.99 - ETA: 21s - loss: 0.0273 - acc: 0.99 - ETA: 20s - loss: 0.0270 - acc: 0.99 - ETA: 20s - loss: 0.0265 - acc: 0.99 - ETA: 19s - loss: 0.0263 - acc: 0.99 - ETA: 19s - loss: 0.0268 - acc: 0.99 - ETA: 18s - loss: 0.0275 - acc: 0.99 - ETA: 18s - loss: 0.0272 - acc: 0.99 - ETA: 18s - loss: 0.0269 - acc: 0.99 - ETA: 17s - loss: 0.0272 - acc: 0.99 - ETA: 17s - loss: 0.0268 - acc: 0.99 - ETA: 16s - loss: 0.0266 - acc: 0.99 - ETA: 16s - loss: 0.0265 - acc: 0.99 - ETA: 15s - loss: 0.0265 - acc: 0.99 - ETA: 15s - loss: 0.0264 - acc: 0.99 - ETA: 14s - loss: 0.0263 - acc: 0.99 - ETA: 14s - loss: 0.0261 - acc: 0.99 - ETA: 14s - loss: 0.0259 - acc: 0.99 - ETA: 13s - loss: 0.0256 - acc: 0.99 - ETA: 13s - loss: 0.0253 - acc: 0.99 - ETA: 12s - loss: 0.0252 - acc: 0.99 - ETA: 12s - loss: 0.0251 - acc: 0.99 - ETA: 11s - loss: 0.0249 - acc: 0.99 - ETA: 11s - loss: 0.0248 - acc: 0.99 - ETA: 11s - loss: 0.0252 - acc: 0.99 - ETA: 10s - loss: 0.0260 - acc: 0.99 - ETA: 10s - loss: 0.0265 - acc: 0.99 - ETA: 9s - loss: 0.0264 - acc: 0.9924 - ETA: 9s - loss: 0.0261 - acc: 0.992 - ETA: 8s - loss: 0.0265 - acc: 0.992 - ETA: 8s - loss: 0.0267 - acc: 0.992 - ETA: 7s - loss: 0.0272 - acc: 0.992 - ETA: 7s - loss: 0.0271 - acc: 0.992 - ETA: 7s - loss: 0.0270 - acc: 0.992 - ETA: 6s - loss: 0.0274 - acc: 0.991 - ETA: 6s - loss: 0.0278 - acc: 0.991 - ETA: 5s - loss: 0.0278 - acc: 0.991 - ETA: 5s - loss: 0.0278 - acc: 0.991 - ETA: 4s - loss: 0.0276 - acc: 0.991 - ETA: 4s - loss: 0.0286 - acc: 0.991 - ETA: 3s - loss: 0.0285 - acc: 0.991 - ETA: 3s - loss: 0.0285 - acc: 0.991 - ETA: 3s - loss: 0.0286 - acc: 0.991 - ETA: 2s - loss: 0.0293 - acc: 0.990 - ETA: 2s - loss: 0.0291 - acc: 0.991 - ETA: 1s - loss: 0.0291 - acc: 0.990 - ETA: 1s - loss: 0.0291 - acc: 0.990 - ETA: 0s - loss: 0.0291 - acc: 0.991 - ETA: 0s - loss: 0.0289 - acc: 0.991 - 47s 8ms/step - loss: 0.0296 - acc: 0.9908 - val_loss: 0.4688 - val_acc: 0.8765\n",
      "Epoch 7/10\n",
      "6000/6000 [==============================] - ETA: 45s - loss: 0.0105 - acc: 1.00 - ETA: 43s - loss: 0.0184 - acc: 1.00 - ETA: 43s - loss: 0.0165 - acc: 1.00 - ETA: 42s - loss: 0.0150 - acc: 1.00 - ETA: 42s - loss: 0.0165 - acc: 1.00 - ETA: 40s - loss: 0.0157 - acc: 1.00 - ETA: 39s - loss: 0.0143 - acc: 1.00 - ETA: 39s - loss: 0.0182 - acc: 0.99 - ETA: 38s - loss: 0.0169 - acc: 0.99 - ETA: 38s - loss: 0.0159 - acc: 0.99 - ETA: 38s - loss: 0.0186 - acc: 0.99 - ETA: 37s - loss: 0.0177 - acc: 0.99 - ETA: 37s - loss: 0.0168 - acc: 0.99 - ETA: 36s - loss: 0.0161 - acc: 0.99 - ETA: 36s - loss: 0.0154 - acc: 0.99 - ETA: 35s - loss: 0.0160 - acc: 0.99 - ETA: 35s - loss: 0.0152 - acc: 0.99 - ETA: 34s - loss: 0.0181 - acc: 0.99 - ETA: 34s - loss: 0.0180 - acc: 0.99 - ETA: 34s - loss: 0.0173 - acc: 0.99 - ETA: 33s - loss: 0.0167 - acc: 0.99 - ETA: 33s - loss: 0.0167 - acc: 0.99 - ETA: 32s - loss: 0.0166 - acc: 0.99 - ETA: 32s - loss: 0.0164 - acc: 0.99 - ETA: 31s - loss: 0.0159 - acc: 0.99 - ETA: 31s - loss: 0.0156 - acc: 0.99 - ETA: 30s - loss: 0.0152 - acc: 0.99 - ETA: 30s - loss: 0.0155 - acc: 0.99 - ETA: 29s - loss: 0.0153 - acc: 0.99 - ETA: 29s - loss: 0.0150 - acc: 0.99 - ETA: 28s - loss: 0.0150 - acc: 0.99 - ETA: 28s - loss: 0.0155 - acc: 0.99 - ETA: 27s - loss: 0.0153 - acc: 0.99 - ETA: 27s - loss: 0.0151 - acc: 0.99 - ETA: 26s - loss: 0.0150 - acc: 0.99 - ETA: 26s - loss: 0.0147 - acc: 0.99 - ETA: 25s - loss: 0.0145 - acc: 0.99 - ETA: 25s - loss: 0.0148 - acc: 0.99 - ETA: 24s - loss: 0.0147 - acc: 0.99 - ETA: 24s - loss: 0.0146 - acc: 0.99 - ETA: 23s - loss: 0.0147 - acc: 0.99 - ETA: 23s - loss: 0.0144 - acc: 0.99 - ETA: 22s - loss: 0.0143 - acc: 0.99 - ETA: 22s - loss: 0.0143 - acc: 0.99 - ETA: 21s - loss: 0.0160 - acc: 0.99 - ETA: 21s - loss: 0.0157 - acc: 0.99 - ETA: 20s - loss: 0.0155 - acc: 0.99 - ETA: 20s - loss: 0.0153 - acc: 0.99 - ETA: 20s - loss: 0.0154 - acc: 0.99 - ETA: 19s - loss: 0.0154 - acc: 0.99 - ETA: 19s - loss: 0.0154 - acc: 0.99 - ETA: 18s - loss: 0.0154 - acc: 0.99 - ETA: 18s - loss: 0.0157 - acc: 0.99 - ETA: 17s - loss: 0.0155 - acc: 0.99 - ETA: 17s - loss: 0.0154 - acc: 0.99 - ETA: 17s - loss: 0.0154 - acc: 0.99 - ETA: 16s - loss: 0.0154 - acc: 0.99 - ETA: 16s - loss: 0.0153 - acc: 0.99 - ETA: 15s - loss: 0.0154 - acc: 0.99 - ETA: 15s - loss: 0.0152 - acc: 0.99 - ETA: 14s - loss: 0.0156 - acc: 0.99 - ETA: 14s - loss: 0.0159 - acc: 0.99 - ETA: 13s - loss: 0.0158 - acc: 0.99 - ETA: 13s - loss: 0.0164 - acc: 0.99 - ETA: 12s - loss: 0.0163 - acc: 0.99 - ETA: 12s - loss: 0.0164 - acc: 0.99 - ETA: 12s - loss: 0.0167 - acc: 0.99 - ETA: 11s - loss: 0.0168 - acc: 0.99 - ETA: 11s - loss: 0.0180 - acc: 0.99 - ETA: 10s - loss: 0.0178 - acc: 0.99 - ETA: 10s - loss: 0.0183 - acc: 0.99 - ETA: 9s - loss: 0.0200 - acc: 0.9946 - ETA: 9s - loss: 0.0204 - acc: 0.994 - ETA: 8s - loss: 0.0206 - acc: 0.994 - ETA: 8s - loss: 0.0205 - acc: 0.994 - ETA: 8s - loss: 0.0204 - acc: 0.994 - ETA: 7s - loss: 0.0202 - acc: 0.994 - ETA: 7s - loss: 0.0200 - acc: 0.994 - ETA: 6s - loss: 0.0207 - acc: 0.994 - ETA: 6s - loss: 0.0214 - acc: 0.994 - ETA: 5s - loss: 0.0213 - acc: 0.994 - ETA: 5s - loss: 0.0213 - acc: 0.993 - ETA: 4s - loss: 0.0212 - acc: 0.994 - ETA: 4s - loss: 0.0210 - acc: 0.994 - ETA: 3s - loss: 0.0211 - acc: 0.994 - ETA: 3s - loss: 0.0210 - acc: 0.994 - ETA: 3s - loss: 0.0209 - acc: 0.994 - ETA: 2s - loss: 0.0209 - acc: 0.994 - ETA: 2s - loss: 0.0211 - acc: 0.994 - ETA: 1s - loss: 0.0219 - acc: 0.993 - ETA: 1s - loss: 0.0220 - acc: 0.993 - ETA: 0s - loss: 0.0219 - acc: 0.993 - ETA: 0s - loss: 0.0222 - acc: 0.993 - 47s 8ms/step - loss: 0.0225 - acc: 0.9933 - val_loss: 0.5060 - val_acc: 0.8774\n",
      "Epoch 8/10\n",
      "6000/6000 [==============================] - ETA: 42s - loss: 0.0183 - acc: 1.00 - ETA: 42s - loss: 0.0169 - acc: 1.00 - ETA: 41s - loss: 0.0233 - acc: 0.99 - ETA: 40s - loss: 0.0198 - acc: 0.99 - ETA: 40s - loss: 0.0165 - acc: 0.99 - ETA: 40s - loss: 0.0174 - acc: 0.99 - ETA: 39s - loss: 0.0454 - acc: 0.99 - ETA: 39s - loss: 0.0427 - acc: 0.99 - ETA: 38s - loss: 0.0384 - acc: 0.99 - ETA: 38s - loss: 0.0368 - acc: 0.99 - ETA: 38s - loss: 0.0354 - acc: 0.99 - ETA: 37s - loss: 0.0337 - acc: 0.99 - ETA: 37s - loss: 0.0345 - acc: 0.99 - ETA: 36s - loss: 0.0342 - acc: 0.99 - ETA: 36s - loss: 0.0344 - acc: 0.99 - ETA: 35s - loss: 0.0338 - acc: 0.99 - ETA: 35s - loss: 0.0325 - acc: 0.99 - ETA: 34s - loss: 0.0318 - acc: 0.99 - ETA: 34s - loss: 0.0313 - acc: 0.99 - ETA: 33s - loss: 0.0301 - acc: 0.99 - ETA: 32s - loss: 0.0290 - acc: 0.99 - ETA: 32s - loss: 0.0306 - acc: 0.99 - ETA: 31s - loss: 0.0295 - acc: 0.99 - ETA: 31s - loss: 0.0298 - acc: 0.99 - ETA: 30s - loss: 0.0288 - acc: 0.99 - ETA: 30s - loss: 0.0282 - acc: 0.99 - ETA: 29s - loss: 0.0277 - acc: 0.99 - ETA: 29s - loss: 0.0269 - acc: 0.99 - ETA: 28s - loss: 0.0261 - acc: 0.99 - ETA: 28s - loss: 0.0255 - acc: 0.99 - ETA: 27s - loss: 0.0249 - acc: 0.99 - ETA: 27s - loss: 0.0243 - acc: 0.99 - ETA: 26s - loss: 0.0237 - acc: 0.99 - ETA: 26s - loss: 0.0232 - acc: 0.99 - ETA: 25s - loss: 0.0227 - acc: 0.99 - ETA: 25s - loss: 0.0221 - acc: 0.99 - ETA: 24s - loss: 0.0216 - acc: 0.99 - ETA: 24s - loss: 0.0218 - acc: 0.99 - ETA: 23s - loss: 0.0216 - acc: 0.99 - ETA: 23s - loss: 0.0211 - acc: 0.99 - ETA: 23s - loss: 0.0208 - acc: 0.99 - ETA: 22s - loss: 0.0204 - acc: 0.99 - ETA: 22s - loss: 0.0207 - acc: 0.99 - ETA: 21s - loss: 0.0203 - acc: 0.99 - ETA: 21s - loss: 0.0202 - acc: 0.99 - ETA: 21s - loss: 0.0199 - acc: 0.99 - ETA: 20s - loss: 0.0196 - acc: 0.99 - ETA: 20s - loss: 0.0193 - acc: 0.99 - ETA: 19s - loss: 0.0191 - acc: 0.99 - ETA: 19s - loss: 0.0188 - acc: 0.99 - ETA: 18s - loss: 0.0187 - acc: 0.99 - ETA: 18s - loss: 0.0190 - acc: 0.99 - ETA: 18s - loss: 0.0189 - acc: 0.99 - ETA: 17s - loss: 0.0190 - acc: 0.99 - ETA: 17s - loss: 0.0187 - acc: 0.99 - ETA: 16s - loss: 0.0184 - acc: 0.99 - ETA: 16s - loss: 0.0182 - acc: 0.99 - ETA: 15s - loss: 0.0179 - acc: 0.99 - ETA: 15s - loss: 0.0191 - acc: 0.99 - ETA: 15s - loss: 0.0190 - acc: 0.99 - ETA: 14s - loss: 0.0187 - acc: 0.99 - ETA: 14s - loss: 0.0188 - acc: 0.99 - ETA: 13s - loss: 0.0188 - acc: 0.99 - ETA: 13s - loss: 0.0186 - acc: 0.99 - ETA: 12s - loss: 0.0186 - acc: 0.99 - ETA: 12s - loss: 0.0185 - acc: 0.99 - ETA: 11s - loss: 0.0184 - acc: 0.99 - ETA: 11s - loss: 0.0183 - acc: 0.99 - ETA: 11s - loss: 0.0183 - acc: 0.99 - ETA: 10s - loss: 0.0182 - acc: 0.99 - ETA: 10s - loss: 0.0180 - acc: 0.99 - ETA: 9s - loss: 0.0178 - acc: 0.9959 - ETA: 9s - loss: 0.0177 - acc: 0.995 - ETA: 8s - loss: 0.0175 - acc: 0.996 - ETA: 8s - loss: 0.0174 - acc: 0.996 - ETA: 7s - loss: 0.0172 - acc: 0.996 - ETA: 7s - loss: 0.0170 - acc: 0.996 - ETA: 6s - loss: 0.0170 - acc: 0.996 - ETA: 6s - loss: 0.0168 - acc: 0.996 - ETA: 6s - loss: 0.0167 - acc: 0.996 - ETA: 5s - loss: 0.0165 - acc: 0.996 - ETA: 5s - loss: 0.0167 - acc: 0.996 - ETA: 4s - loss: 0.0166 - acc: 0.996 - ETA: 4s - loss: 0.0164 - acc: 0.996 - ETA: 3s - loss: 0.0163 - acc: 0.996 - ETA: 3s - loss: 0.0163 - acc: 0.996 - ETA: 3s - loss: 0.0163 - acc: 0.996 - ETA: 2s - loss: 0.0162 - acc: 0.996 - ETA: 2s - loss: 0.0161 - acc: 0.996 - ETA: 1s - loss: 0.0161 - acc: 0.996 - ETA: 1s - loss: 0.0160 - acc: 0.996 - ETA: 0s - loss: 0.0160 - acc: 0.996 - ETA: 0s - loss: 0.0160 - acc: 0.996 - 47s 8ms/step - loss: 0.0160 - acc: 0.9963 - val_loss: 0.6005 - val_acc: 0.8746\n",
      "Epoch 9/10\n"
     ]
    },
    {
     "name": "stdout",
     "output_type": "stream",
     "text": [
      "6000/6000 [==============================] - ETA: 45s - loss: 0.0043 - acc: 1.00 - ETA: 42s - loss: 0.0030 - acc: 1.00 - ETA: 42s - loss: 0.0028 - acc: 1.00 - ETA: 40s - loss: 0.0027 - acc: 1.00 - ETA: 39s - loss: 0.0025 - acc: 1.00 - ETA: 38s - loss: 0.0024 - acc: 1.00 - ETA: 37s - loss: 0.0040 - acc: 1.00 - ETA: 37s - loss: 0.0039 - acc: 1.00 - ETA: 36s - loss: 0.0039 - acc: 1.00 - ETA: 36s - loss: 0.0038 - acc: 1.00 - ETA: 36s - loss: 0.0036 - acc: 1.00 - ETA: 35s - loss: 0.0035 - acc: 1.00 - ETA: 35s - loss: 0.0033 - acc: 1.00 - ETA: 35s - loss: 0.0031 - acc: 1.00 - ETA: 34s - loss: 0.0034 - acc: 1.00 - ETA: 34s - loss: 0.0048 - acc: 0.99 - ETA: 34s - loss: 0.0046 - acc: 0.99 - ETA: 33s - loss: 0.0045 - acc: 0.99 - ETA: 33s - loss: 0.0048 - acc: 0.99 - ETA: 32s - loss: 0.0051 - acc: 0.99 - ETA: 32s - loss: 0.0050 - acc: 0.99 - ETA: 32s - loss: 0.0051 - acc: 0.99 - ETA: 31s - loss: 0.0051 - acc: 0.99 - ETA: 31s - loss: 0.0049 - acc: 0.99 - ETA: 30s - loss: 0.0048 - acc: 0.99 - ETA: 30s - loss: 0.0047 - acc: 0.99 - ETA: 30s - loss: 0.0047 - acc: 0.99 - ETA: 29s - loss: 0.0047 - acc: 0.99 - ETA: 29s - loss: 0.0046 - acc: 0.99 - ETA: 28s - loss: 0.0057 - acc: 0.99 - ETA: 28s - loss: 0.0055 - acc: 0.99 - ETA: 27s - loss: 0.0054 - acc: 0.99 - ETA: 27s - loss: 0.0053 - acc: 0.99 - ETA: 27s - loss: 0.0052 - acc: 0.99 - ETA: 26s - loss: 0.0052 - acc: 0.99 - ETA: 26s - loss: 0.0052 - acc: 0.99 - ETA: 25s - loss: 0.0051 - acc: 0.99 - ETA: 25s - loss: 0.0050 - acc: 0.99 - ETA: 24s - loss: 0.0051 - acc: 0.99 - ETA: 24s - loss: 0.0054 - acc: 0.99 - ETA: 23s - loss: 0.0054 - acc: 0.99 - ETA: 23s - loss: 0.0056 - acc: 0.99 - ETA: 23s - loss: 0.0059 - acc: 0.99 - ETA: 22s - loss: 0.0061 - acc: 0.99 - ETA: 22s - loss: 0.0060 - acc: 0.99 - ETA: 21s - loss: 0.0059 - acc: 0.99 - ETA: 21s - loss: 0.0059 - acc: 0.99 - ETA: 20s - loss: 0.0058 - acc: 0.99 - ETA: 20s - loss: 0.0061 - acc: 0.99 - ETA: 19s - loss: 0.0060 - acc: 0.99 - ETA: 19s - loss: 0.0060 - acc: 0.99 - ETA: 18s - loss: 0.0059 - acc: 0.99 - ETA: 18s - loss: 0.0059 - acc: 0.99 - ETA: 18s - loss: 0.0059 - acc: 0.99 - ETA: 17s - loss: 0.0059 - acc: 0.99 - ETA: 17s - loss: 0.0058 - acc: 0.99 - ETA: 16s - loss: 0.0059 - acc: 0.99 - ETA: 16s - loss: 0.0058 - acc: 0.99 - ETA: 15s - loss: 0.0059 - acc: 0.99 - ETA: 15s - loss: 0.0059 - acc: 0.99 - ETA: 14s - loss: 0.0059 - acc: 0.99 - ETA: 14s - loss: 0.0059 - acc: 0.99 - ETA: 13s - loss: 0.0058 - acc: 0.99 - ETA: 13s - loss: 0.0058 - acc: 0.99 - ETA: 13s - loss: 0.0058 - acc: 0.99 - ETA: 12s - loss: 0.0058 - acc: 0.99 - ETA: 12s - loss: 0.0057 - acc: 0.99 - ETA: 11s - loss: 0.0056 - acc: 0.99 - ETA: 11s - loss: 0.0056 - acc: 0.99 - ETA: 10s - loss: 0.0055 - acc: 0.99 - ETA: 10s - loss: 0.0055 - acc: 0.99 - ETA: 9s - loss: 0.0054 - acc: 0.9985 - ETA: 9s - loss: 0.0055 - acc: 0.998 - ETA: 8s - loss: 0.0058 - acc: 0.998 - ETA: 8s - loss: 0.0058 - acc: 0.998 - ETA: 8s - loss: 0.0058 - acc: 0.998 - ETA: 7s - loss: 0.0058 - acc: 0.998 - ETA: 7s - loss: 0.0057 - acc: 0.998 - ETA: 6s - loss: 0.0057 - acc: 0.998 - ETA: 6s - loss: 0.0057 - acc: 0.998 - ETA: 5s - loss: 0.0057 - acc: 0.998 - ETA: 5s - loss: 0.0056 - acc: 0.998 - ETA: 4s - loss: 0.0056 - acc: 0.998 - ETA: 4s - loss: 0.0056 - acc: 0.998 - ETA: 3s - loss: 0.0056 - acc: 0.998 - ETA: 3s - loss: 0.0055 - acc: 0.998 - ETA: 3s - loss: 0.0055 - acc: 0.998 - ETA: 2s - loss: 0.0055 - acc: 0.998 - ETA: 2s - loss: 0.0054 - acc: 0.998 - ETA: 1s - loss: 0.0054 - acc: 0.998 - ETA: 1s - loss: 0.0054 - acc: 0.998 - ETA: 0s - loss: 0.0054 - acc: 0.998 - ETA: 0s - loss: 0.0055 - acc: 0.998 - 48s 8ms/step - loss: 0.0055 - acc: 0.9987 - val_loss: 0.6730 - val_acc: 0.8732\n",
      "Epoch 10/10\n",
      "6000/6000 [==============================] - ETA: 45s - loss: 0.0031 - acc: 1.00 - ETA: 43s - loss: 0.0023 - acc: 1.00 - ETA: 43s - loss: 0.0022 - acc: 1.00 - ETA: 42s - loss: 0.0020 - acc: 1.00 - ETA: 41s - loss: 0.0027 - acc: 1.00 - ETA: 41s - loss: 0.0033 - acc: 1.00 - ETA: 40s - loss: 0.0030 - acc: 1.00 - ETA: 40s - loss: 0.0042 - acc: 1.00 - ETA: 39s - loss: 0.0039 - acc: 1.00 - ETA: 39s - loss: 0.0037 - acc: 1.00 - ETA: 38s - loss: 0.0036 - acc: 1.00 - ETA: 37s - loss: 0.0036 - acc: 1.00 - ETA: 37s - loss: 0.0034 - acc: 1.00 - ETA: 37s - loss: 0.0032 - acc: 1.00 - ETA: 36s - loss: 0.0031 - acc: 1.00 - ETA: 36s - loss: 0.0029 - acc: 1.00 - ETA: 35s - loss: 0.0028 - acc: 1.00 - ETA: 35s - loss: 0.0029 - acc: 1.00 - ETA: 34s - loss: 0.0028 - acc: 1.00 - ETA: 34s - loss: 0.0029 - acc: 1.00 - ETA: 33s - loss: 0.0028 - acc: 1.00 - ETA: 33s - loss: 0.0032 - acc: 1.00 - ETA: 32s - loss: 0.0030 - acc: 1.00 - ETA: 32s - loss: 0.0029 - acc: 1.00 - ETA: 32s - loss: 0.0029 - acc: 1.00 - ETA: 31s - loss: 0.0029 - acc: 1.00 - ETA: 30s - loss: 0.0028 - acc: 1.00 - ETA: 30s - loss: 0.0028 - acc: 1.00 - ETA: 30s - loss: 0.0027 - acc: 1.00 - ETA: 29s - loss: 0.0026 - acc: 1.00 - ETA: 29s - loss: 0.0026 - acc: 1.00 - ETA: 28s - loss: 0.0026 - acc: 1.00 - ETA: 28s - loss: 0.0025 - acc: 1.00 - ETA: 27s - loss: 0.0025 - acc: 1.00 - ETA: 27s - loss: 0.0024 - acc: 1.00 - ETA: 26s - loss: 0.0024 - acc: 1.00 - ETA: 26s - loss: 0.0024 - acc: 1.00 - ETA: 25s - loss: 0.0024 - acc: 1.00 - ETA: 25s - loss: 0.0024 - acc: 1.00 - ETA: 24s - loss: 0.0023 - acc: 1.00 - ETA: 24s - loss: 0.0023 - acc: 1.00 - ETA: 23s - loss: 0.0023 - acc: 1.00 - ETA: 23s - loss: 0.0023 - acc: 1.00 - ETA: 22s - loss: 0.0024 - acc: 1.00 - ETA: 22s - loss: 0.0024 - acc: 1.00 - ETA: 21s - loss: 0.0024 - acc: 1.00 - ETA: 21s - loss: 0.0024 - acc: 1.00 - ETA: 20s - loss: 0.0025 - acc: 1.00 - ETA: 20s - loss: 0.0025 - acc: 1.00 - ETA: 19s - loss: 0.0025 - acc: 1.00 - ETA: 19s - loss: 0.0025 - acc: 1.00 - ETA: 19s - loss: 0.0025 - acc: 1.00 - ETA: 18s - loss: 0.0025 - acc: 1.00 - ETA: 18s - loss: 0.0025 - acc: 1.00 - ETA: 17s - loss: 0.0025 - acc: 1.00 - ETA: 17s - loss: 0.0025 - acc: 1.00 - ETA: 16s - loss: 0.0024 - acc: 1.00 - ETA: 16s - loss: 0.0024 - acc: 1.00 - ETA: 15s - loss: 0.0024 - acc: 1.00 - ETA: 15s - loss: 0.0024 - acc: 1.00 - ETA: 14s - loss: 0.0024 - acc: 1.00 - ETA: 14s - loss: 0.0024 - acc: 1.00 - ETA: 14s - loss: 0.0023 - acc: 1.00 - ETA: 13s - loss: 0.0024 - acc: 1.00 - ETA: 13s - loss: 0.0024 - acc: 1.00 - ETA: 12s - loss: 0.0024 - acc: 1.00 - ETA: 12s - loss: 0.0023 - acc: 1.00 - ETA: 11s - loss: 0.0024 - acc: 1.00 - ETA: 11s - loss: 0.0024 - acc: 1.00 - ETA: 10s - loss: 0.0028 - acc: 0.99 - ETA: 10s - loss: 0.0028 - acc: 0.99 - ETA: 9s - loss: 0.0027 - acc: 0.9998 - ETA: 9s - loss: 0.0027 - acc: 0.999 - ETA: 9s - loss: 0.0027 - acc: 0.999 - ETA: 8s - loss: 0.0030 - acc: 0.999 - ETA: 8s - loss: 0.0029 - acc: 0.999 - ETA: 7s - loss: 0.0029 - acc: 0.999 - ETA: 7s - loss: 0.0029 - acc: 0.999 - ETA: 6s - loss: 0.0029 - acc: 0.999 - ETA: 6s - loss: 0.0029 - acc: 0.999 - ETA: 5s - loss: 0.0029 - acc: 0.999 - ETA: 5s - loss: 0.0030 - acc: 0.999 - ETA: 4s - loss: 0.0030 - acc: 0.999 - ETA: 4s - loss: 0.0029 - acc: 0.999 - ETA: 4s - loss: 0.0029 - acc: 0.999 - ETA: 3s - loss: 0.0029 - acc: 0.999 - ETA: 3s - loss: 0.0029 - acc: 0.999 - ETA: 2s - loss: 0.0029 - acc: 0.999 - ETA: 2s - loss: 0.0029 - acc: 0.999 - ETA: 1s - loss: 0.0029 - acc: 0.999 - ETA: 1s - loss: 0.0029 - acc: 0.999 - ETA: 0s - loss: 0.0029 - acc: 0.999 - ETA: 0s - loss: 0.0029 - acc: 0.999 - 48s 8ms/step - loss: 0.0029 - acc: 0.9997 - val_loss: 0.7303 - val_acc: 0.8712\n"
     ]
    }
   ],
   "source": [
    "history = model.fit(x_train, y_train, nb_epoch=10, batch_size=64,validation_data=(x_test,y_test))"
   ]
  },
  {
   "cell_type": "code",
   "execution_count": 58,
   "metadata": {},
   "outputs": [
    {
     "name": "stdout",
     "output_type": "stream",
     "text": [
      "Accuracy: 87.12%\n"
     ]
    }
   ],
   "source": [
    "# Final evaluation of the model\n",
    "scores = model.evaluate(x_test, y_test, verbose=0)\n",
    "print(\"Accuracy: %.2f%%\" % (scores[1]*100))"
   ]
  },
  {
   "cell_type": "code",
   "execution_count": 59,
   "metadata": {},
   "outputs": [
    {
     "data": {
      "image/png": "[encoded data removed]",
      "text/plain": [
       "<Figure size 432x288 with 1 Axes>"
      ]
     },
     "metadata": {
      "needs_background": "light"
     },
     "output_type": "display_data"
    }
   ],
   "source": [
    "val_loss=history.history['val_loss']\n",
    "loss=history.history['loss']\n",
    "plt.plot(val_loss)\n",
    "plt.plot(loss)\n",
    "plt.legend([\"Validation loss\",\"Training loss\"])\n",
    "plt.xlabel(\"No of Epochs\")\n",
    "plt.ylabel(\"Loss\")\n",
    "plt.title(\"Loss Vs Epochs\")\n",
    "plt.show()"
   ]
  },
  {
   "cell_type": "code",
   "execution_count": 60,
   "metadata": {},
   "outputs": [
    {
     "data": {
      "text/plain": [
       "[0.8526936024929137,\n",
       " 0.8787878785871898,\n",
       " 0.8843995513338031,\n",
       " 0.879910213511132,\n",
       " 0.871773288239266,\n",
       " 0.8765432096758542,\n",
       " 0.8773849607851903,\n",
       " 0.87457912484671,\n",
       " 0.8731762067771253,\n",
       " 0.8712121214797066]"
      ]
     },
     "execution_count": 60,
     "metadata": {},
     "output_type": "execute_result"
    }
   ],
   "source": [
    "history.history['val_acc']"
   ]
  },
  {
   "cell_type": "markdown",
   "metadata": {},
   "source": [
    "# 3rd Architecture"
   ]
  },
  {
   "cell_type": "code",
   "execution_count": 62,
   "metadata": {},
   "outputs": [
    {
     "name": "stdout",
     "output_type": "stream",
     "text": [
      "WARNING:tensorflow:From C:\\Users\\karan\\AppData\\Local\\Programs\\Python\\Python37\\lib\\site-packages\\keras\\backend\\tensorflow_backend.py:3445: calling dropout (from tensorflow.python.ops.nn_ops) with keep_prob is deprecated and will be removed in a future version.\n",
      "Instructions for updating:\n",
      "Please use `rate` instead of `keep_prob`. Rate should be set to `rate = 1 - keep_prob`.\n",
      "_________________________________________________________________\n",
      "Layer (type)                 Output Shape              Param #   \n",
      "=================================================================\n",
      "embedding_4 (Embedding)      (None, 600, 32)           584448    \n",
      "_________________________________________________________________\n",
      "lstm_5 (LSTM)                (None, 600, 100)          53200     \n",
      "_________________________________________________________________\n",
      "lstm_6 (LSTM)                (None, 100)               80400     \n",
      "_________________________________________________________________\n",
      "dropout_1 (Dropout)          (None, 100)               0         \n",
      "_________________________________________________________________\n",
      "dense_3 (Dense)              (None, 1)                 101       \n",
      "=================================================================\n",
      "Total params: 718,149\n",
      "Trainable params: 718,149\n",
      "Non-trainable params: 0\n",
      "_________________________________________________________________\n",
      "None\n"
     ]
    }
   ],
   "source": [
    "# create the model\n",
    "from keras.layers import Dense,Dropout\n",
    "embedding_vecor_length = 32\n",
    "top_words = 18264\n",
    "model = Sequential()\n",
    "model.add(Embedding(top_words, embedding_vecor_length, input_length=len(x_train[0])))\n",
    "model.add(LSTM(100,return_sequences=True))\n",
    "model.add(LSTM(100))\n",
    "model.add(Dropout(0.5))\n",
    "model.add(Dense(1,activation='sigmoid'))\n",
    "model.compile(loss='binary_crossentropy',optimizer='adam',metrics=['accuracy'])\n",
    "print(model.summary())\n",
    "#Refer: https://datascience.stackexchange.com/questions/10615/number-of-parameters-in-an-lstm-model"
   ]
  },
  {
   "cell_type": "code",
   "execution_count": 63,
   "metadata": {},
   "outputs": [
    {
     "name": "stdout",
     "output_type": "stream",
     "text": [
      "Train on 6000 samples, validate on 3564 samples\n",
      "Epoch 1/10\n",
      "6000/6000 [==============================] - ETA: 4:09 - loss: 0.6924 - acc: 0.656 - ETA: 2:46 - loss: 0.6885 - acc: 0.750 - ETA: 2:18 - loss: 0.6838 - acc: 0.776 - ETA: 2:04 - loss: 0.6792 - acc: 0.781 - ETA: 1:56 - loss: 0.6730 - acc: 0.787 - ETA: 1:50 - loss: 0.6612 - acc: 0.799 - ETA: 1:46 - loss: 0.6452 - acc: 0.812 - ETA: 1:43 - loss: 0.6241 - acc: 0.816 - ETA: 1:41 - loss: 0.6034 - acc: 0.821 - ETA: 1:38 - loss: 0.5956 - acc: 0.821 - ETA: 1:36 - loss: 0.5875 - acc: 0.823 - ETA: 1:34 - loss: 0.5670 - acc: 0.829 - ETA: 1:33 - loss: 0.5548 - acc: 0.830 - ETA: 1:31 - loss: 0.5464 - acc: 0.830 - ETA: 1:30 - loss: 0.5356 - acc: 0.832 - ETA: 1:28 - loss: 0.5266 - acc: 0.835 - ETA: 1:27 - loss: 0.5213 - acc: 0.834 - ETA: 1:25 - loss: 0.5161 - acc: 0.835 - ETA: 1:24 - loss: 0.5135 - acc: 0.833 - ETA: 1:22 - loss: 0.5078 - acc: 0.835 - ETA: 1:21 - loss: 0.5087 - acc: 0.834 - ETA: 1:19 - loss: 0.5074 - acc: 0.833 - ETA: 1:17 - loss: 0.5020 - acc: 0.835 - ETA: 1:16 - loss: 0.4931 - acc: 0.839 - ETA: 1:15 - loss: 0.4893 - acc: 0.840 - ETA: 1:13 - loss: 0.4889 - acc: 0.839 - ETA: 1:12 - loss: 0.4845 - acc: 0.840 - ETA: 1:11 - loss: 0.4822 - acc: 0.841 - ETA: 1:10 - loss: 0.4796 - acc: 0.841 - ETA: 1:09 - loss: 0.4841 - acc: 0.838 - ETA: 1:08 - loss: 0.4850 - acc: 0.836 - ETA: 1:07 - loss: 0.4827 - acc: 0.836 - ETA: 1:06 - loss: 0.4787 - acc: 0.837 - ETA: 1:05 - loss: 0.4757 - acc: 0.838 - ETA: 1:04 - loss: 0.4730 - acc: 0.839 - ETA: 1:03 - loss: 0.4689 - acc: 0.841 - ETA: 1:01 - loss: 0.4708 - acc: 0.839 - ETA: 1:00 - loss: 0.4691 - acc: 0.840 - ETA: 59s - loss: 0.4689 - acc: 0.839 - ETA: 58s - loss: 0.4690 - acc: 0.83 - ETA: 57s - loss: 0.4676 - acc: 0.83 - ETA: 55s - loss: 0.4652 - acc: 0.83 - ETA: 54s - loss: 0.4659 - acc: 0.83 - ETA: 53s - loss: 0.4642 - acc: 0.83 - ETA: 52s - loss: 0.4614 - acc: 0.83 - ETA: 51s - loss: 0.4590 - acc: 0.84 - ETA: 50s - loss: 0.4582 - acc: 0.84 - ETA: 48s - loss: 0.4588 - acc: 0.83 - ETA: 47s - loss: 0.4575 - acc: 0.83 - ETA: 46s - loss: 0.4559 - acc: 0.84 - ETA: 45s - loss: 0.4551 - acc: 0.83 - ETA: 44s - loss: 0.4518 - acc: 0.84 - ETA: 43s - loss: 0.4492 - acc: 0.84 - ETA: 42s - loss: 0.4480 - acc: 0.84 - ETA: 41s - loss: 0.4475 - acc: 0.84 - ETA: 40s - loss: 0.4453 - acc: 0.84 - ETA: 39s - loss: 0.4443 - acc: 0.84 - ETA: 38s - loss: 0.4435 - acc: 0.84 - ETA: 37s - loss: 0.4442 - acc: 0.84 - ETA: 36s - loss: 0.4417 - acc: 0.84 - ETA: 34s - loss: 0.4409 - acc: 0.84 - ETA: 33s - loss: 0.4406 - acc: 0.84 - ETA: 32s - loss: 0.4397 - acc: 0.84 - ETA: 31s - loss: 0.4382 - acc: 0.84 - ETA: 30s - loss: 0.4364 - acc: 0.84 - ETA: 29s - loss: 0.4343 - acc: 0.84 - ETA: 28s - loss: 0.4325 - acc: 0.84 - ETA: 27s - loss: 0.4313 - acc: 0.84 - ETA: 26s - loss: 0.4314 - acc: 0.84 - ETA: 25s - loss: 0.4298 - acc: 0.84 - ETA: 24s - loss: 0.4288 - acc: 0.84 - ETA: 23s - loss: 0.4271 - acc: 0.84 - ETA: 22s - loss: 0.4255 - acc: 0.84 - ETA: 21s - loss: 0.4247 - acc: 0.84 - ETA: 20s - loss: 0.4244 - acc: 0.84 - ETA: 18s - loss: 0.4242 - acc: 0.84 - ETA: 17s - loss: 0.4239 - acc: 0.84 - ETA: 16s - loss: 0.4230 - acc: 0.84 - ETA: 15s - loss: 0.4218 - acc: 0.84 - ETA: 14s - loss: 0.4203 - acc: 0.84 - ETA: 13s - loss: 0.4194 - acc: 0.84 - ETA: 12s - loss: 0.4184 - acc: 0.84 - ETA: 11s - loss: 0.4165 - acc: 0.84 - ETA: 10s - loss: 0.4169 - acc: 0.84 - ETA: 9s - loss: 0.4153 - acc: 0.8445 - ETA: 8s - loss: 0.4152 - acc: 0.844 - ETA: 7s - loss: 0.4138 - acc: 0.845 - ETA: 6s - loss: 0.4123 - acc: 0.845 - ETA: 5s - loss: 0.4113 - acc: 0.845 - ETA: 4s - loss: 0.4096 - acc: 0.846 - ETA: 2s - loss: 0.4070 - acc: 0.847 - ETA: 1s - loss: 0.4056 - acc: 0.847 - ETA: 0s - loss: 0.4040 - acc: 0.848 - 113s 19ms/step - loss: 0.4033 - acc: 0.8480 - val_loss: 0.2955 - val_acc: 0.8760\n",
      "Epoch 2/10\n",
      "6000/6000 [==============================] - ETA: 1:48 - loss: 0.1713 - acc: 0.953 - ETA: 1:42 - loss: 0.2309 - acc: 0.921 - ETA: 1:39 - loss: 0.2394 - acc: 0.906 - ETA: 1:37 - loss: 0.2684 - acc: 0.894 - ETA: 1:36 - loss: 0.2547 - acc: 0.903 - ETA: 1:35 - loss: 0.2407 - acc: 0.911 - ETA: 1:33 - loss: 0.2414 - acc: 0.910 - ETA: 1:32 - loss: 0.2337 - acc: 0.912 - ETA: 1:31 - loss: 0.2196 - acc: 0.918 - ETA: 1:30 - loss: 0.2195 - acc: 0.918 - ETA: 1:30 - loss: 0.2240 - acc: 0.913 - ETA: 1:30 - loss: 0.2222 - acc: 0.915 - ETA: 1:29 - loss: 0.2127 - acc: 0.920 - ETA: 1:29 - loss: 0.2122 - acc: 0.918 - ETA: 1:28 - loss: 0.2095 - acc: 0.919 - ETA: 1:28 - loss: 0.2045 - acc: 0.920 - ETA: 1:27 - loss: 0.2032 - acc: 0.922 - ETA: 1:26 - loss: 0.2056 - acc: 0.921 - ETA: 1:25 - loss: 0.2024 - acc: 0.921 - ETA: 1:24 - loss: 0.2013 - acc: 0.920 - ETA: 1:23 - loss: 0.1987 - acc: 0.921 - ETA: 1:22 - loss: 0.2044 - acc: 0.919 - ETA: 1:21 - loss: 0.2060 - acc: 0.919 - ETA: 1:20 - loss: 0.2024 - acc: 0.919 - ETA: 1:18 - loss: 0.2014 - acc: 0.920 - ETA: 1:18 - loss: 0.1962 - acc: 0.923 - ETA: 1:17 - loss: 0.1936 - acc: 0.925 - ETA: 1:15 - loss: 0.1914 - acc: 0.927 - ETA: 1:14 - loss: 0.1911 - acc: 0.927 - ETA: 1:13 - loss: 0.1909 - acc: 0.927 - ETA: 1:12 - loss: 0.1890 - acc: 0.927 - ETA: 1:11 - loss: 0.1902 - acc: 0.928 - ETA: 1:10 - loss: 0.1890 - acc: 0.929 - ETA: 1:09 - loss: 0.1880 - acc: 0.928 - ETA: 1:08 - loss: 0.1871 - acc: 0.929 - ETA: 1:07 - loss: 0.1862 - acc: 0.928 - ETA: 1:06 - loss: 0.1880 - acc: 0.926 - ETA: 1:04 - loss: 0.1898 - acc: 0.926 - ETA: 1:03 - loss: 0.1941 - acc: 0.924 - ETA: 1:02 - loss: 0.1943 - acc: 0.924 - ETA: 1:01 - loss: 0.1936 - acc: 0.924 - ETA: 1:00 - loss: 0.1901 - acc: 0.926 - ETA: 59s - loss: 0.1877 - acc: 0.927 - ETA: 58s - loss: 0.1875 - acc: 0.92 - ETA: 56s - loss: 0.1847 - acc: 0.92 - ETA: 55s - loss: 0.1857 - acc: 0.92 - ETA: 54s - loss: 0.1851 - acc: 0.92 - ETA: 53s - loss: 0.1847 - acc: 0.92 - ETA: 52s - loss: 0.1840 - acc: 0.92 - ETA: 51s - loss: 0.1846 - acc: 0.92 - ETA: 50s - loss: 0.1850 - acc: 0.92 - ETA: 48s - loss: 0.1842 - acc: 0.92 - ETA: 47s - loss: 0.1841 - acc: 0.92 - ETA: 46s - loss: 0.1837 - acc: 0.92 - ETA: 45s - loss: 0.1848 - acc: 0.92 - ETA: 43s - loss: 0.1846 - acc: 0.92 - ETA: 42s - loss: 0.1844 - acc: 0.92 - ETA: 41s - loss: 0.1860 - acc: 0.92 - ETA: 40s - loss: 0.1862 - acc: 0.92 - ETA: 39s - loss: 0.1853 - acc: 0.92 - ETA: 37s - loss: 0.1859 - acc: 0.92 - ETA: 36s - loss: 0.1851 - acc: 0.92 - ETA: 35s - loss: 0.1839 - acc: 0.92 - ETA: 34s - loss: 0.1848 - acc: 0.92 - ETA: 33s - loss: 0.1850 - acc: 0.92 - ETA: 31s - loss: 0.1856 - acc: 0.92 - ETA: 30s - loss: 0.1849 - acc: 0.92 - ETA: 29s - loss: 0.1840 - acc: 0.92 - ETA: 28s - loss: 0.1841 - acc: 0.92 - ETA: 27s - loss: 0.1862 - acc: 0.92 - ETA: 26s - loss: 0.1847 - acc: 0.92 - ETA: 24s - loss: 0.1875 - acc: 0.92 - ETA: 23s - loss: 0.1878 - acc: 0.92 - ETA: 22s - loss: 0.1876 - acc: 0.92 - ETA: 21s - loss: 0.1881 - acc: 0.92 - ETA: 20s - loss: 0.1878 - acc: 0.92 - ETA: 19s - loss: 0.1873 - acc: 0.92 - ETA: 17s - loss: 0.1886 - acc: 0.92 - ETA: 16s - loss: 0.1887 - acc: 0.92 - ETA: 15s - loss: 0.1881 - acc: 0.92 - ETA: 14s - loss: 0.1874 - acc: 0.92 - ETA: 13s - loss: 0.1864 - acc: 0.92 - ETA: 12s - loss: 0.1861 - acc: 0.92 - ETA: 11s - loss: 0.1869 - acc: 0.92 - ETA: 9s - loss: 0.1876 - acc: 0.9272 - ETA: 8s - loss: 0.1876 - acc: 0.927 - ETA: 7s - loss: 0.1872 - acc: 0.927 - ETA: 6s - loss: 0.1890 - acc: 0.926 - ETA: 5s - loss: 0.1877 - acc: 0.927 - ETA: 4s - loss: 0.1891 - acc: 0.926 - ETA: 3s - loss: 0.1894 - acc: 0.926 - ETA: 2s - loss: 0.1891 - acc: 0.927 - ETA: 0s - loss: 0.1905 - acc: 0.926 - 120s 20ms/step - loss: 0.1903 - acc: 0.9262 - val_loss: 0.2914 - val_acc: 0.8774\n",
      "Epoch 3/10\n",
      "6000/6000 [==============================] - ETA: 1:47 - loss: 0.0996 - acc: 1.000 - ETA: 1:47 - loss: 0.0896 - acc: 1.000 - ETA: 1:47 - loss: 0.0902 - acc: 0.994 - ETA: 1:46 - loss: 0.0914 - acc: 0.992 - ETA: 1:45 - loss: 0.1001 - acc: 0.984 - ETA: 1:44 - loss: 0.1010 - acc: 0.979 - ETA: 1:43 - loss: 0.0987 - acc: 0.975 - ETA: 1:41 - loss: 0.0995 - acc: 0.974 - ETA: 1:39 - loss: 0.0950 - acc: 0.975 - ETA: 1:37 - loss: 0.0944 - acc: 0.976 - ETA: 1:35 - loss: 0.0955 - acc: 0.975 - ETA: 1:34 - loss: 0.0974 - acc: 0.974 - ETA: 1:32 - loss: 0.0997 - acc: 0.971 - ETA: 1:30 - loss: 0.0957 - acc: 0.973 - ETA: 1:29 - loss: 0.0994 - acc: 0.972 - ETA: 1:28 - loss: 0.0967 - acc: 0.973 - ETA: 1:26 - loss: 0.0979 - acc: 0.972 - ETA: 1:25 - loss: 0.0942 - acc: 0.974 - ETA: 1:23 - loss: 0.0908 - acc: 0.975 - ETA: 1:22 - loss: 0.0934 - acc: 0.974 - ETA: 1:21 - loss: 0.0935 - acc: 0.973 - ETA: 1:19 - loss: 0.0898 - acc: 0.974 - ETA: 1:18 - loss: 0.0891 - acc: 0.973 - ETA: 1:17 - loss: 0.0917 - acc: 0.972 - ETA: 1:16 - loss: 0.0915 - acc: 0.971 - ETA: 1:15 - loss: 0.0924 - acc: 0.971 - ETA: 1:14 - loss: 0.0911 - acc: 0.971 - ETA: 1:13 - loss: 0.0905 - acc: 0.971 - ETA: 1:11 - loss: 0.0900 - acc: 0.971 - ETA: 1:10 - loss: 0.0900 - acc: 0.971 - ETA: 1:09 - loss: 0.0899 - acc: 0.971 - ETA: 1:08 - loss: 0.0893 - acc: 0.971 - ETA: 1:07 - loss: 0.0881 - acc: 0.972 - ETA: 1:05 - loss: 0.0899 - acc: 0.972 - ETA: 1:04 - loss: 0.0891 - acc: 0.972 - ETA: 1:03 - loss: 0.0896 - acc: 0.971 - ETA: 1:02 - loss: 0.0893 - acc: 0.971 - ETA: 1:01 - loss: 0.0902 - acc: 0.970 - ETA: 1:00 - loss: 0.0894 - acc: 0.970 - ETA: 59s - loss: 0.0884 - acc: 0.971 - ETA: 58s - loss: 0.0876 - acc: 0.97 - ETA: 57s - loss: 0.0903 - acc: 0.96 - ETA: 56s - loss: 0.0902 - acc: 0.97 - ETA: 55s - loss: 0.0922 - acc: 0.96 - ETA: 54s - loss: 0.0923 - acc: 0.96 - ETA: 53s - loss: 0.0935 - acc: 0.96 - ETA: 52s - loss: 0.0952 - acc: 0.96 - ETA: 51s - loss: 0.0964 - acc: 0.96 - ETA: 49s - loss: 0.0976 - acc: 0.96 - ETA: 48s - loss: 0.0977 - acc: 0.96 - ETA: 47s - loss: 0.0972 - acc: 0.96 - ETA: 46s - loss: 0.0985 - acc: 0.96 - ETA: 45s - loss: 0.0987 - acc: 0.96 - ETA: 44s - loss: 0.0988 - acc: 0.96 - ETA: 43s - loss: 0.1003 - acc: 0.96 - ETA: 42s - loss: 0.1000 - acc: 0.96 - ETA: 41s - loss: 0.0992 - acc: 0.96 - ETA: 40s - loss: 0.0985 - acc: 0.96 - ETA: 38s - loss: 0.0982 - acc: 0.96 - ETA: 37s - loss: 0.0978 - acc: 0.96 - ETA: 36s - loss: 0.0991 - acc: 0.96 - ETA: 35s - loss: 0.0989 - acc: 0.96 - ETA: 34s - loss: 0.0990 - acc: 0.96 - ETA: 33s - loss: 0.0995 - acc: 0.96 - ETA: 32s - loss: 0.0995 - acc: 0.96 - ETA: 31s - loss: 0.0995 - acc: 0.96 - ETA: 30s - loss: 0.0984 - acc: 0.96 - ETA: 28s - loss: 0.0983 - acc: 0.96 - ETA: 27s - loss: 0.0989 - acc: 0.96 - ETA: 26s - loss: 0.0986 - acc: 0.96 - ETA: 25s - loss: 0.0987 - acc: 0.96 - ETA: 24s - loss: 0.0987 - acc: 0.96 - ETA: 23s - loss: 0.0980 - acc: 0.96 - ETA: 22s - loss: 0.0979 - acc: 0.96 - ETA: 21s - loss: 0.0976 - acc: 0.96 - ETA: 20s - loss: 0.0970 - acc: 0.96 - ETA: 18s - loss: 0.0970 - acc: 0.96 - ETA: 17s - loss: 0.0981 - acc: 0.96 - ETA: 16s - loss: 0.0987 - acc: 0.96 - ETA: 15s - loss: 0.0990 - acc: 0.96 - ETA: 14s - loss: 0.0986 - acc: 0.96 - ETA: 13s - loss: 0.1003 - acc: 0.96 - ETA: 12s - loss: 0.1000 - acc: 0.96 - ETA: 11s - loss: 0.0997 - acc: 0.96 - ETA: 9s - loss: 0.1000 - acc: 0.9636 - ETA: 8s - loss: 0.1017 - acc: 0.963 - ETA: 7s - loss: 0.1018 - acc: 0.962 - ETA: 6s - loss: 0.1016 - acc: 0.962 - ETA: 5s - loss: 0.1009 - acc: 0.962 - ETA: 4s - loss: 0.1010 - acc: 0.963 - ETA: 3s - loss: 0.1008 - acc: 0.963 - ETA: 1s - loss: 0.1007 - acc: 0.963 - ETA: 0s - loss: 0.1006 - acc: 0.963 - 119s 20ms/step - loss: 0.1004 - acc: 0.9635 - val_loss: 0.3887 - val_acc: 0.8816\n",
      "Epoch 4/10\n",
      "6000/6000 [==============================] - ETA: 1:48 - loss: 0.0823 - acc: 0.968 - ETA: 1:47 - loss: 0.0491 - acc: 0.984 - ETA: 1:46 - loss: 0.0404 - acc: 0.989 - ETA: 1:45 - loss: 0.0503 - acc: 0.988 - ETA: 1:42 - loss: 0.0497 - acc: 0.987 - ETA: 1:39 - loss: 0.0581 - acc: 0.981 - ETA: 1:37 - loss: 0.0569 - acc: 0.982 - ETA: 1:36 - loss: 0.0513 - acc: 0.984 - ETA: 1:34 - loss: 0.0524 - acc: 0.982 - ETA: 1:33 - loss: 0.0512 - acc: 0.981 - ETA: 1:31 - loss: 0.0582 - acc: 0.980 - ETA: 1:31 - loss: 0.0573 - acc: 0.979 - ETA: 1:30 - loss: 0.0540 - acc: 0.980 - ETA: 1:29 - loss: 0.0535 - acc: 0.981 - ETA: 1:28 - loss: 0.0521 - acc: 0.982 - ETA: 1:28 - loss: 0.0496 - acc: 0.983 - ETA: 1:27 - loss: 0.0487 - acc: 0.984 - ETA: 1:26 - loss: 0.0469 - acc: 0.985 - ETA: 1:25 - loss: 0.0454 - acc: 0.986 - ETA: 1:24 - loss: 0.0468 - acc: 0.984 - ETA: 1:23 - loss: 0.0462 - acc: 0.985 - ETA: 1:22 - loss: 0.0452 - acc: 0.985 - ETA: 1:21 - loss: 0.0476 - acc: 0.985 - ETA: 1:20 - loss: 0.0479 - acc: 0.985 - ETA: 1:19 - loss: 0.0473 - acc: 0.985 - ETA: 1:17 - loss: 0.0463 - acc: 0.986 - ETA: 1:16 - loss: 0.0460 - acc: 0.986 - ETA: 1:15 - loss: 0.0455 - acc: 0.986 - ETA: 1:14 - loss: 0.0462 - acc: 0.986 - ETA: 1:13 - loss: 0.0480 - acc: 0.985 - ETA: 1:12 - loss: 0.0483 - acc: 0.985 - ETA: 1:11 - loss: 0.0485 - acc: 0.985 - ETA: 1:10 - loss: 0.0483 - acc: 0.985 - ETA: 1:09 - loss: 0.0512 - acc: 0.984 - ETA: 1:08 - loss: 0.0504 - acc: 0.985 - ETA: 1:07 - loss: 0.0511 - acc: 0.984 - ETA: 1:06 - loss: 0.0530 - acc: 0.984 - ETA: 1:04 - loss: 0.0549 - acc: 0.983 - ETA: 1:03 - loss: 0.0539 - acc: 0.984 - ETA: 1:02 - loss: 0.0534 - acc: 0.984 - ETA: 1:01 - loss: 0.0586 - acc: 0.982 - ETA: 1:00 - loss: 0.0577 - acc: 0.983 - ETA: 58s - loss: 0.0568 - acc: 0.983 - ETA: 57s - loss: 0.0575 - acc: 0.98 - ETA: 56s - loss: 0.0586 - acc: 0.98 - ETA: 55s - loss: 0.0616 - acc: 0.98 - ETA: 54s - loss: 0.0609 - acc: 0.98 - ETA: 53s - loss: 0.0605 - acc: 0.98 - ETA: 52s - loss: 0.0615 - acc: 0.98 - ETA: 50s - loss: 0.0609 - acc: 0.98 - ETA: 49s - loss: 0.0616 - acc: 0.98 - ETA: 48s - loss: 0.0616 - acc: 0.98 - ETA: 47s - loss: 0.0622 - acc: 0.98 - ETA: 46s - loss: 0.0625 - acc: 0.98 - ETA: 44s - loss: 0.0617 - acc: 0.98 - ETA: 43s - loss: 0.0612 - acc: 0.98 - ETA: 42s - loss: 0.0606 - acc: 0.98 - ETA: 41s - loss: 0.0612 - acc: 0.98 - ETA: 40s - loss: 0.0633 - acc: 0.97 - ETA: 39s - loss: 0.0635 - acc: 0.97 - ETA: 38s - loss: 0.0634 - acc: 0.98 - ETA: 36s - loss: 0.0635 - acc: 0.97 - ETA: 35s - loss: 0.0629 - acc: 0.97 - ETA: 34s - loss: 0.0621 - acc: 0.98 - ETA: 33s - loss: 0.0624 - acc: 0.98 - ETA: 32s - loss: 0.0620 - acc: 0.98 - ETA: 31s - loss: 0.0616 - acc: 0.98 - ETA: 30s - loss: 0.0614 - acc: 0.98 - ETA: 28s - loss: 0.0616 - acc: 0.98 - ETA: 27s - loss: 0.0609 - acc: 0.98 - ETA: 26s - loss: 0.0607 - acc: 0.98 - ETA: 25s - loss: 0.0604 - acc: 0.98 - ETA: 24s - loss: 0.0610 - acc: 0.98 - ETA: 23s - loss: 0.0611 - acc: 0.98 - ETA: 21s - loss: 0.0613 - acc: 0.97 - ETA: 20s - loss: 0.0614 - acc: 0.97 - ETA: 19s - loss: 0.0618 - acc: 0.97 - ETA: 18s - loss: 0.0620 - acc: 0.97 - ETA: 17s - loss: 0.0618 - acc: 0.97 - ETA: 16s - loss: 0.0623 - acc: 0.97 - ETA: 14s - loss: 0.0625 - acc: 0.97 - ETA: 13s - loss: 0.0625 - acc: 0.97 - ETA: 12s - loss: 0.0645 - acc: 0.97 - ETA: 11s - loss: 0.0644 - acc: 0.97 - ETA: 10s - loss: 0.0644 - acc: 0.97 - ETA: 9s - loss: 0.0644 - acc: 0.9787 - ETA: 7s - loss: 0.0642 - acc: 0.978 - ETA: 6s - loss: 0.0641 - acc: 0.978 - ETA: 5s - loss: 0.0644 - acc: 0.978 - ETA: 4s - loss: 0.0641 - acc: 0.979 - ETA: 3s - loss: 0.0639 - acc: 0.979 - ETA: 2s - loss: 0.0637 - acc: 0.979 - ETA: 0s - loss: 0.0638 - acc: 0.978 - 121s 20ms/step - loss: 0.0636 - acc: 0.9788 - val_loss: 0.5337 - val_acc: 0.8740\n",
      "Epoch 5/10\n"
     ]
    },
    {
     "name": "stdout",
     "output_type": "stream",
     "text": [
      "6000/6000 [==============================] - ETA: 1:47 - loss: 0.0578 - acc: 0.968 - ETA: 1:47 - loss: 0.0314 - acc: 0.984 - ETA: 1:45 - loss: 0.0242 - acc: 0.989 - ETA: 1:45 - loss: 0.0193 - acc: 0.992 - ETA: 1:44 - loss: 0.0186 - acc: 0.993 - ETA: 1:43 - loss: 0.0211 - acc: 0.989 - ETA: 1:41 - loss: 0.0195 - acc: 0.991 - ETA: 1:39 - loss: 0.0193 - acc: 0.990 - ETA: 1:37 - loss: 0.0221 - acc: 0.989 - ETA: 1:35 - loss: 0.0208 - acc: 0.990 - ETA: 1:34 - loss: 0.0208 - acc: 0.990 - ETA: 1:32 - loss: 0.0241 - acc: 0.989 - ETA: 1:31 - loss: 0.0254 - acc: 0.989 - ETA: 1:30 - loss: 0.0245 - acc: 0.990 - ETA: 1:29 - loss: 0.0232 - acc: 0.990 - ETA: 1:28 - loss: 0.0224 - acc: 0.991 - ETA: 1:27 - loss: 0.0340 - acc: 0.988 - ETA: 1:26 - loss: 0.0333 - acc: 0.987 - ETA: 1:25 - loss: 0.0328 - acc: 0.987 - ETA: 1:24 - loss: 0.0356 - acc: 0.985 - ETA: 1:23 - loss: 0.0348 - acc: 0.986 - ETA: 1:22 - loss: 0.0343 - acc: 0.987 - ETA: 1:21 - loss: 0.0336 - acc: 0.987 - ETA: 1:20 - loss: 0.0327 - acc: 0.988 - ETA: 1:19 - loss: 0.0325 - acc: 0.988 - ETA: 1:17 - loss: 0.0321 - acc: 0.988 - ETA: 1:16 - loss: 0.0321 - acc: 0.988 - ETA: 1:15 - loss: 0.0316 - acc: 0.988 - ETA: 1:13 - loss: 0.0311 - acc: 0.989 - ETA: 1:12 - loss: 0.0335 - acc: 0.987 - ETA: 1:11 - loss: 0.0359 - acc: 0.987 - ETA: 1:09 - loss: 0.0350 - acc: 0.987 - ETA: 1:08 - loss: 0.0343 - acc: 0.988 - ETA: 1:07 - loss: 0.0337 - acc: 0.988 - ETA: 1:06 - loss: 0.0352 - acc: 0.988 - ETA: 1:05 - loss: 0.0373 - acc: 0.988 - ETA: 1:03 - loss: 0.0369 - acc: 0.988 - ETA: 1:02 - loss: 0.0366 - acc: 0.988 - ETA: 1:01 - loss: 0.0376 - acc: 0.988 - ETA: 1:00 - loss: 0.0376 - acc: 0.988 - ETA: 59s - loss: 0.0369 - acc: 0.988 - ETA: 58s - loss: 0.0364 - acc: 0.98 - ETA: 57s - loss: 0.0360 - acc: 0.98 - ETA: 56s - loss: 0.0352 - acc: 0.98 - ETA: 55s - loss: 0.0345 - acc: 0.98 - ETA: 54s - loss: 0.0338 - acc: 0.98 - ETA: 53s - loss: 0.0334 - acc: 0.98 - ETA: 52s - loss: 0.0334 - acc: 0.98 - ETA: 50s - loss: 0.0328 - acc: 0.98 - ETA: 49s - loss: 0.0329 - acc: 0.98 - ETA: 48s - loss: 0.0349 - acc: 0.98 - ETA: 47s - loss: 0.0347 - acc: 0.98 - ETA: 46s - loss: 0.0348 - acc: 0.98 - ETA: 45s - loss: 0.0345 - acc: 0.98 - ETA: 44s - loss: 0.0346 - acc: 0.98 - ETA: 42s - loss: 0.0352 - acc: 0.98 - ETA: 41s - loss: 0.0348 - acc: 0.98 - ETA: 40s - loss: 0.0349 - acc: 0.98 - ETA: 39s - loss: 0.0358 - acc: 0.98 - ETA: 38s - loss: 0.0356 - acc: 0.98 - ETA: 37s - loss: 0.0356 - acc: 0.98 - ETA: 36s - loss: 0.0366 - acc: 0.98 - ETA: 35s - loss: 0.0373 - acc: 0.98 - ETA: 33s - loss: 0.0371 - acc: 0.98 - ETA: 32s - loss: 0.0372 - acc: 0.98 - ETA: 31s - loss: 0.0378 - acc: 0.98 - ETA: 30s - loss: 0.0381 - acc: 0.98 - ETA: 29s - loss: 0.0391 - acc: 0.98 - ETA: 28s - loss: 0.0388 - acc: 0.98 - ETA: 27s - loss: 0.0399 - acc: 0.98 - ETA: 26s - loss: 0.0400 - acc: 0.98 - ETA: 24s - loss: 0.0395 - acc: 0.98 - ETA: 23s - loss: 0.0391 - acc: 0.98 - ETA: 22s - loss: 0.0391 - acc: 0.98 - ETA: 21s - loss: 0.0387 - acc: 0.98 - ETA: 20s - loss: 0.0384 - acc: 0.98 - ETA: 19s - loss: 0.0380 - acc: 0.98 - ETA: 17s - loss: 0.0382 - acc: 0.98 - ETA: 16s - loss: 0.0378 - acc: 0.98 - ETA: 15s - loss: 0.0387 - acc: 0.98 - ETA: 14s - loss: 0.0383 - acc: 0.98 - ETA: 13s - loss: 0.0380 - acc: 0.98 - ETA: 12s - loss: 0.0377 - acc: 0.98 - ETA: 11s - loss: 0.0377 - acc: 0.98 - ETA: 9s - loss: 0.0379 - acc: 0.9884 - ETA: 8s - loss: 0.0380 - acc: 0.988 - ETA: 7s - loss: 0.0383 - acc: 0.988 - ETA: 6s - loss: 0.0380 - acc: 0.988 - ETA: 5s - loss: 0.0377 - acc: 0.988 - ETA: 4s - loss: 0.0379 - acc: 0.988 - ETA: 3s - loss: 0.0385 - acc: 0.988 - ETA: 2s - loss: 0.0386 - acc: 0.988 - ETA: 0s - loss: 0.0384 - acc: 0.988 - 120s 20ms/step - loss: 0.0386 - acc: 0.9880 - val_loss: 0.5123 - val_acc: 0.8746\n",
      "Epoch 6/10\n",
      "6000/6000 [==============================] - ETA: 1:51 - loss: 0.0513 - acc: 0.984 - ETA: 1:50 - loss: 0.0344 - acc: 0.992 - ETA: 1:49 - loss: 0.0266 - acc: 0.994 - ETA: 1:48 - loss: 0.0228 - acc: 0.996 - ETA: 1:46 - loss: 0.0199 - acc: 0.996 - ETA: 1:44 - loss: 0.0184 - acc: 0.997 - ETA: 1:43 - loss: 0.0179 - acc: 0.997 - ETA: 1:41 - loss: 0.0168 - acc: 0.998 - ETA: 1:39 - loss: 0.0157 - acc: 0.998 - ETA: 1:38 - loss: 0.0148 - acc: 0.998 - ETA: 1:37 - loss: 0.0145 - acc: 0.998 - ETA: 1:36 - loss: 0.0145 - acc: 0.998 - ETA: 1:34 - loss: 0.0149 - acc: 0.998 - ETA: 1:33 - loss: 0.0158 - acc: 0.997 - ETA: 1:32 - loss: 0.0158 - acc: 0.997 - ETA: 1:31 - loss: 0.0154 - acc: 0.998 - ETA: 1:30 - loss: 0.0151 - acc: 0.998 - ETA: 1:29 - loss: 0.0148 - acc: 0.998 - ETA: 1:28 - loss: 0.0148 - acc: 0.997 - ETA: 1:26 - loss: 0.0142 - acc: 0.997 - ETA: 1:25 - loss: 0.0136 - acc: 0.997 - ETA: 1:24 - loss: 0.0172 - acc: 0.996 - ETA: 1:23 - loss: 0.0169 - acc: 0.996 - ETA: 1:22 - loss: 0.0163 - acc: 0.996 - ETA: 1:21 - loss: 0.0158 - acc: 0.996 - ETA: 1:20 - loss: 0.0155 - acc: 0.997 - ETA: 1:19 - loss: 0.0153 - acc: 0.997 - ETA: 1:18 - loss: 0.0150 - acc: 0.997 - ETA: 1:17 - loss: 0.0152 - acc: 0.996 - ETA: 1:16 - loss: 0.0157 - acc: 0.996 - ETA: 1:15 - loss: 0.0161 - acc: 0.996 - ETA: 1:14 - loss: 0.0181 - acc: 0.995 - ETA: 1:12 - loss: 0.0177 - acc: 0.995 - ETA: 1:11 - loss: 0.0175 - acc: 0.995 - ETA: 1:10 - loss: 0.0175 - acc: 0.996 - ETA: 1:09 - loss: 0.0173 - acc: 0.996 - ETA: 1:08 - loss: 0.0170 - acc: 0.996 - ETA: 1:07 - loss: 0.0166 - acc: 0.996 - ETA: 1:05 - loss: 0.0166 - acc: 0.996 - ETA: 1:04 - loss: 0.0172 - acc: 0.996 - ETA: 1:03 - loss: 0.0168 - acc: 0.996 - ETA: 1:02 - loss: 0.0165 - acc: 0.996 - ETA: 1:01 - loss: 0.0162 - acc: 0.996 - ETA: 1:00 - loss: 0.0162 - acc: 0.996 - ETA: 59s - loss: 0.0160 - acc: 0.996 - ETA: 58s - loss: 0.0157 - acc: 0.99 - ETA: 57s - loss: 0.0155 - acc: 0.99 - ETA: 55s - loss: 0.0154 - acc: 0.99 - ETA: 54s - loss: 0.0153 - acc: 0.99 - ETA: 53s - loss: 0.0152 - acc: 0.99 - ETA: 51s - loss: 0.0154 - acc: 0.99 - ETA: 50s - loss: 0.0165 - acc: 0.99 - ETA: 49s - loss: 0.0162 - acc: 0.99 - ETA: 48s - loss: 0.0161 - acc: 0.99 - ETA: 46s - loss: 0.0160 - acc: 0.99 - ETA: 45s - loss: 0.0158 - acc: 0.99 - ETA: 44s - loss: 0.0155 - acc: 0.99 - ETA: 43s - loss: 0.0160 - acc: 0.99 - ETA: 41s - loss: 0.0172 - acc: 0.99 - ETA: 40s - loss: 0.0171 - acc: 0.99 - ETA: 39s - loss: 0.0192 - acc: 0.99 - ETA: 38s - loss: 0.0205 - acc: 0.99 - ETA: 37s - loss: 0.0224 - acc: 0.99 - ETA: 35s - loss: 0.0234 - acc: 0.99 - ETA: 34s - loss: 0.0233 - acc: 0.99 - ETA: 33s - loss: 0.0235 - acc: 0.99 - ETA: 32s - loss: 0.0243 - acc: 0.99 - ETA: 31s - loss: 0.0250 - acc: 0.99 - ETA: 29s - loss: 0.0256 - acc: 0.99 - ETA: 28s - loss: 0.0259 - acc: 0.99 - ETA: 27s - loss: 0.0263 - acc: 0.99 - ETA: 26s - loss: 0.0269 - acc: 0.99 - ETA: 25s - loss: 0.0268 - acc: 0.99 - ETA: 23s - loss: 0.0269 - acc: 0.99 - ETA: 22s - loss: 0.0269 - acc: 0.99 - ETA: 21s - loss: 0.0269 - acc: 0.99 - ETA: 20s - loss: 0.0270 - acc: 0.99 - ETA: 19s - loss: 0.0276 - acc: 0.99 - ETA: 17s - loss: 0.0276 - acc: 0.99 - ETA: 16s - loss: 0.0284 - acc: 0.99 - ETA: 15s - loss: 0.0289 - acc: 0.99 - ETA: 14s - loss: 0.0289 - acc: 0.99 - ETA: 12s - loss: 0.0288 - acc: 0.99 - ETA: 11s - loss: 0.0290 - acc: 0.99 - ETA: 10s - loss: 0.0293 - acc: 0.99 - ETA: 9s - loss: 0.0292 - acc: 0.9915 - ETA: 8s - loss: 0.0291 - acc: 0.991 - ETA: 6s - loss: 0.0289 - acc: 0.991 - ETA: 5s - loss: 0.0291 - acc: 0.991 - ETA: 4s - loss: 0.0292 - acc: 0.991 - ETA: 3s - loss: 0.0290 - acc: 0.991 - ETA: 2s - loss: 0.0287 - acc: 0.991 - ETA: 0s - loss: 0.0285 - acc: 0.991 - 126s 21ms/step - loss: 0.0284 - acc: 0.9917 - val_loss: 0.5519 - val_acc: 0.8751\n",
      "Epoch 7/10\n",
      "6000/6000 [==============================] - ETA: 1:55 - loss: 0.0100 - acc: 1.000 - ETA: 1:50 - loss: 0.0076 - acc: 1.000 - ETA: 1:51 - loss: 0.0119 - acc: 0.994 - ETA: 1:50 - loss: 0.0093 - acc: 0.996 - ETA: 1:50 - loss: 0.0088 - acc: 0.996 - ETA: 1:50 - loss: 0.0100 - acc: 0.994 - ETA: 1:49 - loss: 0.0091 - acc: 0.995 - ETA: 1:47 - loss: 0.0109 - acc: 0.994 - ETA: 1:46 - loss: 0.0101 - acc: 0.994 - ETA: 1:45 - loss: 0.0092 - acc: 0.995 - ETA: 1:43 - loss: 0.0088 - acc: 0.995 - ETA: 1:41 - loss: 0.0135 - acc: 0.994 - ETA: 1:39 - loss: 0.0126 - acc: 0.995 - ETA: 1:38 - loss: 0.0172 - acc: 0.994 - ETA: 1:37 - loss: 0.0184 - acc: 0.993 - ETA: 1:36 - loss: 0.0200 - acc: 0.993 - ETA: 1:35 - loss: 0.0197 - acc: 0.993 - ETA: 1:34 - loss: 0.0192 - acc: 0.993 - ETA: 1:33 - loss: 0.0183 - acc: 0.994 - ETA: 1:32 - loss: 0.0203 - acc: 0.993 - ETA: 1:31 - loss: 0.0212 - acc: 0.993 - ETA: 1:30 - loss: 0.0211 - acc: 0.993 - ETA: 1:28 - loss: 0.0207 - acc: 0.993 - ETA: 1:27 - loss: 0.0202 - acc: 0.994 - ETA: 1:26 - loss: 0.0202 - acc: 0.994 - ETA: 1:24 - loss: 0.0200 - acc: 0.994 - ETA: 1:23 - loss: 0.0195 - acc: 0.994 - ETA: 1:22 - loss: 0.0190 - acc: 0.995 - ETA: 1:21 - loss: 0.0188 - acc: 0.995 - ETA: 1:20 - loss: 0.0183 - acc: 0.995 - ETA: 1:18 - loss: 0.0178 - acc: 0.995 - ETA: 1:17 - loss: 0.0176 - acc: 0.995 - ETA: 1:16 - loss: 0.0180 - acc: 0.995 - ETA: 1:15 - loss: 0.0190 - acc: 0.994 - ETA: 1:14 - loss: 0.0186 - acc: 0.995 - ETA: 1:12 - loss: 0.0189 - acc: 0.994 - ETA: 1:11 - loss: 0.0187 - acc: 0.994 - ETA: 1:10 - loss: 0.0182 - acc: 0.995 - ETA: 1:08 - loss: 0.0198 - acc: 0.994 - ETA: 1:07 - loss: 0.0194 - acc: 0.994 - ETA: 1:06 - loss: 0.0202 - acc: 0.994 - ETA: 1:05 - loss: 0.0198 - acc: 0.994 - ETA: 1:03 - loss: 0.0206 - acc: 0.993 - ETA: 1:02 - loss: 0.0204 - acc: 0.994 - ETA: 1:01 - loss: 0.0202 - acc: 0.993 - ETA: 59s - loss: 0.0199 - acc: 0.993 - ETA: 58s - loss: 0.0196 - acc: 0.99 - ETA: 57s - loss: 0.0192 - acc: 0.99 - ETA: 56s - loss: 0.0203 - acc: 0.99 - ETA: 54s - loss: 0.0199 - acc: 0.99 - ETA: 53s - loss: 0.0196 - acc: 0.99 - ETA: 51s - loss: 0.0200 - acc: 0.99 - ETA: 50s - loss: 0.0199 - acc: 0.99 - ETA: 49s - loss: 0.0202 - acc: 0.99 - ETA: 47s - loss: 0.0200 - acc: 0.99 - ETA: 46s - loss: 0.0198 - acc: 0.99 - ETA: 45s - loss: 0.0196 - acc: 0.99 - ETA: 44s - loss: 0.0197 - acc: 0.99 - ETA: 42s - loss: 0.0194 - acc: 0.99 - ETA: 41s - loss: 0.0193 - acc: 0.99 - ETA: 40s - loss: 0.0192 - acc: 0.99 - ETA: 39s - loss: 0.0190 - acc: 0.99 - ETA: 37s - loss: 0.0192 - acc: 0.99 - ETA: 36s - loss: 0.0190 - acc: 0.99 - ETA: 35s - loss: 0.0188 - acc: 0.99 - ETA: 34s - loss: 0.0186 - acc: 0.99 - ETA: 32s - loss: 0.0185 - acc: 0.99 - ETA: 31s - loss: 0.0185 - acc: 0.99 - ETA: 30s - loss: 0.0184 - acc: 0.99 - ETA: 28s - loss: 0.0184 - acc: 0.99 - ETA: 27s - loss: 0.0181 - acc: 0.99 - ETA: 26s - loss: 0.0180 - acc: 0.99 - ETA: 25s - loss: 0.0186 - acc: 0.99 - ETA: 24s - loss: 0.0187 - acc: 0.99 - ETA: 22s - loss: 0.0185 - acc: 0.99 - ETA: 21s - loss: 0.0190 - acc: 0.99 - ETA: 20s - loss: 0.0187 - acc: 0.99 - ETA: 19s - loss: 0.0190 - acc: 0.99 - ETA: 17s - loss: 0.0188 - acc: 0.99 - ETA: 16s - loss: 0.0186 - acc: 0.99 - ETA: 15s - loss: 0.0184 - acc: 0.99 - ETA: 14s - loss: 0.0185 - acc: 0.99 - ETA: 13s - loss: 0.0188 - acc: 0.99 - ETA: 11s - loss: 0.0187 - acc: 0.99 - ETA: 10s - loss: 0.0185 - acc: 0.99 - ETA: 9s - loss: 0.0187 - acc: 0.9944 - ETA: 8s - loss: 0.0198 - acc: 0.994 - ETA: 6s - loss: 0.0196 - acc: 0.994 - ETA: 5s - loss: 0.0194 - acc: 0.994 - ETA: 4s - loss: 0.0193 - acc: 0.994 - ETA: 3s - loss: 0.0191 - acc: 0.994 - ETA: 2s - loss: 0.0190 - acc: 0.994 - ETA: 0s - loss: 0.0189 - acc: 0.994 - 125s 21ms/step - loss: 0.0187 - acc: 0.9945 - val_loss: 0.7104 - val_acc: 0.8729\n",
      "Epoch 8/10\n",
      "6000/6000 [==============================] - ETA: 1:47 - loss: 0.0031 - acc: 1.000 - ETA: 1:46 - loss: 0.0019 - acc: 1.000 - ETA: 1:42 - loss: 0.0015 - acc: 1.000 - ETA: 1:40 - loss: 0.0053 - acc: 0.996 - ETA: 1:38 - loss: 0.0071 - acc: 0.996 - ETA: 1:36 - loss: 0.0061 - acc: 0.997 - ETA: 1:35 - loss: 0.0060 - acc: 0.997 - ETA: 1:34 - loss: 0.0058 - acc: 0.998 - ETA: 1:32 - loss: 0.0107 - acc: 0.996 - ETA: 1:31 - loss: 0.0101 - acc: 0.996 - ETA: 1:30 - loss: 0.0102 - acc: 0.997 - ETA: 1:29 - loss: 0.0096 - acc: 0.997 - ETA: 1:28 - loss: 0.0090 - acc: 0.997 - ETA: 1:27 - loss: 0.0086 - acc: 0.997 - ETA: 1:26 - loss: 0.0098 - acc: 0.996 - ETA: 1:25 - loss: 0.0093 - acc: 0.997 - ETA: 1:24 - loss: 0.0089 - acc: 0.997 - ETA: 1:23 - loss: 0.0098 - acc: 0.996 - ETA: 1:23 - loss: 0.0096 - acc: 0.996 - ETA: 1:22 - loss: 0.0094 - acc: 0.996 - ETA: 1:21 - loss: 0.0091 - acc: 0.997 - ETA: 1:20 - loss: 0.0093 - acc: 0.997 - ETA: 1:19 - loss: 0.0090 - acc: 0.997 - ETA: 1:18 - loss: 0.0087 - acc: 0.997 - ETA: 1:17 - loss: 0.0085 - acc: 0.997 - ETA: 1:16 - loss: 0.0094 - acc: 0.997 - ETA: 1:15 - loss: 0.0100 - acc: 0.996 - ETA: 1:14 - loss: 0.0097 - acc: 0.996 - ETA: 1:13 - loss: 0.0118 - acc: 0.995 - ETA: 1:12 - loss: 0.0134 - acc: 0.995 - ETA: 1:11 - loss: 0.0142 - acc: 0.995 - ETA: 1:10 - loss: 0.0140 - acc: 0.995 - ETA: 1:09 - loss: 0.0138 - acc: 0.995 - ETA: 1:08 - loss: 0.0135 - acc: 0.995 - ETA: 1:07 - loss: 0.0135 - acc: 0.995 - ETA: 1:06 - loss: 0.0133 - acc: 0.995 - ETA: 1:05 - loss: 0.0139 - acc: 0.995 - ETA: 1:03 - loss: 0.0140 - acc: 0.995 - ETA: 1:02 - loss: 0.0137 - acc: 0.995 - ETA: 1:01 - loss: 0.0135 - acc: 0.995 - ETA: 1:00 - loss: 0.0135 - acc: 0.995 - ETA: 59s - loss: 0.0132 - acc: 0.995 - ETA: 57s - loss: 0.0129 - acc: 0.99 - ETA: 56s - loss: 0.0126 - acc: 0.99 - ETA: 55s - loss: 0.0123 - acc: 0.99 - ETA: 54s - loss: 0.0125 - acc: 0.99 - ETA: 53s - loss: 0.0123 - acc: 0.99 - ETA: 51s - loss: 0.0123 - acc: 0.99 - ETA: 50s - loss: 0.0121 - acc: 0.99 - ETA: 49s - loss: 0.0137 - acc: 0.99 - ETA: 48s - loss: 0.0135 - acc: 0.99 - ETA: 47s - loss: 0.0132 - acc: 0.99 - ETA: 46s - loss: 0.0137 - acc: 0.99 - ETA: 45s - loss: 0.0147 - acc: 0.99 - ETA: 44s - loss: 0.0148 - acc: 0.99 - ETA: 43s - loss: 0.0149 - acc: 0.99 - ETA: 42s - loss: 0.0149 - acc: 0.99 - ETA: 41s - loss: 0.0147 - acc: 0.99 - ETA: 39s - loss: 0.0159 - acc: 0.99 - ETA: 38s - loss: 0.0160 - acc: 0.99 - ETA: 37s - loss: 0.0162 - acc: 0.99 - ETA: 36s - loss: 0.0161 - acc: 0.99 - ETA: 35s - loss: 0.0165 - acc: 0.99 - ETA: 34s - loss: 0.0166 - acc: 0.99 - ETA: 33s - loss: 0.0164 - acc: 0.99 - ETA: 32s - loss: 0.0162 - acc: 0.99 - ETA: 30s - loss: 0.0165 - acc: 0.99 - ETA: 29s - loss: 0.0164 - acc: 0.99 - ETA: 28s - loss: 0.0166 - acc: 0.99 - ETA: 27s - loss: 0.0168 - acc: 0.99 - ETA: 26s - loss: 0.0167 - acc: 0.99 - ETA: 25s - loss: 0.0166 - acc: 0.99 - ETA: 24s - loss: 0.0174 - acc: 0.99 - ETA: 22s - loss: 0.0174 - acc: 0.99 - ETA: 21s - loss: 0.0172 - acc: 0.99 - ETA: 20s - loss: 0.0170 - acc: 0.99 - ETA: 19s - loss: 0.0170 - acc: 0.99 - ETA: 18s - loss: 0.0169 - acc: 0.99 - ETA: 17s - loss: 0.0171 - acc: 0.99 - ETA: 15s - loss: 0.0173 - acc: 0.99 - ETA: 14s - loss: 0.0172 - acc: 0.99 - ETA: 13s - loss: 0.0171 - acc: 0.99 - ETA: 12s - loss: 0.0169 - acc: 0.99 - ETA: 11s - loss: 0.0168 - acc: 0.99 - ETA: 10s - loss: 0.0170 - acc: 0.99 - ETA: 9s - loss: 0.0169 - acc: 0.9935 - ETA: 7s - loss: 0.0181 - acc: 0.993 - ETA: 6s - loss: 0.0183 - acc: 0.993 - ETA: 5s - loss: 0.0190 - acc: 0.993 - ETA: 4s - loss: 0.0190 - acc: 0.993 - ETA: 3s - loss: 0.0194 - acc: 0.993 - ETA: 2s - loss: 0.0194 - acc: 0.993 - ETA: 0s - loss: 0.0196 - acc: 0.992 - 122s 20ms/step - loss: 0.0195 - acc: 0.9930 - val_loss: 0.5311 - val_acc: 0.8541\n",
      "Epoch 9/10\n"
     ]
    },
    {
     "name": "stdout",
     "output_type": "stream",
     "text": [
      "6000/6000 [==============================] - ETA: 1:51 - loss: 0.0299 - acc: 1.000 - ETA: 1:46 - loss: 0.0315 - acc: 0.992 - ETA: 1:43 - loss: 0.0290 - acc: 0.994 - ETA: 1:41 - loss: 0.0290 - acc: 0.996 - ETA: 1:39 - loss: 0.0374 - acc: 0.990 - ETA: 1:37 - loss: 0.0383 - acc: 0.989 - ETA: 1:35 - loss: 0.0374 - acc: 0.988 - ETA: 1:34 - loss: 0.0353 - acc: 0.988 - ETA: 1:32 - loss: 0.0321 - acc: 0.989 - ETA: 1:31 - loss: 0.0295 - acc: 0.990 - ETA: 1:30 - loss: 0.0314 - acc: 0.990 - ETA: 1:29 - loss: 0.0295 - acc: 0.990 - ETA: 1:28 - loss: 0.0281 - acc: 0.991 - ETA: 1:28 - loss: 0.0263 - acc: 0.992 - ETA: 1:27 - loss: 0.0247 - acc: 0.992 - ETA: 1:26 - loss: 0.0233 - acc: 0.993 - ETA: 1:25 - loss: 0.0299 - acc: 0.990 - ETA: 1:25 - loss: 0.0284 - acc: 0.991 - ETA: 1:24 - loss: 0.0270 - acc: 0.991 - ETA: 1:23 - loss: 0.0273 - acc: 0.991 - ETA: 1:22 - loss: 0.0261 - acc: 0.991 - ETA: 1:21 - loss: 0.0284 - acc: 0.991 - ETA: 1:20 - loss: 0.0277 - acc: 0.991 - ETA: 1:19 - loss: 0.0267 - acc: 0.992 - ETA: 1:18 - loss: 0.0282 - acc: 0.991 - ETA: 1:17 - loss: 0.0274 - acc: 0.991 - ETA: 1:16 - loss: 0.0268 - acc: 0.991 - ETA: 1:14 - loss: 0.0264 - acc: 0.992 - ETA: 1:13 - loss: 0.0257 - acc: 0.992 - ETA: 1:12 - loss: 0.0283 - acc: 0.991 - ETA: 1:11 - loss: 0.0275 - acc: 0.991 - ETA: 1:10 - loss: 0.0269 - acc: 0.991 - ETA: 1:09 - loss: 0.0267 - acc: 0.992 - ETA: 1:08 - loss: 0.0260 - acc: 0.992 - ETA: 1:07 - loss: 0.0268 - acc: 0.991 - ETA: 1:06 - loss: 0.0263 - acc: 0.991 - ETA: 1:05 - loss: 0.0263 - acc: 0.992 - ETA: 1:04 - loss: 0.0272 - acc: 0.991 - ETA: 1:03 - loss: 0.0267 - acc: 0.992 - ETA: 1:02 - loss: 0.0275 - acc: 0.991 - ETA: 1:01 - loss: 0.0274 - acc: 0.992 - ETA: 1:00 - loss: 0.0270 - acc: 0.992 - ETA: 58s - loss: 0.0272 - acc: 0.992 - ETA: 57s - loss: 0.0266 - acc: 0.99 - ETA: 56s - loss: 0.0261 - acc: 0.99 - ETA: 55s - loss: 0.0272 - acc: 0.99 - ETA: 54s - loss: 0.0272 - acc: 0.99 - ETA: 53s - loss: 0.0267 - acc: 0.99 - ETA: 52s - loss: 0.0274 - acc: 0.99 - ETA: 51s - loss: 0.0270 - acc: 0.99 - ETA: 50s - loss: 0.0271 - acc: 0.99 - ETA: 48s - loss: 0.0267 - acc: 0.99 - ETA: 47s - loss: 0.0267 - acc: 0.99 - ETA: 46s - loss: 0.0280 - acc: 0.99 - ETA: 45s - loss: 0.0280 - acc: 0.99 - ETA: 44s - loss: 0.0281 - acc: 0.99 - ETA: 42s - loss: 0.0277 - acc: 0.99 - ETA: 41s - loss: 0.0279 - acc: 0.99 - ETA: 40s - loss: 0.0280 - acc: 0.99 - ETA: 39s - loss: 0.0277 - acc: 0.99 - ETA: 38s - loss: 0.0274 - acc: 0.99 - ETA: 36s - loss: 0.0274 - acc: 0.99 - ETA: 35s - loss: 0.0272 - acc: 0.99 - ETA: 34s - loss: 0.0268 - acc: 0.99 - ETA: 33s - loss: 0.0287 - acc: 0.99 - ETA: 32s - loss: 0.0298 - acc: 0.99 - ETA: 31s - loss: 0.0305 - acc: 0.99 - ETA: 30s - loss: 0.0303 - acc: 0.99 - ETA: 28s - loss: 0.0300 - acc: 0.99 - ETA: 27s - loss: 0.0299 - acc: 0.99 - ETA: 26s - loss: 0.0301 - acc: 0.99 - ETA: 25s - loss: 0.0299 - acc: 0.99 - ETA: 24s - loss: 0.0295 - acc: 0.99 - ETA: 23s - loss: 0.0295 - acc: 0.99 - ETA: 21s - loss: 0.0294 - acc: 0.99 - ETA: 20s - loss: 0.0294 - acc: 0.99 - ETA: 19s - loss: 0.0292 - acc: 0.99 - ETA: 18s - loss: 0.0293 - acc: 0.99 - ETA: 17s - loss: 0.0290 - acc: 0.99 - ETA: 16s - loss: 0.0288 - acc: 0.99 - ETA: 14s - loss: 0.0291 - acc: 0.99 - ETA: 13s - loss: 0.0288 - acc: 0.99 - ETA: 12s - loss: 0.0286 - acc: 0.99 - ETA: 11s - loss: 0.0295 - acc: 0.99 - ETA: 10s - loss: 0.0293 - acc: 0.99 - ETA: 8s - loss: 0.0290 - acc: 0.9907 - ETA: 7s - loss: 0.0292 - acc: 0.990 - ETA: 6s - loss: 0.0289 - acc: 0.990 - ETA: 5s - loss: 0.0290 - acc: 0.990 - ETA: 4s - loss: 0.0290 - acc: 0.990 - ETA: 3s - loss: 0.0289 - acc: 0.990 - ETA: 2s - loss: 0.0288 - acc: 0.991 - ETA: 0s - loss: 0.0292 - acc: 0.990 - 121s 20ms/step - loss: 0.0291 - acc: 0.9908 - val_loss: 0.6111 - val_acc: 0.8692\n",
      "Epoch 10/10\n",
      "6000/6000 [==============================] - ETA: 1:51 - loss: 0.0093 - acc: 1.000 - ETA: 1:50 - loss: 0.0119 - acc: 1.000 - ETA: 1:48 - loss: 0.0100 - acc: 1.000 - ETA: 1:47 - loss: 0.0094 - acc: 1.000 - ETA: 1:46 - loss: 0.0083 - acc: 1.000 - ETA: 1:44 - loss: 0.0074 - acc: 1.000 - ETA: 1:42 - loss: 0.0095 - acc: 0.997 - ETA: 1:40 - loss: 0.0125 - acc: 0.996 - ETA: 1:38 - loss: 0.0134 - acc: 0.994 - ETA: 1:36 - loss: 0.0144 - acc: 0.993 - ETA: 1:35 - loss: 0.0136 - acc: 0.994 - ETA: 1:33 - loss: 0.0126 - acc: 0.994 - ETA: 1:31 - loss: 0.0117 - acc: 0.995 - ETA: 1:30 - loss: 0.0116 - acc: 0.995 - ETA: 1:30 - loss: 0.0110 - acc: 0.995 - ETA: 1:29 - loss: 0.0112 - acc: 0.996 - ETA: 1:28 - loss: 0.0119 - acc: 0.995 - ETA: 1:27 - loss: 0.0125 - acc: 0.994 - ETA: 1:26 - loss: 0.0120 - acc: 0.995 - ETA: 1:25 - loss: 0.0114 - acc: 0.995 - ETA: 1:24 - loss: 0.0110 - acc: 0.995 - ETA: 1:23 - loss: 0.0106 - acc: 0.995 - ETA: 1:22 - loss: 0.0127 - acc: 0.995 - ETA: 1:21 - loss: 0.0181 - acc: 0.993 - ETA: 1:20 - loss: 0.0177 - acc: 0.993 - ETA: 1:18 - loss: 0.0173 - acc: 0.994 - ETA: 1:17 - loss: 0.0175 - acc: 0.993 - ETA: 1:16 - loss: 0.0201 - acc: 0.992 - ETA: 1:15 - loss: 0.0209 - acc: 0.991 - ETA: 1:13 - loss: 0.0203 - acc: 0.992 - ETA: 1:12 - loss: 0.0199 - acc: 0.992 - ETA: 1:11 - loss: 0.0196 - acc: 0.992 - ETA: 1:10 - loss: 0.0192 - acc: 0.992 - ETA: 1:08 - loss: 0.0192 - acc: 0.993 - ETA: 1:07 - loss: 0.0192 - acc: 0.992 - ETA: 1:06 - loss: 0.0189 - acc: 0.993 - ETA: 1:05 - loss: 0.0186 - acc: 0.993 - ETA: 1:04 - loss: 0.0185 - acc: 0.993 - ETA: 1:03 - loss: 0.0184 - acc: 0.993 - ETA: 1:02 - loss: 0.0186 - acc: 0.993 - ETA: 1:00 - loss: 0.0199 - acc: 0.992 - ETA: 59s - loss: 0.0195 - acc: 0.992 - ETA: 58s - loss: 0.0191 - acc: 0.99 - ETA: 57s - loss: 0.0188 - acc: 0.99 - ETA: 56s - loss: 0.0185 - acc: 0.99 - ETA: 55s - loss: 0.0183 - acc: 0.99 - ETA: 54s - loss: 0.0180 - acc: 0.99 - ETA: 53s - loss: 0.0188 - acc: 0.99 - ETA: 52s - loss: 0.0184 - acc: 0.99 - ETA: 50s - loss: 0.0184 - acc: 0.99 - ETA: 49s - loss: 0.0181 - acc: 0.99 - ETA: 48s - loss: 0.0179 - acc: 0.99 - ETA: 47s - loss: 0.0177 - acc: 0.99 - ETA: 46s - loss: 0.0177 - acc: 0.99 - ETA: 44s - loss: 0.0175 - acc: 0.99 - ETA: 43s - loss: 0.0173 - acc: 0.99 - ETA: 42s - loss: 0.0172 - acc: 0.99 - ETA: 41s - loss: 0.0170 - acc: 0.99 - ETA: 40s - loss: 0.0168 - acc: 0.99 - ETA: 38s - loss: 0.0166 - acc: 0.99 - ETA: 37s - loss: 0.0170 - acc: 0.99 - ETA: 36s - loss: 0.0169 - acc: 0.99 - ETA: 35s - loss: 0.0167 - acc: 0.99 - ETA: 34s - loss: 0.0168 - acc: 0.99 - ETA: 33s - loss: 0.0166 - acc: 0.99 - ETA: 32s - loss: 0.0164 - acc: 0.99 - ETA: 30s - loss: 0.0165 - acc: 0.99 - ETA: 29s - loss: 0.0166 - acc: 0.99 - ETA: 28s - loss: 0.0163 - acc: 0.99 - ETA: 27s - loss: 0.0167 - acc: 0.99 - ETA: 26s - loss: 0.0165 - acc: 0.99 - ETA: 25s - loss: 0.0173 - acc: 0.99 - ETA: 24s - loss: 0.0170 - acc: 0.99 - ETA: 22s - loss: 0.0168 - acc: 0.99 - ETA: 21s - loss: 0.0170 - acc: 0.99 - ETA: 20s - loss: 0.0171 - acc: 0.99 - ETA: 19s - loss: 0.0170 - acc: 0.99 - ETA: 18s - loss: 0.0170 - acc: 0.99 - ETA: 17s - loss: 0.0168 - acc: 0.99 - ETA: 15s - loss: 0.0168 - acc: 0.99 - ETA: 14s - loss: 0.0166 - acc: 0.99 - ETA: 13s - loss: 0.0165 - acc: 0.99 - ETA: 12s - loss: 0.0165 - acc: 0.99 - ETA: 11s - loss: 0.0165 - acc: 0.99 - ETA: 10s - loss: 0.0165 - acc: 0.99 - ETA: 8s - loss: 0.0164 - acc: 0.9942 - ETA: 7s - loss: 0.0166 - acc: 0.994 - ETA: 6s - loss: 0.0164 - acc: 0.994 - ETA: 5s - loss: 0.0166 - acc: 0.994 - ETA: 4s - loss: 0.0170 - acc: 0.993 - ETA: 3s - loss: 0.0169 - acc: 0.994 - ETA: 2s - loss: 0.0167 - acc: 0.994 - ETA: 0s - loss: 0.0170 - acc: 0.994 - 121s 20ms/step - loss: 0.0169 - acc: 0.9940 - val_loss: 0.7382 - val_acc: 0.8740\n"
     ]
    }
   ],
   "source": [
    "history = model.fit(x_train, y_train, nb_epoch=10, batch_size=64,validation_data=(x_test,y_test))"
   ]
  },
  {
   "cell_type": "code",
   "execution_count": 64,
   "metadata": {},
   "outputs": [
    {
     "name": "stdout",
     "output_type": "stream",
     "text": [
      "Accuracy: 87.40%\n"
     ]
    }
   ],
   "source": [
    "# Final evaluation of the model\n",
    "scores = model.evaluate(x_test, y_test, verbose=0)\n",
    "print(\"Accuracy: %.2f%%\" % (scores[1]*100))"
   ]
  },
  {
   "cell_type": "code",
   "execution_count": 65,
   "metadata": {},
   "outputs": [
    {
     "data": {
      "image/png": "[encoded data removed]",
      "text/plain": [
       "<Figure size 432x288 with 1 Axes>"
      ]
     },
     "metadata": {
      "needs_background": "light"
     },
     "output_type": "display_data"
    }
   ],
   "source": [
    "val_loss=history.history['val_loss']\n",
    "loss=history.history['loss']\n",
    "plt.plot(val_loss)\n",
    "plt.plot(loss)\n",
    "plt.legend([\"Validation loss\",\"Training loss\"])\n",
    "plt.xlabel(\"No of Epochs\")\n",
    "plt.ylabel(\"Loss\")\n",
    "plt.title(\"Loss Vs Epochs\")\n",
    "plt.show()"
   ]
  },
  {
   "cell_type": "markdown",
   "metadata": {},
   "source": [
    "## 4th architecture \n"
   ]
  },
  {
   "cell_type": "code",
   "execution_count": 66,
   "metadata": {},
   "outputs": [
    {
     "name": "stdout",
     "output_type": "stream",
     "text": [
      "_________________________________________________________________\n",
      "Layer (type)                 Output Shape              Param #   \n",
      "=================================================================\n",
      "embedding_5 (Embedding)      (None, 600, 32)           584448    \n",
      "_________________________________________________________________\n",
      "lstm_7 (LSTM)                (None, 600, 32)           8320      \n",
      "_________________________________________________________________\n",
      "lstm_8 (LSTM)                (None, 600, 64)           24832     \n",
      "_________________________________________________________________\n",
      "dropout_2 (Dropout)          (None, 600, 64)           0         \n",
      "_________________________________________________________________\n",
      "lstm_9 (LSTM)                (None, 32)                12416     \n",
      "_________________________________________________________________\n",
      "dense_4 (Dense)              (None, 1)                 33        \n",
      "=================================================================\n",
      "Total params: 630,049\n",
      "Trainable params: 630,049\n",
      "Non-trainable params: 0\n",
      "_________________________________________________________________\n",
      "None\n"
     ]
    }
   ],
   "source": [
    "# create the model\n",
    "embedding_vecor_length = 32\n",
    "top_words = 18264\n",
    "model = Sequential()\n",
    "model.add(Embedding(top_words, embedding_vecor_length, input_length=len(x_train[0])))\n",
    "model.add(LSTM(32,return_sequences=True))\n",
    "model.add(LSTM(64,return_sequences=True))\n",
    "model.add(Dropout(0.75))\n",
    "model.add(LSTM(32))\n",
    "model.add(Dense(1,activation='sigmoid'))\n",
    "model.compile(loss='binary_crossentropy',optimizer='adam',metrics=['accuracy'])\n",
    "print(model.summary())"
   ]
  },
  {
   "cell_type": "code",
   "execution_count": 67,
   "metadata": {},
   "outputs": [
    {
     "name": "stdout",
     "output_type": "stream",
     "text": [
      "Train on 6000 samples, validate on 3564 samples\n",
      "Epoch 1/10\n",
      "6000/6000 [==============================] - ETA: 4:03 - loss: 0.6936 - acc: 0.390 - ETA: 2:37 - loss: 0.6906 - acc: 0.656 - ETA: 2:09 - loss: 0.6882 - acc: 0.718 - ETA: 1:54 - loss: 0.6855 - acc: 0.750 - ETA: 1:45 - loss: 0.6828 - acc: 0.762 - ETA: 1:38 - loss: 0.6803 - acc: 0.765 - ETA: 1:33 - loss: 0.6775 - acc: 0.765 - ETA: 1:28 - loss: 0.6722 - acc: 0.777 - ETA: 1:24 - loss: 0.6655 - acc: 0.789 - ETA: 1:21 - loss: 0.6585 - acc: 0.798 - ETA: 1:19 - loss: 0.6497 - acc: 0.805 - ETA: 1:16 - loss: 0.6432 - acc: 0.803 - ETA: 1:14 - loss: 0.6332 - acc: 0.805 - ETA: 1:12 - loss: 0.6243 - acc: 0.804 - ETA: 1:10 - loss: 0.6157 - acc: 0.804 - ETA: 1:09 - loss: 0.6090 - acc: 0.803 - ETA: 1:07 - loss: 0.6070 - acc: 0.802 - ETA: 1:06 - loss: 0.5940 - acc: 0.806 - ETA: 1:04 - loss: 0.5874 - acc: 0.807 - ETA: 1:03 - loss: 0.5722 - acc: 0.813 - ETA: 1:02 - loss: 0.5647 - acc: 0.814 - ETA: 1:00 - loss: 0.5531 - acc: 0.818 - ETA: 59s - loss: 0.5490 - acc: 0.819 - ETA: 58s - loss: 0.5349 - acc: 0.82 - ETA: 57s - loss: 0.5259 - acc: 0.82 - ETA: 56s - loss: 0.5230 - acc: 0.82 - ETA: 55s - loss: 0.5234 - acc: 0.82 - ETA: 55s - loss: 0.5203 - acc: 0.82 - ETA: 54s - loss: 0.5127 - acc: 0.83 - ETA: 53s - loss: 0.5080 - acc: 0.83 - ETA: 52s - loss: 0.5021 - acc: 0.83 - ETA: 51s - loss: 0.5013 - acc: 0.83 - ETA: 50s - loss: 0.5027 - acc: 0.83 - ETA: 49s - loss: 0.5025 - acc: 0.83 - ETA: 48s - loss: 0.5001 - acc: 0.83 - ETA: 48s - loss: 0.4981 - acc: 0.83 - ETA: 47s - loss: 0.4994 - acc: 0.82 - ETA: 46s - loss: 0.4967 - acc: 0.83 - ETA: 45s - loss: 0.4953 - acc: 0.83 - ETA: 44s - loss: 0.4943 - acc: 0.83 - ETA: 43s - loss: 0.4932 - acc: 0.83 - ETA: 42s - loss: 0.4898 - acc: 0.83 - ETA: 42s - loss: 0.4900 - acc: 0.83 - ETA: 41s - loss: 0.4900 - acc: 0.83 - ETA: 40s - loss: 0.4865 - acc: 0.83 - ETA: 39s - loss: 0.4861 - acc: 0.83 - ETA: 38s - loss: 0.4828 - acc: 0.83 - ETA: 37s - loss: 0.4835 - acc: 0.83 - ETA: 36s - loss: 0.4804 - acc: 0.83 - ETA: 35s - loss: 0.4778 - acc: 0.83 - ETA: 34s - loss: 0.4769 - acc: 0.83 - ETA: 34s - loss: 0.4771 - acc: 0.83 - ETA: 33s - loss: 0.4762 - acc: 0.83 - ETA: 32s - loss: 0.4748 - acc: 0.83 - ETA: 31s - loss: 0.4722 - acc: 0.83 - ETA: 30s - loss: 0.4719 - acc: 0.83 - ETA: 30s - loss: 0.4700 - acc: 0.83 - ETA: 29s - loss: 0.4678 - acc: 0.83 - ETA: 28s - loss: 0.4659 - acc: 0.83 - ETA: 27s - loss: 0.4635 - acc: 0.83 - ETA: 26s - loss: 0.4628 - acc: 0.83 - ETA: 25s - loss: 0.4610 - acc: 0.83 - ETA: 25s - loss: 0.4608 - acc: 0.83 - ETA: 24s - loss: 0.4626 - acc: 0.83 - ETA: 23s - loss: 0.4611 - acc: 0.83 - ETA: 22s - loss: 0.4605 - acc: 0.83 - ETA: 21s - loss: 0.4588 - acc: 0.83 - ETA: 21s - loss: 0.4588 - acc: 0.83 - ETA: 20s - loss: 0.4578 - acc: 0.83 - ETA: 19s - loss: 0.4553 - acc: 0.83 - ETA: 18s - loss: 0.4537 - acc: 0.83 - ETA: 17s - loss: 0.4515 - acc: 0.83 - ETA: 16s - loss: 0.4517 - acc: 0.83 - ETA: 16s - loss: 0.4523 - acc: 0.83 - ETA: 15s - loss: 0.4531 - acc: 0.83 - ETA: 14s - loss: 0.4514 - acc: 0.83 - ETA: 13s - loss: 0.4509 - acc: 0.83 - ETA: 12s - loss: 0.4493 - acc: 0.83 - ETA: 12s - loss: 0.4483 - acc: 0.83 - ETA: 11s - loss: 0.4474 - acc: 0.83 - ETA: 10s - loss: 0.4460 - acc: 0.83 - ETA: 9s - loss: 0.4441 - acc: 0.8375 - ETA: 8s - loss: 0.4432 - acc: 0.837 - ETA: 8s - loss: 0.4406 - acc: 0.838 - ETA: 7s - loss: 0.4399 - acc: 0.837 - ETA: 6s - loss: 0.4375 - acc: 0.838 - ETA: 5s - loss: 0.4364 - acc: 0.838 - ETA: 4s - loss: 0.4342 - acc: 0.839 - ETA: 3s - loss: 0.4337 - acc: 0.839 - ETA: 3s - loss: 0.4328 - acc: 0.839 - ETA: 2s - loss: 0.4315 - acc: 0.839 - ETA: 1s - loss: 0.4303 - acc: 0.840 - ETA: 0s - loss: 0.4295 - acc: 0.840 - 86s 14ms/step - loss: 0.4290 - acc: 0.8402 - val_loss: 0.3169 - val_acc: 0.8605\n",
      "Epoch 2/10\n",
      "6000/6000 [==============================] - ETA: 1:19 - loss: 0.2364 - acc: 0.890 - ETA: 1:15 - loss: 0.2031 - acc: 0.914 - ETA: 1:14 - loss: 0.2387 - acc: 0.890 - ETA: 1:13 - loss: 0.2275 - acc: 0.898 - ETA: 1:12 - loss: 0.2106 - acc: 0.906 - ETA: 1:11 - loss: 0.2112 - acc: 0.911 - ETA: 1:11 - loss: 0.2132 - acc: 0.912 - ETA: 1:10 - loss: 0.2069 - acc: 0.914 - ETA: 1:08 - loss: 0.2163 - acc: 0.909 - ETA: 1:07 - loss: 0.2071 - acc: 0.915 - ETA: 1:06 - loss: 0.2131 - acc: 0.913 - ETA: 1:04 - loss: 0.2155 - acc: 0.914 - ETA: 1:03 - loss: 0.2171 - acc: 0.911 - ETA: 1:02 - loss: 0.2158 - acc: 0.909 - ETA: 1:01 - loss: 0.2132 - acc: 0.910 - ETA: 1:00 - loss: 0.2125 - acc: 0.911 - ETA: 1:00 - loss: 0.2152 - acc: 0.909 - ETA: 59s - loss: 0.2188 - acc: 0.908 - ETA: 58s - loss: 0.2205 - acc: 0.91 - ETA: 57s - loss: 0.2148 - acc: 0.91 - ETA: 57s - loss: 0.2135 - acc: 0.91 - ETA: 56s - loss: 0.2112 - acc: 0.91 - ETA: 55s - loss: 0.2114 - acc: 0.91 - ETA: 55s - loss: 0.2155 - acc: 0.91 - ETA: 54s - loss: 0.2152 - acc: 0.91 - ETA: 53s - loss: 0.2153 - acc: 0.91 - ETA: 53s - loss: 0.2155 - acc: 0.91 - ETA: 52s - loss: 0.2134 - acc: 0.91 - ETA: 51s - loss: 0.2111 - acc: 0.91 - ETA: 51s - loss: 0.2120 - acc: 0.91 - ETA: 50s - loss: 0.2123 - acc: 0.91 - ETA: 49s - loss: 0.2113 - acc: 0.91 - ETA: 48s - loss: 0.2078 - acc: 0.91 - ETA: 47s - loss: 0.2075 - acc: 0.91 - ETA: 47s - loss: 0.2069 - acc: 0.91 - ETA: 46s - loss: 0.2041 - acc: 0.92 - ETA: 45s - loss: 0.2047 - acc: 0.92 - ETA: 44s - loss: 0.2033 - acc: 0.92 - ETA: 43s - loss: 0.2025 - acc: 0.92 - ETA: 43s - loss: 0.2040 - acc: 0.92 - ETA: 42s - loss: 0.2071 - acc: 0.91 - ETA: 41s - loss: 0.2051 - acc: 0.92 - ETA: 40s - loss: 0.2067 - acc: 0.91 - ETA: 40s - loss: 0.2058 - acc: 0.91 - ETA: 39s - loss: 0.2053 - acc: 0.91 - ETA: 38s - loss: 0.2045 - acc: 0.91 - ETA: 37s - loss: 0.2063 - acc: 0.91 - ETA: 37s - loss: 0.2051 - acc: 0.91 - ETA: 36s - loss: 0.2042 - acc: 0.91 - ETA: 35s - loss: 0.2023 - acc: 0.92 - ETA: 34s - loss: 0.2008 - acc: 0.92 - ETA: 33s - loss: 0.2021 - acc: 0.92 - ETA: 33s - loss: 0.2028 - acc: 0.92 - ETA: 32s - loss: 0.2024 - acc: 0.92 - ETA: 31s - loss: 0.2023 - acc: 0.92 - ETA: 30s - loss: 0.2023 - acc: 0.92 - ETA: 29s - loss: 0.2012 - acc: 0.92 - ETA: 28s - loss: 0.2006 - acc: 0.92 - ETA: 28s - loss: 0.2013 - acc: 0.92 - ETA: 27s - loss: 0.2017 - acc: 0.92 - ETA: 26s - loss: 0.2027 - acc: 0.92 - ETA: 25s - loss: 0.2029 - acc: 0.92 - ETA: 24s - loss: 0.2022 - acc: 0.92 - ETA: 23s - loss: 0.2034 - acc: 0.92 - ETA: 23s - loss: 0.2021 - acc: 0.92 - ETA: 22s - loss: 0.2009 - acc: 0.92 - ETA: 21s - loss: 0.2007 - acc: 0.92 - ETA: 20s - loss: 0.2007 - acc: 0.92 - ETA: 19s - loss: 0.1995 - acc: 0.92 - ETA: 18s - loss: 0.2004 - acc: 0.92 - ETA: 18s - loss: 0.1997 - acc: 0.92 - ETA: 17s - loss: 0.1997 - acc: 0.92 - ETA: 16s - loss: 0.2009 - acc: 0.92 - ETA: 15s - loss: 0.2018 - acc: 0.92 - ETA: 15s - loss: 0.2015 - acc: 0.92 - ETA: 14s - loss: 0.2009 - acc: 0.92 - ETA: 13s - loss: 0.2007 - acc: 0.92 - ETA: 12s - loss: 0.2005 - acc: 0.92 - ETA: 11s - loss: 0.1996 - acc: 0.92 - ETA: 11s - loss: 0.2008 - acc: 0.92 - ETA: 10s - loss: 0.2011 - acc: 0.92 - ETA: 9s - loss: 0.2012 - acc: 0.9223 - ETA: 8s - loss: 0.2005 - acc: 0.922 - ETA: 7s - loss: 0.2011 - acc: 0.921 - ETA: 7s - loss: 0.2032 - acc: 0.920 - ETA: 6s - loss: 0.2040 - acc: 0.920 - ETA: 5s - loss: 0.2047 - acc: 0.920 - ETA: 4s - loss: 0.2047 - acc: 0.920 - ETA: 3s - loss: 0.2050 - acc: 0.920 - ETA: 3s - loss: 0.2046 - acc: 0.920 - ETA: 2s - loss: 0.2046 - acc: 0.920 - ETA: 1s - loss: 0.2043 - acc: 0.921 - ETA: 0s - loss: 0.2043 - acc: 0.920 - 84s 14ms/step - loss: 0.2042 - acc: 0.9210 - val_loss: 0.2931 - val_acc: 0.8774\n",
      "Epoch 3/10\n",
      "6000/6000 [==============================] - ETA: 1:09 - loss: 0.0979 - acc: 0.968 - ETA: 1:13 - loss: 0.1518 - acc: 0.945 - ETA: 1:13 - loss: 0.1438 - acc: 0.953 - ETA: 1:13 - loss: 0.1359 - acc: 0.949 - ETA: 1:11 - loss: 0.1234 - acc: 0.953 - ETA: 1:11 - loss: 0.1159 - acc: 0.958 - ETA: 1:10 - loss: 0.1130 - acc: 0.959 - ETA: 1:09 - loss: 0.1027 - acc: 0.964 - ETA: 1:08 - loss: 0.1137 - acc: 0.960 - ETA: 1:08 - loss: 0.1152 - acc: 0.960 - ETA: 1:07 - loss: 0.1140 - acc: 0.960 - ETA: 1:06 - loss: 0.1112 - acc: 0.962 - ETA: 1:05 - loss: 0.1098 - acc: 0.963 - ETA: 1:05 - loss: 0.1092 - acc: 0.963 - ETA: 1:04 - loss: 0.1093 - acc: 0.961 - ETA: 1:03 - loss: 0.1084 - acc: 0.960 - ETA: 1:03 - loss: 0.1147 - acc: 0.960 - ETA: 1:02 - loss: 0.1124 - acc: 0.961 - ETA: 1:01 - loss: 0.1095 - acc: 0.963 - ETA: 1:00 - loss: 0.1071 - acc: 0.964 - ETA: 59s - loss: 0.1090 - acc: 0.963 - ETA: 58s - loss: 0.1058 - acc: 0.96 - ETA: 57s - loss: 0.1039 - acc: 0.96 - ETA: 56s - loss: 0.1016 - acc: 0.96 - ETA: 56s - loss: 0.1038 - acc: 0.96 - ETA: 55s - loss: 0.1051 - acc: 0.96 - ETA: 54s - loss: 0.1032 - acc: 0.96 - ETA: 53s - loss: 0.1021 - acc: 0.96 - ETA: 52s - loss: 0.1020 - acc: 0.96 - ETA: 52s - loss: 0.1040 - acc: 0.96 - ETA: 51s - loss: 0.1036 - acc: 0.96 - ETA: 50s - loss: 0.1035 - acc: 0.96 - ETA: 49s - loss: 0.1014 - acc: 0.96 - ETA: 48s - loss: 0.1017 - acc: 0.96 - ETA: 48s - loss: 0.1004 - acc: 0.96 - ETA: 47s - loss: 0.1010 - acc: 0.96 - ETA: 46s - loss: 0.1059 - acc: 0.96 - ETA: 45s - loss: 0.1050 - acc: 0.96 - ETA: 44s - loss: 0.1050 - acc: 0.96 - ETA: 44s - loss: 0.1061 - acc: 0.96 - ETA: 43s - loss: 0.1082 - acc: 0.96 - ETA: 42s - loss: 0.1087 - acc: 0.96 - ETA: 41s - loss: 0.1078 - acc: 0.96 - ETA: 40s - loss: 0.1072 - acc: 0.96 - ETA: 39s - loss: 0.1104 - acc: 0.96 - ETA: 39s - loss: 0.1103 - acc: 0.96 - ETA: 38s - loss: 0.1089 - acc: 0.96 - ETA: 37s - loss: 0.1075 - acc: 0.96 - ETA: 36s - loss: 0.1069 - acc: 0.96 - ETA: 35s - loss: 0.1068 - acc: 0.96 - ETA: 34s - loss: 0.1064 - acc: 0.96 - ETA: 34s - loss: 0.1070 - acc: 0.96 - ETA: 33s - loss: 0.1082 - acc: 0.96 - ETA: 32s - loss: 0.1093 - acc: 0.96 - ETA: 31s - loss: 0.1100 - acc: 0.96 - ETA: 30s - loss: 0.1090 - acc: 0.96 - ETA: 30s - loss: 0.1087 - acc: 0.96 - ETA: 29s - loss: 0.1080 - acc: 0.96 - ETA: 28s - loss: 0.1074 - acc: 0.96 - ETA: 27s - loss: 0.1066 - acc: 0.96 - ETA: 26s - loss: 0.1057 - acc: 0.96 - ETA: 26s - loss: 0.1066 - acc: 0.96 - ETA: 25s - loss: 0.1072 - acc: 0.96 - ETA: 24s - loss: 0.1088 - acc: 0.96 - ETA: 23s - loss: 0.1089 - acc: 0.96 - ETA: 22s - loss: 0.1100 - acc: 0.96 - ETA: 21s - loss: 0.1090 - acc: 0.96 - ETA: 20s - loss: 0.1093 - acc: 0.96 - ETA: 20s - loss: 0.1085 - acc: 0.96 - ETA: 19s - loss: 0.1085 - acc: 0.96 - ETA: 18s - loss: 0.1088 - acc: 0.96 - ETA: 17s - loss: 0.1090 - acc: 0.96 - ETA: 16s - loss: 0.1094 - acc: 0.96 - ETA: 16s - loss: 0.1087 - acc: 0.96 - ETA: 15s - loss: 0.1095 - acc: 0.96 - ETA: 14s - loss: 0.1103 - acc: 0.96 - ETA: 13s - loss: 0.1098 - acc: 0.96 - ETA: 12s - loss: 0.1093 - acc: 0.96 - ETA: 11s - loss: 0.1094 - acc: 0.96 - ETA: 11s - loss: 0.1092 - acc: 0.96 - ETA: 10s - loss: 0.1080 - acc: 0.96 - ETA: 9s - loss: 0.1075 - acc: 0.9644 - ETA: 8s - loss: 0.1065 - acc: 0.964 - ETA: 7s - loss: 0.1069 - acc: 0.964 - ETA: 7s - loss: 0.1062 - acc: 0.964 - ETA: 6s - loss: 0.1055 - acc: 0.964 - ETA: 5s - loss: 0.1057 - acc: 0.965 - ETA: 4s - loss: 0.1060 - acc: 0.964 - ETA: 3s - loss: 0.1067 - acc: 0.964 - ETA: 3s - loss: 0.1066 - acc: 0.964 - ETA: 2s - loss: 0.1067 - acc: 0.964 - ETA: 1s - loss: 0.1081 - acc: 0.963 - ETA: 0s - loss: 0.1098 - acc: 0.962 - 85s 14ms/step - loss: 0.1101 - acc: 0.9623 - val_loss: 0.3894 - val_acc: 0.8527\n",
      "Epoch 4/10\n",
      "6000/6000 [==============================] - ETA: 1:13 - loss: 0.0695 - acc: 0.968 - ETA: 1:16 - loss: 0.0604 - acc: 0.976 - ETA: 1:14 - loss: 0.0586 - acc: 0.984 - ETA: 1:13 - loss: 0.0580 - acc: 0.984 - ETA: 1:13 - loss: 0.0537 - acc: 0.987 - ETA: 1:12 - loss: 0.0582 - acc: 0.987 - ETA: 1:12 - loss: 0.0707 - acc: 0.984 - ETA: 1:10 - loss: 0.0737 - acc: 0.982 - ETA: 1:10 - loss: 0.0806 - acc: 0.977 - ETA: 1:09 - loss: 0.0899 - acc: 0.973 - ETA: 1:08 - loss: 0.0898 - acc: 0.973 - ETA: 1:07 - loss: 0.0870 - acc: 0.974 - ETA: 1:06 - loss: 0.0891 - acc: 0.974 - ETA: 1:05 - loss: 0.0866 - acc: 0.975 - ETA: 1:04 - loss: 0.0867 - acc: 0.975 - ETA: 1:03 - loss: 0.0853 - acc: 0.975 - ETA: 1:03 - loss: 0.0836 - acc: 0.976 - ETA: 1:02 - loss: 0.0811 - acc: 0.977 - ETA: 1:01 - loss: 0.0780 - acc: 0.978 - ETA: 1:00 - loss: 0.0788 - acc: 0.977 - ETA: 59s - loss: 0.0801 - acc: 0.976 - ETA: 58s - loss: 0.0835 - acc: 0.97 - ETA: 58s - loss: 0.0821 - acc: 0.97 - ETA: 57s - loss: 0.0800 - acc: 0.97 - ETA: 56s - loss: 0.0775 - acc: 0.97 - ETA: 55s - loss: 0.0752 - acc: 0.97 - ETA: 54s - loss: 0.0733 - acc: 0.97 - ETA: 54s - loss: 0.0728 - acc: 0.97 - ETA: 53s - loss: 0.0782 - acc: 0.97 - ETA: 52s - loss: 0.0765 - acc: 0.97 - ETA: 51s - loss: 0.0763 - acc: 0.97 - ETA: 50s - loss: 0.0761 - acc: 0.97 - ETA: 49s - loss: 0.0779 - acc: 0.97 - ETA: 49s - loss: 0.0780 - acc: 0.97 - ETA: 48s - loss: 0.0766 - acc: 0.97 - ETA: 47s - loss: 0.0792 - acc: 0.97 - ETA: 46s - loss: 0.0803 - acc: 0.97 - ETA: 45s - loss: 0.0809 - acc: 0.97 - ETA: 45s - loss: 0.0804 - acc: 0.97 - ETA: 44s - loss: 0.0803 - acc: 0.97 - ETA: 43s - loss: 0.0803 - acc: 0.97 - ETA: 42s - loss: 0.0800 - acc: 0.97 - ETA: 41s - loss: 0.0789 - acc: 0.97 - ETA: 40s - loss: 0.0785 - acc: 0.97 - ETA: 39s - loss: 0.0772 - acc: 0.97 - ETA: 38s - loss: 0.0764 - acc: 0.97 - ETA: 38s - loss: 0.0755 - acc: 0.97 - ETA: 37s - loss: 0.0744 - acc: 0.97 - ETA: 36s - loss: 0.0743 - acc: 0.97 - ETA: 35s - loss: 0.0734 - acc: 0.97 - ETA: 34s - loss: 0.0744 - acc: 0.97 - ETA: 33s - loss: 0.0734 - acc: 0.97 - ETA: 33s - loss: 0.0741 - acc: 0.97 - ETA: 32s - loss: 0.0730 - acc: 0.97 - ETA: 31s - loss: 0.0735 - acc: 0.97 - ETA: 30s - loss: 0.0737 - acc: 0.97 - ETA: 29s - loss: 0.0735 - acc: 0.97 - ETA: 29s - loss: 0.0727 - acc: 0.97 - ETA: 28s - loss: 0.0725 - acc: 0.97 - ETA: 27s - loss: 0.0731 - acc: 0.97 - ETA: 26s - loss: 0.0733 - acc: 0.97 - ETA: 25s - loss: 0.0743 - acc: 0.97 - ETA: 25s - loss: 0.0736 - acc: 0.97 - ETA: 24s - loss: 0.0733 - acc: 0.97 - ETA: 23s - loss: 0.0731 - acc: 0.97 - ETA: 22s - loss: 0.0722 - acc: 0.97 - ETA: 21s - loss: 0.0726 - acc: 0.97 - ETA: 20s - loss: 0.0718 - acc: 0.97 - ETA: 20s - loss: 0.0723 - acc: 0.97 - ETA: 19s - loss: 0.0722 - acc: 0.97 - ETA: 18s - loss: 0.0717 - acc: 0.97 - ETA: 17s - loss: 0.0715 - acc: 0.97 - ETA: 16s - loss: 0.0712 - acc: 0.97 - ETA: 16s - loss: 0.0705 - acc: 0.97 - ETA: 15s - loss: 0.0708 - acc: 0.97 - ETA: 14s - loss: 0.0702 - acc: 0.97 - ETA: 13s - loss: 0.0700 - acc: 0.97 - ETA: 12s - loss: 0.0712 - acc: 0.97 - ETA: 12s - loss: 0.0711 - acc: 0.97 - ETA: 11s - loss: 0.0712 - acc: 0.97 - ETA: 10s - loss: 0.0711 - acc: 0.97 - ETA: 9s - loss: 0.0714 - acc: 0.9777 - ETA: 8s - loss: 0.0712 - acc: 0.977 - ETA: 7s - loss: 0.0713 - acc: 0.977 - ETA: 7s - loss: 0.0711 - acc: 0.977 - ETA: 6s - loss: 0.0719 - acc: 0.977 - ETA: 5s - loss: 0.0714 - acc: 0.977 - ETA: 4s - loss: 0.0717 - acc: 0.977 - ETA: 3s - loss: 0.0716 - acc: 0.977 - ETA: 3s - loss: 0.0712 - acc: 0.977 - ETA: 2s - loss: 0.0706 - acc: 0.978 - ETA: 1s - loss: 0.0701 - acc: 0.978 - ETA: 0s - loss: 0.0701 - acc: 0.978 - 85s 14ms/step - loss: 0.0698 - acc: 0.9785 - val_loss: 0.4476 - val_acc: 0.8737\n",
      "Epoch 5/10\n"
     ]
    },
    {
     "name": "stdout",
     "output_type": "stream",
     "text": [
      "6000/6000 [==============================] - ETA: 1:16 - loss: 0.0861 - acc: 0.968 - ETA: 1:16 - loss: 0.0529 - acc: 0.984 - ETA: 1:14 - loss: 0.0402 - acc: 0.989 - ETA: 1:13 - loss: 0.0407 - acc: 0.988 - ETA: 1:13 - loss: 0.0383 - acc: 0.990 - ETA: 1:12 - loss: 0.0344 - acc: 0.992 - ETA: 1:11 - loss: 0.0311 - acc: 0.993 - ETA: 1:10 - loss: 0.0300 - acc: 0.994 - ETA: 1:09 - loss: 0.0311 - acc: 0.991 - ETA: 1:07 - loss: 0.0396 - acc: 0.985 - ETA: 1:06 - loss: 0.0370 - acc: 0.987 - ETA: 1:05 - loss: 0.0368 - acc: 0.987 - ETA: 1:04 - loss: 0.0353 - acc: 0.988 - ETA: 1:03 - loss: 0.0358 - acc: 0.987 - ETA: 1:02 - loss: 0.0385 - acc: 0.986 - ETA: 1:01 - loss: 0.0373 - acc: 0.987 - ETA: 1:00 - loss: 0.0370 - acc: 0.987 - ETA: 59s - loss: 0.0412 - acc: 0.987 - ETA: 59s - loss: 0.0398 - acc: 0.98 - ETA: 58s - loss: 0.0408 - acc: 0.98 - ETA: 57s - loss: 0.0395 - acc: 0.98 - ETA: 57s - loss: 0.0385 - acc: 0.98 - ETA: 56s - loss: 0.0401 - acc: 0.98 - ETA: 55s - loss: 0.0401 - acc: 0.98 - ETA: 54s - loss: 0.0461 - acc: 0.98 - ETA: 54s - loss: 0.0456 - acc: 0.98 - ETA: 53s - loss: 0.0447 - acc: 0.98 - ETA: 52s - loss: 0.0435 - acc: 0.98 - ETA: 52s - loss: 0.0427 - acc: 0.98 - ETA: 51s - loss: 0.0446 - acc: 0.98 - ETA: 50s - loss: 0.0453 - acc: 0.98 - ETA: 49s - loss: 0.0443 - acc: 0.98 - ETA: 49s - loss: 0.0446 - acc: 0.98 - ETA: 48s - loss: 0.0443 - acc: 0.98 - ETA: 47s - loss: 0.0434 - acc: 0.98 - ETA: 46s - loss: 0.0438 - acc: 0.98 - ETA: 45s - loss: 0.0443 - acc: 0.98 - ETA: 44s - loss: 0.0437 - acc: 0.98 - ETA: 43s - loss: 0.0440 - acc: 0.98 - ETA: 43s - loss: 0.0436 - acc: 0.98 - ETA: 42s - loss: 0.0428 - acc: 0.98 - ETA: 41s - loss: 0.0421 - acc: 0.98 - ETA: 40s - loss: 0.0418 - acc: 0.98 - ETA: 39s - loss: 0.0411 - acc: 0.98 - ETA: 39s - loss: 0.0427 - acc: 0.98 - ETA: 38s - loss: 0.0432 - acc: 0.98 - ETA: 37s - loss: 0.0443 - acc: 0.98 - ETA: 36s - loss: 0.0459 - acc: 0.98 - ETA: 35s - loss: 0.0461 - acc: 0.98 - ETA: 35s - loss: 0.0467 - acc: 0.98 - ETA: 34s - loss: 0.0466 - acc: 0.98 - ETA: 33s - loss: 0.0469 - acc: 0.98 - ETA: 32s - loss: 0.0471 - acc: 0.98 - ETA: 32s - loss: 0.0466 - acc: 0.98 - ETA: 31s - loss: 0.0463 - acc: 0.98 - ETA: 30s - loss: 0.0473 - acc: 0.98 - ETA: 29s - loss: 0.0468 - acc: 0.98 - ETA: 28s - loss: 0.0472 - acc: 0.98 - ETA: 28s - loss: 0.0475 - acc: 0.98 - ETA: 27s - loss: 0.0471 - acc: 0.98 - ETA: 26s - loss: 0.0478 - acc: 0.98 - ETA: 25s - loss: 0.0473 - acc: 0.98 - ETA: 24s - loss: 0.0486 - acc: 0.98 - ETA: 23s - loss: 0.0482 - acc: 0.98 - ETA: 23s - loss: 0.0477 - acc: 0.98 - ETA: 22s - loss: 0.0474 - acc: 0.98 - ETA: 21s - loss: 0.0468 - acc: 0.98 - ETA: 20s - loss: 0.0471 - acc: 0.98 - ETA: 19s - loss: 0.0491 - acc: 0.98 - ETA: 18s - loss: 0.0487 - acc: 0.98 - ETA: 18s - loss: 0.0485 - acc: 0.98 - ETA: 17s - loss: 0.0481 - acc: 0.98 - ETA: 16s - loss: 0.0486 - acc: 0.98 - ETA: 15s - loss: 0.0485 - acc: 0.98 - ETA: 14s - loss: 0.0484 - acc: 0.98 - ETA: 14s - loss: 0.0481 - acc: 0.98 - ETA: 13s - loss: 0.0485 - acc: 0.98 - ETA: 12s - loss: 0.0483 - acc: 0.98 - ETA: 11s - loss: 0.0478 - acc: 0.98 - ETA: 10s - loss: 0.0473 - acc: 0.98 - ETA: 10s - loss: 0.0474 - acc: 0.98 - ETA: 9s - loss: 0.0474 - acc: 0.9869 - ETA: 8s - loss: 0.0472 - acc: 0.986 - ETA: 7s - loss: 0.0470 - acc: 0.987 - ETA: 6s - loss: 0.0482 - acc: 0.986 - ETA: 6s - loss: 0.0489 - acc: 0.986 - ETA: 5s - loss: 0.0484 - acc: 0.986 - ETA: 4s - loss: 0.0481 - acc: 0.986 - ETA: 3s - loss: 0.0477 - acc: 0.987 - ETA: 2s - loss: 0.0472 - acc: 0.987 - ETA: 2s - loss: 0.0468 - acc: 0.987 - ETA: 1s - loss: 0.0468 - acc: 0.987 - ETA: 0s - loss: 0.0468 - acc: 0.987 - 83s 14ms/step - loss: 0.0465 - acc: 0.9872 - val_loss: 0.5328 - val_acc: 0.8740\n",
      "Epoch 6/10\n",
      "6000/6000 [==============================] - ETA: 1:10 - loss: 0.0156 - acc: 1.000 - ETA: 1:12 - loss: 0.0119 - acc: 1.000 - ETA: 1:13 - loss: 0.0108 - acc: 1.000 - ETA: 1:13 - loss: 0.0096 - acc: 1.000 - ETA: 1:12 - loss: 0.0093 - acc: 1.000 - ETA: 1:11 - loss: 0.0086 - acc: 1.000 - ETA: 1:11 - loss: 0.0081 - acc: 1.000 - ETA: 1:10 - loss: 0.0091 - acc: 1.000 - ETA: 1:09 - loss: 0.0093 - acc: 1.000 - ETA: 1:08 - loss: 0.0110 - acc: 0.998 - ETA: 1:08 - loss: 0.0105 - acc: 0.998 - ETA: 1:07 - loss: 0.0130 - acc: 0.997 - ETA: 1:06 - loss: 0.0124 - acc: 0.997 - ETA: 1:05 - loss: 0.0119 - acc: 0.997 - ETA: 1:05 - loss: 0.0113 - acc: 0.997 - ETA: 1:04 - loss: 0.0114 - acc: 0.998 - ETA: 1:03 - loss: 0.0132 - acc: 0.996 - ETA: 1:02 - loss: 0.0132 - acc: 0.996 - ETA: 1:00 - loss: 0.0127 - acc: 0.996 - ETA: 59s - loss: 0.0172 - acc: 0.996 - ETA: 59s - loss: 0.0167 - acc: 0.99 - ETA: 58s - loss: 0.0170 - acc: 0.99 - ETA: 57s - loss: 0.0165 - acc: 0.99 - ETA: 56s - loss: 0.0161 - acc: 0.99 - ETA: 56s - loss: 0.0158 - acc: 0.99 - ETA: 55s - loss: 0.0154 - acc: 0.99 - ETA: 54s - loss: 0.0151 - acc: 0.99 - ETA: 53s - loss: 0.0150 - acc: 0.99 - ETA: 52s - loss: 0.0148 - acc: 0.99 - ETA: 52s - loss: 0.0145 - acc: 0.99 - ETA: 51s - loss: 0.0152 - acc: 0.99 - ETA: 50s - loss: 0.0150 - acc: 0.99 - ETA: 49s - loss: 0.0146 - acc: 0.99 - ETA: 48s - loss: 0.0167 - acc: 0.99 - ETA: 48s - loss: 0.0163 - acc: 0.99 - ETA: 47s - loss: 0.0160 - acc: 0.99 - ETA: 46s - loss: 0.0157 - acc: 0.99 - ETA: 45s - loss: 0.0154 - acc: 0.99 - ETA: 44s - loss: 0.0171 - acc: 0.99 - ETA: 43s - loss: 0.0180 - acc: 0.99 - ETA: 42s - loss: 0.0177 - acc: 0.99 - ETA: 42s - loss: 0.0173 - acc: 0.99 - ETA: 41s - loss: 0.0173 - acc: 0.99 - ETA: 40s - loss: 0.0172 - acc: 0.99 - ETA: 39s - loss: 0.0169 - acc: 0.99 - ETA: 38s - loss: 0.0186 - acc: 0.99 - ETA: 37s - loss: 0.0184 - acc: 0.99 - ETA: 37s - loss: 0.0184 - acc: 0.99 - ETA: 36s - loss: 0.0186 - acc: 0.99 - ETA: 35s - loss: 0.0191 - acc: 0.99 - ETA: 34s - loss: 0.0193 - acc: 0.99 - ETA: 33s - loss: 0.0191 - acc: 0.99 - ETA: 33s - loss: 0.0189 - acc: 0.99 - ETA: 32s - loss: 0.0187 - acc: 0.99 - ETA: 31s - loss: 0.0185 - acc: 0.99 - ETA: 30s - loss: 0.0201 - acc: 0.99 - ETA: 29s - loss: 0.0205 - acc: 0.99 - ETA: 29s - loss: 0.0203 - acc: 0.99 - ETA: 28s - loss: 0.0226 - acc: 0.99 - ETA: 27s - loss: 0.0223 - acc: 0.99 - ETA: 26s - loss: 0.0220 - acc: 0.99 - ETA: 25s - loss: 0.0220 - acc: 0.99 - ETA: 25s - loss: 0.0218 - acc: 0.99 - ETA: 24s - loss: 0.0215 - acc: 0.99 - ETA: 23s - loss: 0.0213 - acc: 0.99 - ETA: 22s - loss: 0.0211 - acc: 0.99 - ETA: 21s - loss: 0.0209 - acc: 0.99 - ETA: 21s - loss: 0.0207 - acc: 0.99 - ETA: 20s - loss: 0.0206 - acc: 0.99 - ETA: 19s - loss: 0.0218 - acc: 0.99 - ETA: 18s - loss: 0.0216 - acc: 0.99 - ETA: 17s - loss: 0.0235 - acc: 0.99 - ETA: 16s - loss: 0.0237 - acc: 0.99 - ETA: 16s - loss: 0.0234 - acc: 0.99 - ETA: 15s - loss: 0.0232 - acc: 0.99 - ETA: 14s - loss: 0.0230 - acc: 0.99 - ETA: 13s - loss: 0.0241 - acc: 0.99 - ETA: 12s - loss: 0.0239 - acc: 0.99 - ETA: 11s - loss: 0.0237 - acc: 0.99 - ETA: 11s - loss: 0.0247 - acc: 0.99 - ETA: 10s - loss: 0.0244 - acc: 0.99 - ETA: 9s - loss: 0.0242 - acc: 0.9949 - ETA: 8s - loss: 0.0241 - acc: 0.994 - ETA: 7s - loss: 0.0238 - acc: 0.995 - ETA: 7s - loss: 0.0236 - acc: 0.995 - ETA: 6s - loss: 0.0242 - acc: 0.994 - ETA: 5s - loss: 0.0240 - acc: 0.994 - ETA: 4s - loss: 0.0241 - acc: 0.994 - ETA: 3s - loss: 0.0241 - acc: 0.994 - ETA: 3s - loss: 0.0250 - acc: 0.994 - ETA: 2s - loss: 0.0251 - acc: 0.994 - ETA: 1s - loss: 0.0249 - acc: 0.994 - ETA: 0s - loss: 0.0248 - acc: 0.994 - 85s 14ms/step - loss: 0.0248 - acc: 0.9945 - val_loss: 0.5637 - val_acc: 0.8681\n",
      "Epoch 7/10\n",
      "6000/6000 [==============================] - ETA: 1:17 - loss: 0.0029 - acc: 1.000 - ETA: 1:16 - loss: 0.0031 - acc: 1.000 - ETA: 1:14 - loss: 0.0033 - acc: 1.000 - ETA: 1:14 - loss: 0.0155 - acc: 0.996 - ETA: 1:13 - loss: 0.0269 - acc: 0.993 - ETA: 1:11 - loss: 0.0236 - acc: 0.994 - ETA: 1:09 - loss: 0.0214 - acc: 0.995 - ETA: 1:09 - loss: 0.0196 - acc: 0.996 - ETA: 1:08 - loss: 0.0188 - acc: 0.996 - ETA: 1:07 - loss: 0.0196 - acc: 0.995 - ETA: 1:07 - loss: 0.0182 - acc: 0.995 - ETA: 1:06 - loss: 0.0262 - acc: 0.994 - ETA: 1:05 - loss: 0.0246 - acc: 0.995 - ETA: 1:04 - loss: 0.0234 - acc: 0.995 - ETA: 1:04 - loss: 0.0224 - acc: 0.995 - ETA: 1:03 - loss: 0.0212 - acc: 0.996 - ETA: 1:02 - loss: 0.0216 - acc: 0.995 - ETA: 1:01 - loss: 0.0213 - acc: 0.995 - ETA: 1:01 - loss: 0.0204 - acc: 0.995 - ETA: 1:00 - loss: 0.0197 - acc: 0.996 - ETA: 59s - loss: 0.0189 - acc: 0.996 - ETA: 58s - loss: 0.0188 - acc: 0.99 - ETA: 58s - loss: 0.0181 - acc: 0.99 - ETA: 57s - loss: 0.0175 - acc: 0.99 - ETA: 56s - loss: 0.0169 - acc: 0.99 - ETA: 55s - loss: 0.0193 - acc: 0.99 - ETA: 54s - loss: 0.0187 - acc: 0.99 - ETA: 53s - loss: 0.0182 - acc: 0.99 - ETA: 52s - loss: 0.0177 - acc: 0.99 - ETA: 51s - loss: 0.0172 - acc: 0.99 - ETA: 50s - loss: 0.0168 - acc: 0.99 - ETA: 49s - loss: 0.0167 - acc: 0.99 - ETA: 49s - loss: 0.0163 - acc: 0.99 - ETA: 48s - loss: 0.0161 - acc: 0.99 - ETA: 47s - loss: 0.0172 - acc: 0.99 - ETA: 46s - loss: 0.0168 - acc: 0.99 - ETA: 45s - loss: 0.0164 - acc: 0.99 - ETA: 45s - loss: 0.0161 - acc: 0.99 - ETA: 44s - loss: 0.0158 - acc: 0.99 - ETA: 43s - loss: 0.0156 - acc: 0.99 - ETA: 42s - loss: 0.0172 - acc: 0.99 - ETA: 41s - loss: 0.0169 - acc: 0.99 - ETA: 41s - loss: 0.0200 - acc: 0.99 - ETA: 40s - loss: 0.0196 - acc: 0.99 - ETA: 39s - loss: 0.0193 - acc: 0.99 - ETA: 38s - loss: 0.0222 - acc: 0.99 - ETA: 38s - loss: 0.0218 - acc: 0.99 - ETA: 37s - loss: 0.0222 - acc: 0.99 - ETA: 36s - loss: 0.0218 - acc: 0.99 - ETA: 35s - loss: 0.0215 - acc: 0.99 - ETA: 34s - loss: 0.0211 - acc: 0.99 - ETA: 33s - loss: 0.0210 - acc: 0.99 - ETA: 33s - loss: 0.0207 - acc: 0.99 - ETA: 32s - loss: 0.0211 - acc: 0.99 - ETA: 31s - loss: 0.0207 - acc: 0.99 - ETA: 30s - loss: 0.0208 - acc: 0.99 - ETA: 29s - loss: 0.0206 - acc: 0.99 - ETA: 28s - loss: 0.0203 - acc: 0.99 - ETA: 28s - loss: 0.0201 - acc: 0.99 - ETA: 27s - loss: 0.0198 - acc: 0.99 - ETA: 26s - loss: 0.0200 - acc: 0.99 - ETA: 25s - loss: 0.0197 - acc: 0.99 - ETA: 24s - loss: 0.0195 - acc: 0.99 - ETA: 24s - loss: 0.0195 - acc: 0.99 - ETA: 23s - loss: 0.0193 - acc: 0.99 - ETA: 22s - loss: 0.0191 - acc: 0.99 - ETA: 21s - loss: 0.0189 - acc: 0.99 - ETA: 20s - loss: 0.0188 - acc: 0.99 - ETA: 20s - loss: 0.0185 - acc: 0.99 - ETA: 19s - loss: 0.0183 - acc: 0.99 - ETA: 18s - loss: 0.0188 - acc: 0.99 - ETA: 17s - loss: 0.0188 - acc: 0.99 - ETA: 16s - loss: 0.0188 - acc: 0.99 - ETA: 16s - loss: 0.0186 - acc: 0.99 - ETA: 15s - loss: 0.0185 - acc: 0.99 - ETA: 14s - loss: 0.0197 - acc: 0.99 - ETA: 13s - loss: 0.0199 - acc: 0.99 - ETA: 12s - loss: 0.0207 - acc: 0.99 - ETA: 11s - loss: 0.0204 - acc: 0.99 - ETA: 11s - loss: 0.0203 - acc: 0.99 - ETA: 10s - loss: 0.0212 - acc: 0.99 - ETA: 9s - loss: 0.0210 - acc: 0.9950 - ETA: 8s - loss: 0.0222 - acc: 0.994 - ETA: 7s - loss: 0.0221 - acc: 0.994 - ETA: 7s - loss: 0.0218 - acc: 0.994 - ETA: 6s - loss: 0.0217 - acc: 0.994 - ETA: 5s - loss: 0.0215 - acc: 0.995 - ETA: 4s - loss: 0.0213 - acc: 0.995 - ETA: 3s - loss: 0.0213 - acc: 0.994 - ETA: 3s - loss: 0.0212 - acc: 0.995 - ETA: 2s - loss: 0.0211 - acc: 0.995 - ETA: 1s - loss: 0.0209 - acc: 0.995 - ETA: 0s - loss: 0.0215 - acc: 0.995 - 84s 14ms/step - loss: 0.0213 - acc: 0.9950 - val_loss: 0.6470 - val_acc: 0.8538\n",
      "Epoch 8/10\n",
      "6000/6000 [==============================] - ETA: 1:13 - loss: 0.0082 - acc: 1.000 - ETA: 1:14 - loss: 0.0070 - acc: 1.000 - ETA: 1:15 - loss: 0.0085 - acc: 1.000 - ETA: 1:13 - loss: 0.0070 - acc: 1.000 - ETA: 1:11 - loss: 0.0090 - acc: 0.996 - ETA: 1:10 - loss: 0.0109 - acc: 0.994 - ETA: 1:08 - loss: 0.0099 - acc: 0.995 - ETA: 1:06 - loss: 0.0089 - acc: 0.996 - ETA: 1:06 - loss: 0.0093 - acc: 0.996 - ETA: 1:05 - loss: 0.0094 - acc: 0.996 - ETA: 1:03 - loss: 0.0097 - acc: 0.997 - ETA: 1:03 - loss: 0.0213 - acc: 0.994 - ETA: 1:01 - loss: 0.0199 - acc: 0.995 - ETA: 1:01 - loss: 0.0188 - acc: 0.995 - ETA: 1:00 - loss: 0.0218 - acc: 0.994 - ETA: 59s - loss: 0.0209 - acc: 0.995 - ETA: 58s - loss: 0.0198 - acc: 0.99 - ETA: 58s - loss: 0.0192 - acc: 0.99 - ETA: 57s - loss: 0.0186 - acc: 0.99 - ETA: 56s - loss: 0.0179 - acc: 0.99 - ETA: 56s - loss: 0.0204 - acc: 0.99 - ETA: 55s - loss: 0.0237 - acc: 0.99 - ETA: 55s - loss: 0.0230 - acc: 0.99 - ETA: 54s - loss: 0.0225 - acc: 0.99 - ETA: 53s - loss: 0.0218 - acc: 0.99 - ETA: 53s - loss: 0.0214 - acc: 0.99 - ETA: 52s - loss: 0.0209 - acc: 0.99 - ETA: 51s - loss: 0.0215 - acc: 0.99 - ETA: 51s - loss: 0.0221 - acc: 0.99 - ETA: 50s - loss: 0.0215 - acc: 0.99 - ETA: 49s - loss: 0.0226 - acc: 0.99 - ETA: 48s - loss: 0.0221 - acc: 0.99 - ETA: 48s - loss: 0.0237 - acc: 0.99 - ETA: 47s - loss: 0.0232 - acc: 0.99 - ETA: 46s - loss: 0.0227 - acc: 0.99 - ETA: 45s - loss: 0.0223 - acc: 0.99 - ETA: 44s - loss: 0.0220 - acc: 0.99 - ETA: 43s - loss: 0.0217 - acc: 0.99 - ETA: 43s - loss: 0.0212 - acc: 0.99 - ETA: 42s - loss: 0.0250 - acc: 0.99 - ETA: 41s - loss: 0.0245 - acc: 0.99 - ETA: 40s - loss: 0.0252 - acc: 0.99 - ETA: 39s - loss: 0.0248 - acc: 0.99 - ETA: 38s - loss: 0.0247 - acc: 0.99 - ETA: 38s - loss: 0.0244 - acc: 0.99 - ETA: 37s - loss: 0.0249 - acc: 0.99 - ETA: 36s - loss: 0.0247 - acc: 0.99 - ETA: 35s - loss: 0.0243 - acc: 0.99 - ETA: 34s - loss: 0.0239 - acc: 0.99 - ETA: 33s - loss: 0.0237 - acc: 0.99 - ETA: 33s - loss: 0.0235 - acc: 0.99 - ETA: 32s - loss: 0.0237 - acc: 0.99 - ETA: 31s - loss: 0.0235 - acc: 0.99 - ETA: 30s - loss: 0.0231 - acc: 0.99 - ETA: 30s - loss: 0.0233 - acc: 0.99 - ETA: 29s - loss: 0.0232 - acc: 0.99 - ETA: 28s - loss: 0.0229 - acc: 0.99 - ETA: 27s - loss: 0.0233 - acc: 0.99 - ETA: 26s - loss: 0.0232 - acc: 0.99 - ETA: 26s - loss: 0.0229 - acc: 0.99 - ETA: 25s - loss: 0.0227 - acc: 0.99 - ETA: 24s - loss: 0.0224 - acc: 0.99 - ETA: 23s - loss: 0.0223 - acc: 0.99 - ETA: 22s - loss: 0.0220 - acc: 0.99 - ETA: 22s - loss: 0.0221 - acc: 0.99 - ETA: 21s - loss: 0.0218 - acc: 0.99 - ETA: 20s - loss: 0.0216 - acc: 0.99 - ETA: 19s - loss: 0.0214 - acc: 0.99 - ETA: 19s - loss: 0.0223 - acc: 0.99 - ETA: 18s - loss: 0.0221 - acc: 0.99 - ETA: 17s - loss: 0.0218 - acc: 0.99 - ETA: 16s - loss: 0.0215 - acc: 0.99 - ETA: 15s - loss: 0.0213 - acc: 0.99 - ETA: 15s - loss: 0.0210 - acc: 0.99 - ETA: 14s - loss: 0.0208 - acc: 0.99 - ETA: 13s - loss: 0.0207 - acc: 0.99 - ETA: 12s - loss: 0.0217 - acc: 0.99 - ETA: 12s - loss: 0.0214 - acc: 0.99 - ETA: 11s - loss: 0.0212 - acc: 0.99 - ETA: 10s - loss: 0.0214 - acc: 0.99 - ETA: 9s - loss: 0.0226 - acc: 0.9934 - ETA: 9s - loss: 0.0229 - acc: 0.993 - ETA: 8s - loss: 0.0226 - acc: 0.993 - ETA: 7s - loss: 0.0229 - acc: 0.993 - ETA: 6s - loss: 0.0228 - acc: 0.993 - ETA: 5s - loss: 0.0229 - acc: 0.993 - ETA: 5s - loss: 0.0227 - acc: 0.993 - ETA: 4s - loss: 0.0224 - acc: 0.993 - ETA: 3s - loss: 0.0223 - acc: 0.993 - ETA: 2s - loss: 0.0223 - acc: 0.993 - ETA: 2s - loss: 0.0228 - acc: 0.993 - ETA: 1s - loss: 0.0230 - acc: 0.992 - ETA: 0s - loss: 0.0228 - acc: 0.992 - 79s 13ms/step - loss: 0.0228 - acc: 0.9930 - val_loss: 0.6127 - val_acc: 0.8642\n",
      "Epoch 9/10\n"
     ]
    },
    {
     "name": "stdout",
     "output_type": "stream",
     "text": [
      "6000/6000 [==============================] - ETA: 1:01 - loss: 0.0040 - acc: 1.000 - ETA: 1:06 - loss: 0.0102 - acc: 0.992 - ETA: 1:07 - loss: 0.0078 - acc: 0.994 - ETA: 1:06 - loss: 0.0362 - acc: 0.992 - ETA: 1:05 - loss: 0.0296 - acc: 0.993 - ETA: 1:05 - loss: 0.0254 - acc: 0.994 - ETA: 1:04 - loss: 0.0222 - acc: 0.995 - ETA: 1:03 - loss: 0.0201 - acc: 0.996 - ETA: 1:03 - loss: 0.0181 - acc: 0.996 - ETA: 1:02 - loss: 0.0166 - acc: 0.996 - ETA: 1:01 - loss: 0.0164 - acc: 0.997 - ETA: 1:01 - loss: 0.0152 - acc: 0.997 - ETA: 1:00 - loss: 0.0163 - acc: 0.996 - ETA: 59s - loss: 0.0154 - acc: 0.996 - ETA: 58s - loss: 0.0145 - acc: 0.99 - ETA: 57s - loss: 0.0138 - acc: 0.99 - ETA: 57s - loss: 0.0171 - acc: 0.99 - ETA: 56s - loss: 0.0185 - acc: 0.99 - ETA: 55s - loss: 0.0184 - acc: 0.99 - ETA: 55s - loss: 0.0224 - acc: 0.99 - ETA: 54s - loss: 0.0215 - acc: 0.99 - ETA: 53s - loss: 0.0207 - acc: 0.99 - ETA: 52s - loss: 0.0207 - acc: 0.99 - ETA: 52s - loss: 0.0201 - acc: 0.99 - ETA: 51s - loss: 0.0203 - acc: 0.99 - ETA: 50s - loss: 0.0196 - acc: 0.99 - ETA: 49s - loss: 0.0211 - acc: 0.99 - ETA: 48s - loss: 0.0206 - acc: 0.99 - ETA: 48s - loss: 0.0201 - acc: 0.99 - ETA: 47s - loss: 0.0201 - acc: 0.99 - ETA: 46s - loss: 0.0196 - acc: 0.99 - ETA: 45s - loss: 0.0190 - acc: 0.99 - ETA: 45s - loss: 0.0194 - acc: 0.99 - ETA: 44s - loss: 0.0192 - acc: 0.99 - ETA: 44s - loss: 0.0188 - acc: 0.99 - ETA: 44s - loss: 0.0185 - acc: 0.99 - ETA: 43s - loss: 0.0180 - acc: 0.99 - ETA: 43s - loss: 0.0177 - acc: 0.99 - ETA: 42s - loss: 0.0172 - acc: 0.99 - ETA: 42s - loss: 0.0172 - acc: 0.99 - ETA: 41s - loss: 0.0169 - acc: 0.99 - ETA: 40s - loss: 0.0169 - acc: 0.99 - ETA: 40s - loss: 0.0169 - acc: 0.99 - ETA: 39s - loss: 0.0165 - acc: 0.99 - ETA: 38s - loss: 0.0163 - acc: 0.99 - ETA: 38s - loss: 0.0163 - acc: 0.99 - ETA: 37s - loss: 0.0181 - acc: 0.99 - ETA: 36s - loss: 0.0179 - acc: 0.99 - ETA: 35s - loss: 0.0177 - acc: 0.99 - ETA: 34s - loss: 0.0185 - acc: 0.99 - ETA: 33s - loss: 0.0187 - acc: 0.99 - ETA: 33s - loss: 0.0186 - acc: 0.99 - ETA: 32s - loss: 0.0183 - acc: 0.99 - ETA: 31s - loss: 0.0180 - acc: 0.99 - ETA: 30s - loss: 0.0185 - acc: 0.99 - ETA: 29s - loss: 0.0182 - acc: 0.99 - ETA: 28s - loss: 0.0181 - acc: 0.99 - ETA: 28s - loss: 0.0200 - acc: 0.99 - ETA: 27s - loss: 0.0201 - acc: 0.99 - ETA: 26s - loss: 0.0199 - acc: 0.99 - ETA: 25s - loss: 0.0202 - acc: 0.99 - ETA: 24s - loss: 0.0199 - acc: 0.99 - ETA: 24s - loss: 0.0196 - acc: 0.99 - ETA: 23s - loss: 0.0194 - acc: 0.99 - ETA: 22s - loss: 0.0191 - acc: 0.99 - ETA: 21s - loss: 0.0189 - acc: 0.99 - ETA: 20s - loss: 0.0188 - acc: 0.99 - ETA: 20s - loss: 0.0185 - acc: 0.99 - ETA: 19s - loss: 0.0184 - acc: 0.99 - ETA: 18s - loss: 0.0182 - acc: 0.99 - ETA: 17s - loss: 0.0189 - acc: 0.99 - ETA: 17s - loss: 0.0187 - acc: 0.99 - ETA: 16s - loss: 0.0185 - acc: 0.99 - ETA: 15s - loss: 0.0188 - acc: 0.99 - ETA: 14s - loss: 0.0193 - acc: 0.99 - ETA: 13s - loss: 0.0194 - acc: 0.99 - ETA: 13s - loss: 0.0202 - acc: 0.99 - ETA: 12s - loss: 0.0202 - acc: 0.99 - ETA: 11s - loss: 0.0201 - acc: 0.99 - ETA: 10s - loss: 0.0200 - acc: 0.99 - ETA: 9s - loss: 0.0198 - acc: 0.9946 - ETA: 9s - loss: 0.0196 - acc: 0.994 - ETA: 8s - loss: 0.0195 - acc: 0.994 - ETA: 7s - loss: 0.0194 - acc: 0.994 - ETA: 6s - loss: 0.0200 - acc: 0.994 - ETA: 6s - loss: 0.0203 - acc: 0.994 - ETA: 5s - loss: 0.0201 - acc: 0.994 - ETA: 4s - loss: 0.0200 - acc: 0.994 - ETA: 3s - loss: 0.0199 - acc: 0.994 - ETA: 2s - loss: 0.0207 - acc: 0.994 - ETA: 2s - loss: 0.0208 - acc: 0.994 - ETA: 1s - loss: 0.0206 - acc: 0.994 - ETA: 0s - loss: 0.0205 - acc: 0.994 - 80s 13ms/step - loss: 0.0205 - acc: 0.9942 - val_loss: 0.6785 - val_acc: 0.8636\n",
      "Epoch 10/10\n",
      "6000/6000 [==============================] - ETA: 1:10 - loss: 0.0027 - acc: 1.000 - ETA: 1:09 - loss: 0.0030 - acc: 1.000 - ETA: 1:07 - loss: 0.0025 - acc: 1.000 - ETA: 1:07 - loss: 0.0023 - acc: 1.000 - ETA: 1:07 - loss: 0.0023 - acc: 1.000 - ETA: 1:05 - loss: 0.0026 - acc: 1.000 - ETA: 1:05 - loss: 0.0024 - acc: 1.000 - ETA: 1:04 - loss: 0.0023 - acc: 1.000 - ETA: 1:03 - loss: 0.0037 - acc: 0.998 - ETA: 1:03 - loss: 0.0034 - acc: 0.998 - ETA: 1:02 - loss: 0.0036 - acc: 0.998 - ETA: 1:01 - loss: 0.0055 - acc: 0.997 - ETA: 1:00 - loss: 0.0052 - acc: 0.997 - ETA: 59s - loss: 0.0091 - acc: 0.996 - ETA: 59s - loss: 0.0087 - acc: 0.99 - ETA: 58s - loss: 0.0086 - acc: 0.99 - ETA: 57s - loss: 0.0083 - acc: 0.99 - ETA: 56s - loss: 0.0081 - acc: 0.99 - ETA: 56s - loss: 0.0079 - acc: 0.99 - ETA: 55s - loss: 0.0078 - acc: 0.99 - ETA: 54s - loss: 0.0077 - acc: 0.99 - ETA: 53s - loss: 0.0078 - acc: 0.99 - ETA: 53s - loss: 0.0080 - acc: 0.99 - ETA: 52s - loss: 0.0080 - acc: 0.99 - ETA: 51s - loss: 0.0095 - acc: 0.99 - ETA: 50s - loss: 0.0097 - acc: 0.99 - ETA: 50s - loss: 0.0094 - acc: 0.99 - ETA: 49s - loss: 0.0093 - acc: 0.99 - ETA: 48s - loss: 0.0090 - acc: 0.99 - ETA: 47s - loss: 0.0087 - acc: 0.99 - ETA: 47s - loss: 0.0086 - acc: 0.99 - ETA: 46s - loss: 0.0084 - acc: 0.99 - ETA: 45s - loss: 0.0083 - acc: 0.99 - ETA: 44s - loss: 0.0081 - acc: 0.99 - ETA: 43s - loss: 0.0124 - acc: 0.99 - ETA: 43s - loss: 0.0121 - acc: 0.99 - ETA: 42s - loss: 0.0118 - acc: 0.99 - ETA: 41s - loss: 0.0116 - acc: 0.99 - ETA: 40s - loss: 0.0137 - acc: 0.99 - ETA: 40s - loss: 0.0136 - acc: 0.99 - ETA: 39s - loss: 0.0139 - acc: 0.99 - ETA: 38s - loss: 0.0147 - acc: 0.99 - ETA: 38s - loss: 0.0147 - acc: 0.99 - ETA: 37s - loss: 0.0146 - acc: 0.99 - ETA: 36s - loss: 0.0148 - acc: 0.99 - ETA: 35s - loss: 0.0151 - acc: 0.99 - ETA: 34s - loss: 0.0151 - acc: 0.99 - ETA: 34s - loss: 0.0148 - acc: 0.99 - ETA: 33s - loss: 0.0145 - acc: 0.99 - ETA: 32s - loss: 0.0143 - acc: 0.99 - ETA: 31s - loss: 0.0141 - acc: 0.99 - ETA: 31s - loss: 0.0162 - acc: 0.99 - ETA: 30s - loss: 0.0159 - acc: 0.99 - ETA: 29s - loss: 0.0157 - acc: 0.99 - ETA: 28s - loss: 0.0155 - acc: 0.99 - ETA: 28s - loss: 0.0175 - acc: 0.99 - ETA: 27s - loss: 0.0173 - acc: 0.99 - ETA: 26s - loss: 0.0170 - acc: 0.99 - ETA: 25s - loss: 0.0168 - acc: 0.99 - ETA: 25s - loss: 0.0170 - acc: 0.99 - ETA: 24s - loss: 0.0167 - acc: 0.99 - ETA: 23s - loss: 0.0168 - acc: 0.99 - ETA: 23s - loss: 0.0172 - acc: 0.99 - ETA: 22s - loss: 0.0171 - acc: 0.99 - ETA: 21s - loss: 0.0169 - acc: 0.99 - ETA: 20s - loss: 0.0166 - acc: 0.99 - ETA: 20s - loss: 0.0176 - acc: 0.99 - ETA: 19s - loss: 0.0174 - acc: 0.99 - ETA: 18s - loss: 0.0174 - acc: 0.99 - ETA: 17s - loss: 0.0174 - acc: 0.99 - ETA: 17s - loss: 0.0173 - acc: 0.99 - ETA: 16s - loss: 0.0179 - acc: 0.99 - ETA: 15s - loss: 0.0178 - acc: 0.99 - ETA: 14s - loss: 0.0176 - acc: 0.99 - ETA: 14s - loss: 0.0180 - acc: 0.99 - ETA: 13s - loss: 0.0179 - acc: 0.99 - ETA: 12s - loss: 0.0177 - acc: 0.99 - ETA: 11s - loss: 0.0175 - acc: 0.99 - ETA: 11s - loss: 0.0173 - acc: 0.99 - ETA: 10s - loss: 0.0172 - acc: 0.99 - ETA: 9s - loss: 0.0171 - acc: 0.9952 - ETA: 8s - loss: 0.0169 - acc: 0.995 - ETA: 8s - loss: 0.0167 - acc: 0.995 - ETA: 7s - loss: 0.0166 - acc: 0.995 - ETA: 6s - loss: 0.0170 - acc: 0.995 - ETA: 5s - loss: 0.0169 - acc: 0.995 - ETA: 5s - loss: 0.0168 - acc: 0.995 - ETA: 4s - loss: 0.0167 - acc: 0.995 - ETA: 3s - loss: 0.0177 - acc: 0.995 - ETA: 2s - loss: 0.0178 - acc: 0.995 - ETA: 2s - loss: 0.0177 - acc: 0.995 - ETA: 1s - loss: 0.0175 - acc: 0.995 - ETA: 0s - loss: 0.0184 - acc: 0.994 - 78s 13ms/step - loss: 0.0183 - acc: 0.9947 - val_loss: 0.6463 - val_acc: 0.8676\n"
     ]
    }
   ],
   "source": [
    "history = model.fit(x_train, y_train, nb_epoch=10, batch_size=64,validation_data=(x_test,y_test))"
   ]
  },
  {
   "cell_type": "code",
   "execution_count": 68,
   "metadata": {},
   "outputs": [
    {
     "name": "stdout",
     "output_type": "stream",
     "text": [
      "Accuracy: 86.76%\n"
     ]
    }
   ],
   "source": [
    "# Final evaluation of the model\n",
    "scores = model.evaluate(x_test, y_test, verbose=0)\n",
    "print(\"Accuracy: %.2f%%\" % (scores[1]*100))"
   ]
  },
  {
   "cell_type": "code",
   "execution_count": 69,
   "metadata": {},
   "outputs": [
    {
     "data": {
      "image/png": "[encoded data removed]",
      "text/plain": [
       "<Figure size 432x288 with 1 Axes>"
      ]
     },
     "metadata": {
      "needs_background": "light"
     },
     "output_type": "display_data"
    }
   ],
   "source": [
    "val_loss=history.history['val_loss']\n",
    "loss=history.history['loss']\n",
    "plt.plot(val_loss)\n",
    "plt.plot(loss)\n",
    "plt.legend([\"Validation loss\",\"Training loss\"])\n",
    "plt.xlabel(\"No of Epochs\")\n",
    "plt.ylabel(\"Loss\")\n",
    "plt.title(\"Loss Vs Epochs\")\n",
    "plt.show()"
   ]
  },
  {
   "cell_type": "code",
   "execution_count": 73,
   "metadata": {},
   "outputs": [
    {
     "name": "stdout",
     "output_type": "stream",
     "text": [
      "+------------+----------+----------+----------------+\n",
      "| No of LSTM |  units   | Accuracy |    comment     |\n",
      "+------------+----------+----------+----------------+\n",
      "|     1      |   100    |   85.44  | with all words |\n",
      "|     1      |   100    |   87.12% | top 5000 words |\n",
      "|     2      | 100,100  |  87.40%  | top 5000 words |\n",
      "|     3      | 32,64,32 |  86.76%  | top 5000 wrods |\n",
      "+------------+----------+----------+----------------+\n"
     ]
    }
   ],
   "source": [
    "from prettytable import PrettyTable\n",
    "x=PrettyTable()\n",
    "x.field_names=['No of LSTM','units','Accuracy',\"comment\"]\n",
    "x.add_row(['1','100','  85.44',\"with all words\"])\n",
    "x.add_row(['1','100','  87.12%','top 5000 words'])\n",
    "x.add_row(['2','100,100',' 87.40%',\"top 5000 words\"])\n",
    "x.add_row(['3','32,64,32',' 86.76%',\"top 5000 wrods\"])\n",
    "print(x)"
   ]
  },
  {
   "cell_type": "markdown",
   "metadata": {},
   "source": [
    "Conclusion : \n",
    "1. From the above table we can see that we are getting maximum accuracy for 3rd architecture.\n",
    "2. In all the architecture as the number of epochs increases model starts to overfitt, as with epoch the gap between train and cv loss increases.    "
   ]
  },
  {
   "cell_type": "markdown",
   "metadata": {},
   "source": [
    "Steps taken :\n",
    "1. Load the dataset.\n",
    "2. Preprocess the dataset.\n",
    "3. Create the vocabulary.\n",
    "4. Create the dictionary.\n",
    "5. Convert the given dataset into numerical representation.\n",
    "6. Define the architecture of the LSTM model.\n",
    "7. Complie the model.\n",
    "8. Execute the model for 10 epochs.\n",
    "9. Plot the graph between train and cross validation accuracy.\n",
    "10. use different-different architecture."
   ]
  }
 ],
 "metadata": {
  "colab": {
   "name": "04 Amazon Fine Food Reviews Analysis_NaiveBayes.ipynb",
   "provenance": [],
   "version": "0.3.2"
  },
  "kernelspec": {
   "display_name": "Python 3",
   "language": "python",
   "name": "python3"
  },
  "language_info": {
   "codemirror_mode": {
    "name": "ipython",
    "version": 3
   },
   "file_extension": ".py",
   "mimetype": "text/x-python",
   "name": "python",
   "nbconvert_exporter": "python",
   "pygments_lexer": "ipython3",
   "version": "3.6.1"
  }
 },
 "nbformat": 4,
 "nbformat_minor": 1
}
